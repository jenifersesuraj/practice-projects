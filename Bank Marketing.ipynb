{
 "cells": [
  {
   "cell_type": "markdown",
   "id": "9f953745",
   "metadata": {},
   "source": [
    "# BANK MARKETING: "
   ]
  },
  {
   "cell_type": "markdown",
   "id": "6f16b590",
   "metadata": {},
   "source": [
    "BANK MARKETING: Predicting Whether The Customer Will Subscribe To Term Deposit (FIXED DEPOSIT) or not."
   ]
  },
  {
   "cell_type": "markdown",
   "id": "8f30a586",
   "metadata": {},
   "source": [
    "Business Use Case\n",
    "There has been a revenue decline for a Portuguese bank and they would like to know what actions to take. After investigation, they found out that the root cause is that their clients are not depositing as frequently as before. Knowing that term deposits allow banks to hold onto a deposit for a specific amount of time, so banks can invest in higher gain financial products to make a profit. In addition, banks also hold better chance to persuade term deposit clients into buying other products such as funds or insurance to further increase their revenues. As a result, the Portuguese bank would like to identify existing clients that have higher chance to subscribe for a term deposit and focus marketing efforts on such clients.\n"
   ]
  },
  {
   "cell_type": "markdown",
   "id": "2bb9f588",
   "metadata": {},
   "source": [
    "Project Description"
   ]
  },
  {
   "cell_type": "markdown",
   "id": "535b6c6d",
   "metadata": {},
   "source": [
    "Your client is a retail banking institution. Term deposits are a major source of income for a bank. A term deposit is a cash investment held at a financial institution. Your money is invested for an agreed rate of interest over a fixed amount of time, or term. The bank has various outreach plans to sell term deposits to their customers such as email marketing, advertisements, telephonic marketing and digital marketing. Telephonic marketing campaigns still remain one of the most effective way to reach out to people. However, they require huge investment as large call centers are hired to actually execute these campaigns. Hence, it is crucial to identify the customers most likely to convert beforehand so that they can be specifically targeted via call.\n",
    "You are provided with the client data such as : age of the client, their job type, their marital status, etc. Along with the client data, you are also provided with the information of the call such as the duration of the call, day and month of the call, etc. Given this information, your task is to predict if the client will subscribe to term deposit.\n"
   ]
  },
  {
   "cell_type": "markdown",
   "id": "9ecbd4d7",
   "metadata": {},
   "source": [
    "About The Dataset"
   ]
  },
  {
   "cell_type": "markdown",
   "id": "21ae277b",
   "metadata": {},
   "source": [
    "The dataset is related with direct marketing campaigns (phone calls) of a Portuguese banking institution. The classification goal of this dataset is to predict if the client or the customer of polish banking institution will subscribe a term deposit product of the bank or not. \n",
    "\n",
    "\n",
    "\n",
    "You are provided with following 2 files:\n",
    "1.     train.csv : Use this dataset to train the model. This file contains all the client and call details as well as the target variable “subscribed”. You have to train your model using this file.\n",
    "2.     test.csv : Use the trained model to predict whether a new set of clients will subscribe the term deposit.\n"
   ]
  },
  {
   "cell_type": "markdown",
   "id": "56be4e02",
   "metadata": {},
   "source": [
    "Dataset Attributes"
   ]
  },
  {
   "cell_type": "markdown",
   "id": "c09c3736",
   "metadata": {},
   "source": [
    "Here is the description of all the variables:\n",
    "•\tVariable: Definition\n",
    "•\tID: Unique client ID\n",
    "•\tage: Age of the client\n",
    "•\tjob: Type of job\n",
    "•\tmarital: Marital status of the client\n",
    "•\teducation: Education level\n",
    "•\tdefault: Credit in default.\n",
    "•\thousing: Housing loan\n",
    "•\tloan: Personal loan\n",
    "•\tcontact: Type of communication\n",
    "•\tmonth: Contact month\n",
    "•\tday_of_week: Day of week of contact\n",
    "•\tduration: Contact duration\n",
    "•\tcampaign: number of contacts performed during this campaign to the client\n",
    "•\tpdays: number of days that passed by after the client was last contacted\n",
    "•\tprevious: number of contacts performed before this campaign\n",
    "•\tpoutcome: outcome of the previous marketing campaign\n"
   ]
  },
  {
   "cell_type": "markdown",
   "id": "d5e9c13e",
   "metadata": {},
   "source": [
    "Output variable (desired target):\n",
    "•\tSubscribed (target): has the client subscribed a term deposit? (YES/NO)"
   ]
  },
  {
   "cell_type": "markdown",
   "id": "78144011",
   "metadata": {},
   "source": [
    "After reading the problem statement we can say that it is a Binary Classification-supervised machine learning"
   ]
  },
  {
   "cell_type": "markdown",
   "id": "d1ca239c",
   "metadata": {},
   "source": [
    "\n",
    "# 1] EXPLORING DATASET- Training dataset-df,Test data-test_df\n"
   ]
  },
  {
   "cell_type": "code",
   "execution_count": 559,
   "id": "e2a39b4e",
   "metadata": {},
   "outputs": [],
   "source": [
    "#Importing necessary libraries for analysis:\n",
    "import pandas as pd\n",
    "import numpy as np\n",
    "import seaborn as sns\n",
    "import matplotlib.pyplot as plt\n",
    "%matplotlib inline\n",
    "import warnings \n",
    "warnings.filterwarnings('ignore')"
   ]
  },
  {
   "cell_type": "code",
   "execution_count": 560,
   "id": "f50dcc18",
   "metadata": {},
   "outputs": [],
   "source": [
    "#Downloading the raw data and loading into dataframe with the help of pandas library:- Training data\n",
    "df=pd.read_csv(\"https://raw.githubusercontent.com/FlipRoboTechnologies/ML-Datasets/main/Bank%20Marketing/termdeposit_train.csv\")"
   ]
  },
  {
   "cell_type": "code",
   "execution_count": 561,
   "id": "9d36e49d",
   "metadata": {},
   "outputs": [],
   "source": [
    "#Downloading the raw data and loading into dataframe with the help of pandas library:- Test data\n",
    "test_df=pd.read_csv(\"https://raw.githubusercontent.com/FlipRoboTechnologies/ML-Datasets/main/Bank%20Marketing/termdeposit_test.csv\")"
   ]
  },
  {
   "cell_type": "code",
   "execution_count": 562,
   "id": "fa4bf458",
   "metadata": {},
   "outputs": [
    {
     "data": {
      "text/html": [
       "<div>\n",
       "<style scoped>\n",
       "    .dataframe tbody tr th:only-of-type {\n",
       "        vertical-align: middle;\n",
       "    }\n",
       "\n",
       "    .dataframe tbody tr th {\n",
       "        vertical-align: top;\n",
       "    }\n",
       "\n",
       "    .dataframe thead th {\n",
       "        text-align: right;\n",
       "    }\n",
       "</style>\n",
       "<table border=\"1\" class=\"dataframe\">\n",
       "  <thead>\n",
       "    <tr style=\"text-align: right;\">\n",
       "      <th></th>\n",
       "      <th>ID</th>\n",
       "      <th>age</th>\n",
       "      <th>job</th>\n",
       "      <th>marital</th>\n",
       "      <th>education</th>\n",
       "      <th>default</th>\n",
       "      <th>balance</th>\n",
       "      <th>housing</th>\n",
       "      <th>loan</th>\n",
       "      <th>contact</th>\n",
       "      <th>day</th>\n",
       "      <th>month</th>\n",
       "      <th>duration</th>\n",
       "      <th>campaign</th>\n",
       "      <th>pdays</th>\n",
       "      <th>previous</th>\n",
       "      <th>poutcome</th>\n",
       "      <th>subscribed</th>\n",
       "    </tr>\n",
       "  </thead>\n",
       "  <tbody>\n",
       "    <tr>\n",
       "      <th>0</th>\n",
       "      <td>26110</td>\n",
       "      <td>56</td>\n",
       "      <td>admin.</td>\n",
       "      <td>married</td>\n",
       "      <td>unknown</td>\n",
       "      <td>no</td>\n",
       "      <td>1933</td>\n",
       "      <td>no</td>\n",
       "      <td>no</td>\n",
       "      <td>telephone</td>\n",
       "      <td>19</td>\n",
       "      <td>nov</td>\n",
       "      <td>44</td>\n",
       "      <td>2</td>\n",
       "      <td>-1</td>\n",
       "      <td>0</td>\n",
       "      <td>unknown</td>\n",
       "      <td>no</td>\n",
       "    </tr>\n",
       "    <tr>\n",
       "      <th>1</th>\n",
       "      <td>40576</td>\n",
       "      <td>31</td>\n",
       "      <td>unknown</td>\n",
       "      <td>married</td>\n",
       "      <td>secondary</td>\n",
       "      <td>no</td>\n",
       "      <td>3</td>\n",
       "      <td>no</td>\n",
       "      <td>no</td>\n",
       "      <td>cellular</td>\n",
       "      <td>20</td>\n",
       "      <td>jul</td>\n",
       "      <td>91</td>\n",
       "      <td>2</td>\n",
       "      <td>-1</td>\n",
       "      <td>0</td>\n",
       "      <td>unknown</td>\n",
       "      <td>no</td>\n",
       "    </tr>\n",
       "    <tr>\n",
       "      <th>2</th>\n",
       "      <td>15320</td>\n",
       "      <td>27</td>\n",
       "      <td>services</td>\n",
       "      <td>married</td>\n",
       "      <td>secondary</td>\n",
       "      <td>no</td>\n",
       "      <td>891</td>\n",
       "      <td>yes</td>\n",
       "      <td>no</td>\n",
       "      <td>cellular</td>\n",
       "      <td>18</td>\n",
       "      <td>jul</td>\n",
       "      <td>240</td>\n",
       "      <td>1</td>\n",
       "      <td>-1</td>\n",
       "      <td>0</td>\n",
       "      <td>unknown</td>\n",
       "      <td>no</td>\n",
       "    </tr>\n",
       "    <tr>\n",
       "      <th>3</th>\n",
       "      <td>43962</td>\n",
       "      <td>57</td>\n",
       "      <td>management</td>\n",
       "      <td>divorced</td>\n",
       "      <td>tertiary</td>\n",
       "      <td>no</td>\n",
       "      <td>3287</td>\n",
       "      <td>no</td>\n",
       "      <td>no</td>\n",
       "      <td>cellular</td>\n",
       "      <td>22</td>\n",
       "      <td>jun</td>\n",
       "      <td>867</td>\n",
       "      <td>1</td>\n",
       "      <td>84</td>\n",
       "      <td>3</td>\n",
       "      <td>success</td>\n",
       "      <td>yes</td>\n",
       "    </tr>\n",
       "    <tr>\n",
       "      <th>4</th>\n",
       "      <td>29842</td>\n",
       "      <td>31</td>\n",
       "      <td>technician</td>\n",
       "      <td>married</td>\n",
       "      <td>secondary</td>\n",
       "      <td>no</td>\n",
       "      <td>119</td>\n",
       "      <td>yes</td>\n",
       "      <td>no</td>\n",
       "      <td>cellular</td>\n",
       "      <td>4</td>\n",
       "      <td>feb</td>\n",
       "      <td>380</td>\n",
       "      <td>1</td>\n",
       "      <td>-1</td>\n",
       "      <td>0</td>\n",
       "      <td>unknown</td>\n",
       "      <td>no</td>\n",
       "    </tr>\n",
       "  </tbody>\n",
       "</table>\n",
       "</div>"
      ],
      "text/plain": [
       "      ID  age         job   marital  education default  balance housing loan  \\\n",
       "0  26110   56      admin.   married    unknown      no     1933      no   no   \n",
       "1  40576   31     unknown   married  secondary      no        3      no   no   \n",
       "2  15320   27    services   married  secondary      no      891     yes   no   \n",
       "3  43962   57  management  divorced   tertiary      no     3287      no   no   \n",
       "4  29842   31  technician   married  secondary      no      119     yes   no   \n",
       "\n",
       "     contact  day month  duration  campaign  pdays  previous poutcome  \\\n",
       "0  telephone   19   nov        44         2     -1         0  unknown   \n",
       "1   cellular   20   jul        91         2     -1         0  unknown   \n",
       "2   cellular   18   jul       240         1     -1         0  unknown   \n",
       "3   cellular   22   jun       867         1     84         3  success   \n",
       "4   cellular    4   feb       380         1     -1         0  unknown   \n",
       "\n",
       "  subscribed  \n",
       "0         no  \n",
       "1         no  \n",
       "2         no  \n",
       "3        yes  \n",
       "4         no  "
      ]
     },
     "execution_count": 562,
     "metadata": {},
     "output_type": "execute_result"
    }
   ],
   "source": [
    "#For viewing the first 5 columns in given  training dataset\n",
    "df.head(5)"
   ]
  },
  {
   "cell_type": "code",
   "execution_count": 563,
   "id": "c716d75d",
   "metadata": {},
   "outputs": [
    {
     "data": {
      "text/html": [
       "<div>\n",
       "<style scoped>\n",
       "    .dataframe tbody tr th:only-of-type {\n",
       "        vertical-align: middle;\n",
       "    }\n",
       "\n",
       "    .dataframe tbody tr th {\n",
       "        vertical-align: top;\n",
       "    }\n",
       "\n",
       "    .dataframe thead th {\n",
       "        text-align: right;\n",
       "    }\n",
       "</style>\n",
       "<table border=\"1\" class=\"dataframe\">\n",
       "  <thead>\n",
       "    <tr style=\"text-align: right;\">\n",
       "      <th></th>\n",
       "      <th>ID</th>\n",
       "      <th>age</th>\n",
       "      <th>job</th>\n",
       "      <th>marital</th>\n",
       "      <th>education</th>\n",
       "      <th>default</th>\n",
       "      <th>balance</th>\n",
       "      <th>housing</th>\n",
       "      <th>loan</th>\n",
       "      <th>contact</th>\n",
       "      <th>day</th>\n",
       "      <th>month</th>\n",
       "      <th>duration</th>\n",
       "      <th>campaign</th>\n",
       "      <th>pdays</th>\n",
       "      <th>previous</th>\n",
       "      <th>poutcome</th>\n",
       "    </tr>\n",
       "  </thead>\n",
       "  <tbody>\n",
       "    <tr>\n",
       "      <th>0</th>\n",
       "      <td>38441</td>\n",
       "      <td>32</td>\n",
       "      <td>services</td>\n",
       "      <td>married</td>\n",
       "      <td>secondary</td>\n",
       "      <td>no</td>\n",
       "      <td>118</td>\n",
       "      <td>yes</td>\n",
       "      <td>no</td>\n",
       "      <td>cellular</td>\n",
       "      <td>15</td>\n",
       "      <td>may</td>\n",
       "      <td>20</td>\n",
       "      <td>6</td>\n",
       "      <td>-1</td>\n",
       "      <td>0</td>\n",
       "      <td>unknown</td>\n",
       "    </tr>\n",
       "    <tr>\n",
       "      <th>1</th>\n",
       "      <td>40403</td>\n",
       "      <td>78</td>\n",
       "      <td>retired</td>\n",
       "      <td>divorced</td>\n",
       "      <td>primary</td>\n",
       "      <td>no</td>\n",
       "      <td>2787</td>\n",
       "      <td>no</td>\n",
       "      <td>no</td>\n",
       "      <td>telephone</td>\n",
       "      <td>1</td>\n",
       "      <td>jul</td>\n",
       "      <td>372</td>\n",
       "      <td>1</td>\n",
       "      <td>-1</td>\n",
       "      <td>0</td>\n",
       "      <td>unknown</td>\n",
       "    </tr>\n",
       "    <tr>\n",
       "      <th>2</th>\n",
       "      <td>3709</td>\n",
       "      <td>31</td>\n",
       "      <td>self-employed</td>\n",
       "      <td>single</td>\n",
       "      <td>tertiary</td>\n",
       "      <td>no</td>\n",
       "      <td>144</td>\n",
       "      <td>yes</td>\n",
       "      <td>no</td>\n",
       "      <td>unknown</td>\n",
       "      <td>16</td>\n",
       "      <td>may</td>\n",
       "      <td>676</td>\n",
       "      <td>1</td>\n",
       "      <td>-1</td>\n",
       "      <td>0</td>\n",
       "      <td>unknown</td>\n",
       "    </tr>\n",
       "    <tr>\n",
       "      <th>3</th>\n",
       "      <td>37422</td>\n",
       "      <td>57</td>\n",
       "      <td>services</td>\n",
       "      <td>single</td>\n",
       "      <td>primary</td>\n",
       "      <td>no</td>\n",
       "      <td>3777</td>\n",
       "      <td>yes</td>\n",
       "      <td>no</td>\n",
       "      <td>telephone</td>\n",
       "      <td>13</td>\n",
       "      <td>may</td>\n",
       "      <td>65</td>\n",
       "      <td>2</td>\n",
       "      <td>-1</td>\n",
       "      <td>0</td>\n",
       "      <td>unknown</td>\n",
       "    </tr>\n",
       "    <tr>\n",
       "      <th>4</th>\n",
       "      <td>12527</td>\n",
       "      <td>45</td>\n",
       "      <td>blue-collar</td>\n",
       "      <td>divorced</td>\n",
       "      <td>secondary</td>\n",
       "      <td>no</td>\n",
       "      <td>-705</td>\n",
       "      <td>no</td>\n",
       "      <td>yes</td>\n",
       "      <td>unknown</td>\n",
       "      <td>3</td>\n",
       "      <td>jul</td>\n",
       "      <td>111</td>\n",
       "      <td>1</td>\n",
       "      <td>-1</td>\n",
       "      <td>0</td>\n",
       "      <td>unknown</td>\n",
       "    </tr>\n",
       "  </tbody>\n",
       "</table>\n",
       "</div>"
      ],
      "text/plain": [
       "      ID  age            job   marital  education default  balance housing  \\\n",
       "0  38441   32       services   married  secondary      no      118     yes   \n",
       "1  40403   78        retired  divorced    primary      no     2787      no   \n",
       "2   3709   31  self-employed    single   tertiary      no      144     yes   \n",
       "3  37422   57       services    single    primary      no     3777     yes   \n",
       "4  12527   45    blue-collar  divorced  secondary      no     -705      no   \n",
       "\n",
       "  loan    contact  day month  duration  campaign  pdays  previous poutcome  \n",
       "0   no   cellular   15   may        20         6     -1         0  unknown  \n",
       "1   no  telephone    1   jul       372         1     -1         0  unknown  \n",
       "2   no    unknown   16   may       676         1     -1         0  unknown  \n",
       "3   no  telephone   13   may        65         2     -1         0  unknown  \n",
       "4  yes    unknown    3   jul       111         1     -1         0  unknown  "
      ]
     },
     "execution_count": 563,
     "metadata": {},
     "output_type": "execute_result"
    }
   ],
   "source": [
    "# For viewing the first 5 columns in the test dataset:\n",
    "test_df.head(5)"
   ]
  },
  {
   "cell_type": "markdown",
   "id": "17f01428",
   "metadata": {},
   "source": [
    "Subscribed- Dependent Feature present in the training dataset not in test dataset.\n",
    "\n",
    "We will analyse the training data and following the same for the test data."
   ]
  },
  {
   "cell_type": "code",
   "execution_count": 564,
   "id": "84aac1e8",
   "metadata": {},
   "outputs": [
    {
     "data": {
      "text/plain": [
       "(31647, 18)"
      ]
     },
     "execution_count": 564,
     "metadata": {},
     "output_type": "execute_result"
    }
   ],
   "source": [
    "#To know about the no of rows and columns in the dataset\n",
    "df.shape"
   ]
  },
  {
   "cell_type": "markdown",
   "id": "b6dd1b27",
   "metadata": {},
   "source": [
    "There are 31647 rows and 18 columns in the given dataset."
   ]
  },
  {
   "cell_type": "code",
   "execution_count": 565,
   "id": "56493a15",
   "metadata": {},
   "outputs": [
    {
     "name": "stdout",
     "output_type": "stream",
     "text": [
      "<class 'pandas.core.frame.DataFrame'>\n",
      "RangeIndex: 31647 entries, 0 to 31646\n",
      "Data columns (total 18 columns):\n",
      " #   Column      Non-Null Count  Dtype \n",
      "---  ------      --------------  ----- \n",
      " 0   ID          31647 non-null  int64 \n",
      " 1   age         31647 non-null  int64 \n",
      " 2   job         31647 non-null  object\n",
      " 3   marital     31647 non-null  object\n",
      " 4   education   31647 non-null  object\n",
      " 5   default     31647 non-null  object\n",
      " 6   balance     31647 non-null  int64 \n",
      " 7   housing     31647 non-null  object\n",
      " 8   loan        31647 non-null  object\n",
      " 9   contact     31647 non-null  object\n",
      " 10  day         31647 non-null  int64 \n",
      " 11  month       31647 non-null  object\n",
      " 12  duration    31647 non-null  int64 \n",
      " 13  campaign    31647 non-null  int64 \n",
      " 14  pdays       31647 non-null  int64 \n",
      " 15  previous    31647 non-null  int64 \n",
      " 16  poutcome    31647 non-null  object\n",
      " 17  subscribed  31647 non-null  object\n",
      "dtypes: int64(8), object(10)\n",
      "memory usage: 4.3+ MB\n"
     ]
    }
   ],
   "source": [
    "#To know more about the dataset\n",
    "df.info()"
   ]
  },
  {
   "cell_type": "markdown",
   "id": "6894a329",
   "metadata": {},
   "source": [
    "From we can get clear information about the column datatypes.\n",
    "There are 10 Categorical columns in the dataset:\n",
    "\n",
    "1)Subscribed- output/depedent feature\n",
    "2)poutcome\n",
    "3)month\n",
    "4)contact\n",
    "5)loan\n",
    "6)housing\n",
    "7)default\n",
    "8)eduation\n",
    "9)job\n",
    "10)marital\n",
    "\n",
    "There are 8 Numerical columns:\n",
    "\n",
    "1)ID\n",
    "2)Age\n",
    "3)Balance\n",
    "4)day\n",
    "5)duration\n",
    "6)campaign\n",
    "7)pdays\n",
    "8)previous\n"
   ]
  },
  {
   "cell_type": "markdown",
   "id": "074f1d4d",
   "metadata": {},
   "source": [
    "To analyse how many unique values in the categorical columns in the dataset."
   ]
  },
  {
   "cell_type": "code",
   "execution_count": 566,
   "id": "d1af47ec",
   "metadata": {},
   "outputs": [
    {
     "name": "stdout",
     "output_type": "stream",
     "text": [
      "['admin.' 'unknown' 'services' 'management' 'technician' 'retired'\n",
      " 'blue-collar' 'housemaid' 'self-employed' 'student' 'entrepreneur'\n",
      " 'unemployed']\n"
     ]
    },
    {
     "data": {
      "text/plain": [
       "12"
      ]
     },
     "execution_count": 566,
     "metadata": {},
     "output_type": "execute_result"
    }
   ],
   "source": [
    "print(df[\"job\"].unique())\n",
    "len(df[\"job\"].unique())"
   ]
  },
  {
   "cell_type": "markdown",
   "id": "4c8b117a",
   "metadata": {},
   "source": [
    "There are 12 unique categories in the job column."
   ]
  },
  {
   "cell_type": "code",
   "execution_count": 567,
   "id": "55d1c3cd",
   "metadata": {},
   "outputs": [
    {
     "data": {
      "text/plain": [
       "array(['unknown', 'success', 'failure', 'other'], dtype=object)"
      ]
     },
     "execution_count": 567,
     "metadata": {},
     "output_type": "execute_result"
    }
   ],
   "source": [
    "df[\"poutcome\"].unique()"
   ]
  },
  {
   "cell_type": "markdown",
   "id": "003fc25b",
   "metadata": {},
   "source": [
    "There are 4 categories in the poutcome column."
   ]
  },
  {
   "cell_type": "code",
   "execution_count": 568,
   "id": "b98269d9",
   "metadata": {},
   "outputs": [
    {
     "name": "stdout",
     "output_type": "stream",
     "text": [
      "['nov' 'jul' 'jun' 'feb' 'sep' 'jan' 'may' 'aug' 'apr' 'oct' 'mar' 'dec']\n"
     ]
    },
    {
     "data": {
      "text/plain": [
       "12"
      ]
     },
     "execution_count": 568,
     "metadata": {},
     "output_type": "execute_result"
    }
   ],
   "source": [
    "print(df[\"month\"].unique())\n",
    "len(df[\"month\"].unique())"
   ]
  },
  {
   "cell_type": "markdown",
   "id": "d2c1666f",
   "metadata": {},
   "source": [
    "There are 12 months mention in the month column."
   ]
  },
  {
   "cell_type": "code",
   "execution_count": 569,
   "id": "d71df753",
   "metadata": {},
   "outputs": [
    {
     "data": {
      "text/plain": [
       "array(['unknown', 'secondary', 'tertiary', 'primary'], dtype=object)"
      ]
     },
     "execution_count": 569,
     "metadata": {},
     "output_type": "execute_result"
    }
   ],
   "source": [
    "df[\"education\"].unique() "
   ]
  },
  {
   "cell_type": "markdown",
   "id": "18b320b0",
   "metadata": {},
   "source": [
    "There are 4 categories in the education column."
   ]
  },
  {
   "cell_type": "code",
   "execution_count": 570,
   "id": "df8c6923",
   "metadata": {},
   "outputs": [
    {
     "data": {
      "text/plain": [
       "array(['telephone', 'cellular', 'unknown'], dtype=object)"
      ]
     },
     "execution_count": 570,
     "metadata": {},
     "output_type": "execute_result"
    }
   ],
   "source": [
    "df[\"contact\"].unique() "
   ]
  },
  {
   "cell_type": "markdown",
   "id": "a73353eb",
   "metadata": {},
   "source": [
    "There are 3 categories in the contact column."
   ]
  },
  {
   "cell_type": "code",
   "execution_count": 571,
   "id": "fefef9ed",
   "metadata": {},
   "outputs": [
    {
     "data": {
      "text/plain": [
       "array(['married', 'divorced', 'single'], dtype=object)"
      ]
     },
     "execution_count": 571,
     "metadata": {},
     "output_type": "execute_result"
    }
   ],
   "source": [
    "df[\"marital\"].unique() "
   ]
  },
  {
   "cell_type": "markdown",
   "id": "125f389a",
   "metadata": {},
   "source": [
    "There are 3 categories in the marital column."
   ]
  },
  {
   "cell_type": "code",
   "execution_count": 572,
   "id": "47e36b68",
   "metadata": {},
   "outputs": [
    {
     "data": {
      "text/plain": [
       "array(['no', 'yes'], dtype=object)"
      ]
     },
     "execution_count": 572,
     "metadata": {},
     "output_type": "execute_result"
    }
   ],
   "source": [
    "df[\"subscribed\"].unique()"
   ]
  },
  {
   "cell_type": "code",
   "execution_count": 573,
   "id": "0c48fdaa",
   "metadata": {},
   "outputs": [
    {
     "data": {
      "text/plain": [
       "array(['no', 'yes'], dtype=object)"
      ]
     },
     "execution_count": 573,
     "metadata": {},
     "output_type": "execute_result"
    }
   ],
   "source": [
    "df[\"housing\"].unique()"
   ]
  },
  {
   "cell_type": "code",
   "execution_count": 574,
   "id": "08e8a0e9",
   "metadata": {},
   "outputs": [
    {
     "data": {
      "text/plain": [
       "array(['no', 'yes'], dtype=object)"
      ]
     },
     "execution_count": 574,
     "metadata": {},
     "output_type": "execute_result"
    }
   ],
   "source": [
    "df[\"default\"].unique() "
   ]
  },
  {
   "cell_type": "code",
   "execution_count": 575,
   "id": "e38b2d6c",
   "metadata": {},
   "outputs": [
    {
     "data": {
      "text/plain": [
       "array(['no', 'yes'], dtype=object)"
      ]
     },
     "execution_count": 575,
     "metadata": {},
     "output_type": "execute_result"
    }
   ],
   "source": [
    "df[\"loan\"].unique() "
   ]
  },
  {
   "cell_type": "markdown",
   "id": "5f5010fd",
   "metadata": {},
   "source": [
    "In the columns housing,subscribed,default,loan - two categories present in it."
   ]
  },
  {
   "cell_type": "markdown",
   "id": "7d538980",
   "metadata": {},
   "source": [
    "From this exploration we can have basic information about the dataset and the datatypes in the columns."
   ]
  },
  {
   "cell_type": "markdown",
   "id": "8c49a95f",
   "metadata": {},
   "source": [
    "# 2] ANALYSING  AND VISUALISATION OF THE DATASET"
   ]
  },
  {
   "cell_type": "markdown",
   "id": "ffcf3099",
   "metadata": {},
   "source": [
    "1)Identifying the missing values:"
   ]
  },
  {
   "cell_type": "code",
   "execution_count": 576,
   "id": "87f9f784",
   "metadata": {},
   "outputs": [
    {
     "data": {
      "text/plain": [
       "ID            0\n",
       "age           0\n",
       "job           0\n",
       "marital       0\n",
       "education     0\n",
       "default       0\n",
       "balance       0\n",
       "housing       0\n",
       "loan          0\n",
       "contact       0\n",
       "day           0\n",
       "month         0\n",
       "duration      0\n",
       "campaign      0\n",
       "pdays         0\n",
       "previous      0\n",
       "poutcome      0\n",
       "subscribed    0\n",
       "dtype: int64"
      ]
     },
     "execution_count": 576,
     "metadata": {},
     "output_type": "execute_result"
    }
   ],
   "source": [
    "#To know about the missing values in the given dataset\n",
    "df.isnull().sum()"
   ]
  },
  {
   "cell_type": "markdown",
   "id": "82670f04",
   "metadata": {},
   "source": [
    "There are no missing values in the dataset."
   ]
  },
  {
   "cell_type": "code",
   "execution_count": 577,
   "id": "6d90f37d",
   "metadata": {},
   "outputs": [
    {
     "data": {
      "text/plain": [
       "ID           0\n",
       "age          0\n",
       "job          0\n",
       "marital      0\n",
       "education    0\n",
       "default      0\n",
       "balance      0\n",
       "housing      0\n",
       "loan         0\n",
       "contact      0\n",
       "day          0\n",
       "month        0\n",
       "duration     0\n",
       "campaign     0\n",
       "pdays        0\n",
       "previous     0\n",
       "poutcome     0\n",
       "dtype: int64"
      ]
     },
     "execution_count": 577,
     "metadata": {},
     "output_type": "execute_result"
    }
   ],
   "source": [
    "test_df.isnull().sum()"
   ]
  },
  {
   "cell_type": "markdown",
   "id": "74154501",
   "metadata": {},
   "source": [
    "In the both of the traning and test data there is no missing values in the dataset.we will futher proceed with statistical analysis for the dataset."
   ]
  },
  {
   "cell_type": "markdown",
   "id": "568e795d",
   "metadata": {},
   "source": [
    "2]Deleting the ID column: since the id number is not much influenced in the subscribed part."
   ]
  },
  {
   "cell_type": "code",
   "execution_count": 578,
   "id": "153b0e67",
   "metadata": {},
   "outputs": [],
   "source": [
    "df.drop(columns=\"ID\",axis=1,inplace=True)\n",
    "test_df.drop(columns=\"ID\",axis=1,inplace=True)"
   ]
  },
  {
   "cell_type": "markdown",
   "id": "a2d0bf5f",
   "metadata": {},
   "source": [
    "3]Analysing the dataset:"
   ]
  },
  {
   "cell_type": "code",
   "execution_count": 579,
   "id": "e69f24f3",
   "metadata": {},
   "outputs": [
    {
     "data": {
      "text/html": [
       "<div>\n",
       "<style scoped>\n",
       "    .dataframe tbody tr th:only-of-type {\n",
       "        vertical-align: middle;\n",
       "    }\n",
       "\n",
       "    .dataframe tbody tr th {\n",
       "        vertical-align: top;\n",
       "    }\n",
       "\n",
       "    .dataframe thead th {\n",
       "        text-align: right;\n",
       "    }\n",
       "</style>\n",
       "<table border=\"1\" class=\"dataframe\">\n",
       "  <thead>\n",
       "    <tr style=\"text-align: right;\">\n",
       "      <th></th>\n",
       "      <th>age</th>\n",
       "      <th>balance</th>\n",
       "      <th>day</th>\n",
       "      <th>duration</th>\n",
       "      <th>campaign</th>\n",
       "      <th>pdays</th>\n",
       "      <th>previous</th>\n",
       "    </tr>\n",
       "  </thead>\n",
       "  <tbody>\n",
       "    <tr>\n",
       "      <th>count</th>\n",
       "      <td>31647.000000</td>\n",
       "      <td>31647.000000</td>\n",
       "      <td>31647.000000</td>\n",
       "      <td>31647.000000</td>\n",
       "      <td>31647.000000</td>\n",
       "      <td>31647.000000</td>\n",
       "      <td>31647.000000</td>\n",
       "    </tr>\n",
       "    <tr>\n",
       "      <th>mean</th>\n",
       "      <td>40.957247</td>\n",
       "      <td>1363.890258</td>\n",
       "      <td>15.835466</td>\n",
       "      <td>258.113534</td>\n",
       "      <td>2.765697</td>\n",
       "      <td>39.576042</td>\n",
       "      <td>0.574272</td>\n",
       "    </tr>\n",
       "    <tr>\n",
       "      <th>std</th>\n",
       "      <td>10.625134</td>\n",
       "      <td>3028.304293</td>\n",
       "      <td>8.337097</td>\n",
       "      <td>257.118973</td>\n",
       "      <td>3.113830</td>\n",
       "      <td>99.317592</td>\n",
       "      <td>2.422529</td>\n",
       "    </tr>\n",
       "    <tr>\n",
       "      <th>min</th>\n",
       "      <td>18.000000</td>\n",
       "      <td>-8019.000000</td>\n",
       "      <td>1.000000</td>\n",
       "      <td>0.000000</td>\n",
       "      <td>1.000000</td>\n",
       "      <td>-1.000000</td>\n",
       "      <td>0.000000</td>\n",
       "    </tr>\n",
       "    <tr>\n",
       "      <th>25%</th>\n",
       "      <td>33.000000</td>\n",
       "      <td>73.000000</td>\n",
       "      <td>8.000000</td>\n",
       "      <td>104.000000</td>\n",
       "      <td>1.000000</td>\n",
       "      <td>-1.000000</td>\n",
       "      <td>0.000000</td>\n",
       "    </tr>\n",
       "    <tr>\n",
       "      <th>50%</th>\n",
       "      <td>39.000000</td>\n",
       "      <td>450.000000</td>\n",
       "      <td>16.000000</td>\n",
       "      <td>180.000000</td>\n",
       "      <td>2.000000</td>\n",
       "      <td>-1.000000</td>\n",
       "      <td>0.000000</td>\n",
       "    </tr>\n",
       "    <tr>\n",
       "      <th>75%</th>\n",
       "      <td>48.000000</td>\n",
       "      <td>1431.000000</td>\n",
       "      <td>21.000000</td>\n",
       "      <td>318.500000</td>\n",
       "      <td>3.000000</td>\n",
       "      <td>-1.000000</td>\n",
       "      <td>0.000000</td>\n",
       "    </tr>\n",
       "    <tr>\n",
       "      <th>max</th>\n",
       "      <td>95.000000</td>\n",
       "      <td>102127.000000</td>\n",
       "      <td>31.000000</td>\n",
       "      <td>4918.000000</td>\n",
       "      <td>63.000000</td>\n",
       "      <td>871.000000</td>\n",
       "      <td>275.000000</td>\n",
       "    </tr>\n",
       "  </tbody>\n",
       "</table>\n",
       "</div>"
      ],
      "text/plain": [
       "                age        balance           day      duration      campaign  \\\n",
       "count  31647.000000   31647.000000  31647.000000  31647.000000  31647.000000   \n",
       "mean      40.957247    1363.890258     15.835466    258.113534      2.765697   \n",
       "std       10.625134    3028.304293      8.337097    257.118973      3.113830   \n",
       "min       18.000000   -8019.000000      1.000000      0.000000      1.000000   \n",
       "25%       33.000000      73.000000      8.000000    104.000000      1.000000   \n",
       "50%       39.000000     450.000000     16.000000    180.000000      2.000000   \n",
       "75%       48.000000    1431.000000     21.000000    318.500000      3.000000   \n",
       "max       95.000000  102127.000000     31.000000   4918.000000     63.000000   \n",
       "\n",
       "              pdays      previous  \n",
       "count  31647.000000  31647.000000  \n",
       "mean      39.576042      0.574272  \n",
       "std       99.317592      2.422529  \n",
       "min       -1.000000      0.000000  \n",
       "25%       -1.000000      0.000000  \n",
       "50%       -1.000000      0.000000  \n",
       "75%       -1.000000      0.000000  \n",
       "max      871.000000    275.000000  "
      ]
     },
     "execution_count": 579,
     "metadata": {},
     "output_type": "execute_result"
    }
   ],
   "source": [
    "#to know more about the statistical description of the dataset\n",
    "#For only numerical columns\n",
    "df.describe()"
   ]
  },
  {
   "cell_type": "markdown",
   "id": "808d1dfe",
   "metadata": {},
   "source": [
    "OBSERVTIONS:"
   ]
  },
  {
   "cell_type": "markdown",
   "id": "e813ad0e",
   "metadata": {},
   "source": [
    "1)The count of all the columns are equal there is no missing values in the dataset.\n",
    "\n",
    "2)The mean value of these columns [age,balance,day,duration,previous]are lower that the median value.So to conclude these columns can have data distribution in the left skewed.\n",
    "\n",
    "3)The mean value of these columns[pdays] are higher than median value so to conclude these columns can have data distribution in the right skewed distribution.\n",
    "\n",
    "4)The 75% and max difference in these columns are huge in balance,duration,pdays,previous There is outlier in these columns.\n",
    "\n",
    "5)The pdays and previous columns has the same values in the minimum,25th,50th,75 th percentile represents there is not much values in these columns."
   ]
  },
  {
   "cell_type": "code",
   "execution_count": 580,
   "id": "4e12ed82",
   "metadata": {},
   "outputs": [],
   "source": [
    "#Seperating the numerical column:\n",
    "num_column=df[[\"age\",\"balance\",\"day\",\"duration\",\"campaign\",\"pdays\",\"previous\"]]"
   ]
  },
  {
   "cell_type": "code",
   "execution_count": 581,
   "id": "1123af56",
   "metadata": {},
   "outputs": [],
   "source": [
    "#Seperating the Categorical column:\n",
    "cat_column=df[[\"job\",\"marital\",\"education\",\"default\",\"housing\",\"loan\",\"contact\",\"poutcome\",\"subscribed\"]]"
   ]
  },
  {
   "cell_type": "code",
   "execution_count": 582,
   "id": "ce2b91d1",
   "metadata": {},
   "outputs": [
    {
     "data": {
      "image/png": "[encoded data removed]",
      "text/plain": [
       "<Figure size 1000x800 with 7 Axes>"
      ]
     },
     "metadata": {},
     "output_type": "display_data"
    }
   ],
   "source": [
    "#To see the distribution among the numerical columns: kde plot \n",
    "plt.figure(figsize=(10,8),facecolor=\"pink\")\n",
    "plotnumber=1\n",
    "for column in num_column:\n",
    "    if plotnumber<=7:\n",
    "        ax=plt.subplot(4,2,plotnumber)\n",
    "        sns.kdeplot(num_column[column])\n",
    "        plt.xlabel(column,fontsize=20)\n",
    "    plotnumber+=1\n",
    "plt.tight_layout()"
   ]
  },
  {
   "cell_type": "markdown",
   "id": "d512e717",
   "metadata": {},
   "source": [
    "From this visualisation we can surely say than all the columns have unsymmentric distribution of the data."
   ]
  },
  {
   "cell_type": "code",
   "execution_count": 583,
   "id": "1fe3a324",
   "metadata": {},
   "outputs": [],
   "source": [
    "#Seperating the numerical column:\n",
    "num_column2=test_df[[\"age\",\"balance\",\"day\",\"duration\",\"campaign\",\"pdays\"]]"
   ]
  },
  {
   "cell_type": "code",
   "execution_count": 584,
   "id": "17157028",
   "metadata": {},
   "outputs": [
    {
     "data": {
      "image/png": "[encoded data removed]",
      "text/plain": [
       "<Figure size 2000x1500 with 6 Axes>"
      ]
     },
     "metadata": {},
     "output_type": "display_data"
    }
   ],
   "source": [
    "#To see the distribution among the numerical columns: kde plot \n",
    "plt.figure(figsize=(20,15),facecolor=\"pink\")\n",
    "plotnumber=1\n",
    "for column in num_column2:\n",
    "    if plotnumber<=6:\n",
    "        ax=plt.subplot(3,2,plotnumber)\n",
    "        sns.kdeplot(num_column2[column])\n",
    "        plt.xlabel(column,fontsize=20)\n",
    "    plotnumber+=1\n",
    "plt.tight_layout()"
   ]
  },
  {
   "cell_type": "markdown",
   "id": "8346ca4c",
   "metadata": {},
   "source": [
    "In the test data also all the columns have unsymmentric distribution in all the columns."
   ]
  },
  {
   "cell_type": "code",
   "execution_count": 585,
   "id": "bb0e9034",
   "metadata": {},
   "outputs": [
    {
     "data": {
      "text/plain": [
       "age          0.681607\n",
       "balance      7.995696\n",
       "day          0.087185\n",
       "duration     3.199766\n",
       "campaign     4.873935\n",
       "pdays        2.642374\n",
       "previous    49.302348\n",
       "dtype: float64"
      ]
     },
     "execution_count": 585,
     "metadata": {},
     "output_type": "execute_result"
    }
   ],
   "source": [
    "df.skew()"
   ]
  },
  {
   "cell_type": "code",
   "execution_count": 586,
   "id": "4204f2f5",
   "metadata": {},
   "outputs": [],
   "source": [
    "#removing the skewness using the cuberoot method:\n",
    "df[\"age\"]=np.cbrt(df[\"age\"])\n",
    "df[\"balance\"]=np.cbrt(df[\"balance\"])\n",
    "df[\"duration\"]=np.cbrt(df[\"duration\"])\n",
    "df[\"campaign\"]=np.cbrt(df[\"campaign\"])\n",
    "df[\"pdays\"]=np.cbrt(df[\"pdays\"])"
   ]
  },
  {
   "cell_type": "code",
   "execution_count": 587,
   "id": "fe9fbd79",
   "metadata": {},
   "outputs": [],
   "source": [
    "df[\"campaign\"]=np.cbrt(df[\"campaign\"])\n",
    "df[\"pdays\"]=np.cbrt(df[\"pdays\"])"
   ]
  },
  {
   "cell_type": "code",
   "execution_count": 588,
   "id": "0223420b",
   "metadata": {},
   "outputs": [
    {
     "data": {
      "text/plain": [
       "age          0.286363\n",
       "balance     -0.086014\n",
       "day          0.087185\n",
       "duration     0.647275\n",
       "campaign     1.106599\n",
       "pdays        1.669181\n",
       "previous    49.302348\n",
       "dtype: float64"
      ]
     },
     "execution_count": 588,
     "metadata": {},
     "output_type": "execute_result"
    }
   ],
   "source": [
    "df.skew()"
   ]
  },
  {
   "cell_type": "code",
   "execution_count": 589,
   "id": "53d522bb",
   "metadata": {},
   "outputs": [
    {
     "data": {
      "text/plain": [
       "38"
      ]
     },
     "execution_count": 589,
     "metadata": {},
     "output_type": "execute_result"
    }
   ],
   "source": [
    "#Though the previous column has numerical values there is only 38 unique values in\n",
    "#the column so considering as the categorical column.\n",
    "len(df[\"previous\"].unique())"
   ]
  },
  {
   "cell_type": "code",
   "execution_count": 590,
   "id": "d679685c",
   "metadata": {},
   "outputs": [
    {
     "data": {
      "text/plain": [
       "age         0.692404\n",
       "balance     9.165015\n",
       "day         0.106806\n",
       "duration    3.017221\n",
       "campaign    4.958236\n",
       "pdays       2.555601\n",
       "previous    8.704583\n",
       "dtype: float64"
      ]
     },
     "execution_count": 590,
     "metadata": {},
     "output_type": "execute_result"
    }
   ],
   "source": [
    "test_df.skew()"
   ]
  },
  {
   "cell_type": "code",
   "execution_count": 591,
   "id": "e9b30c52",
   "metadata": {},
   "outputs": [],
   "source": [
    "#removing the skewness using the cuberoot method: For test data\n",
    "test_df[\"age\"]=np.cbrt(test_df[\"age\"])\n",
    "test_df[\"balance\"]=np.cbrt(test_df[\"balance\"])\n",
    "test_df[\"duration\"]=np.cbrt(test_df[\"duration\"])"
   ]
  },
  {
   "cell_type": "code",
   "execution_count": 592,
   "id": "ee9775f0",
   "metadata": {},
   "outputs": [],
   "source": [
    "test_df[\"campaign\"]=np.cbrt(test_df[\"campaign\"])\n",
    "test_df[\"pdays\"]=np.cbrt(test_df[\"pdays\"])"
   ]
  },
  {
   "cell_type": "code",
   "execution_count": 593,
   "id": "8566b75a",
   "metadata": {},
   "outputs": [
    {
     "data": {
      "text/plain": [
       "age         0.286833\n",
       "balance    -0.059591\n",
       "day         0.106806\n",
       "duration    0.624285\n",
       "campaign    1.618080\n",
       "pdays       1.722786\n",
       "previous    8.704583\n",
       "dtype: float64"
      ]
     },
     "execution_count": 593,
     "metadata": {},
     "output_type": "execute_result"
    }
   ],
   "source": [
    "test_df.skew()"
   ]
  },
  {
   "cell_type": "code",
   "execution_count": 594,
   "id": "2d4ee38f",
   "metadata": {},
   "outputs": [
    {
     "data": {
      "image/png": "[encoded data removed]",
      "text/plain": [
       "<Figure size 640x480 with 1 Axes>"
      ]
     },
     "metadata": {},
     "output_type": "display_data"
    },
    {
     "data": {
      "image/png": "[encoded data removed]",
      "text/plain": [
       "<Figure size 640x480 with 1 Axes>"
      ]
     },
     "metadata": {},
     "output_type": "display_data"
    },
    {
     "data": {
      "image/png": "[encoded data removed]",
      "text/plain": [
       "<Figure size 640x480 with 1 Axes>"
      ]
     },
     "metadata": {},
     "output_type": "display_data"
    },
    {
     "data": {
      "image/png": "[encoded data removed]",
      "text/plain": [
       "<Figure size 640x480 with 1 Axes>"
      ]
     },
     "metadata": {},
     "output_type": "display_data"
    },
    {
     "data": {
      "image/png": "[encoded data removed]",
      "text/plain": [
       "<Figure size 640x480 with 1 Axes>"
      ]
     },
     "metadata": {},
     "output_type": "display_data"
    },
    {
     "data": {
      "image/png": "[encoded data removed]",
      "text/plain": [
       "<Figure size 640x480 with 1 Axes>"
      ]
     },
     "metadata": {},
     "output_type": "display_data"
    },
    {
     "data": {
      "image/png": "[encoded data removed]",
      "text/plain": [
       "<Figure size 640x480 with 1 Axes>"
      ]
     },
     "metadata": {},
     "output_type": "display_data"
    }
   ],
   "source": [
    "#To find the outliers with the help of boxplot:\n",
    "for column in num_column:\n",
    "    plt.figure()\n",
    "    num_column.boxplot([column])"
   ]
  },
  {
   "cell_type": "code",
   "execution_count": 595,
   "id": "a1404b9f",
   "metadata": {},
   "outputs": [
    {
     "data": {
      "text/plain": [
       "<Axes: xlabel='balance', ylabel='Count'>"
      ]
     },
     "execution_count": 595,
     "metadata": {},
     "output_type": "execute_result"
    },
    {
     "data": {
      "image/png": "[encoded data removed]",
      "text/plain": [
       "<Figure size 640x480 with 1 Axes>"
      ]
     },
     "metadata": {},
     "output_type": "display_data"
    }
   ],
   "source": [
    "sns.histplot(hue=\"subscribed\",x=\"balance\",data=df)"
   ]
  },
  {
   "cell_type": "markdown",
   "id": "024d8e0d",
   "metadata": {},
   "source": [
    "zero balance people have mostly no subscribed."
   ]
  },
  {
   "cell_type": "code",
   "execution_count": 596,
   "id": "33085b98",
   "metadata": {},
   "outputs": [
    {
     "data": {
      "text/plain": [
       "<Axes: xlabel='default', ylabel='Count'>"
      ]
     },
     "execution_count": 596,
     "metadata": {},
     "output_type": "execute_result"
    },
    {
     "data": {
      "image/png": "[encoded data removed]",
      "text/plain": [
       "<Figure size 640x480 with 1 Axes>"
      ]
     },
     "metadata": {},
     "output_type": "display_data"
    }
   ],
   "source": [
    "sns.histplot(hue=\"subscribed\",x=\"default\",data=df)"
   ]
  },
  {
   "cell_type": "markdown",
   "id": "8a9bfff3",
   "metadata": {},
   "source": [
    "Compared to subscribed,unsubscribed are higher in each column."
   ]
  },
  {
   "cell_type": "markdown",
   "id": "e35124f1",
   "metadata": {},
   "source": [
    "# 4) i] Encoding -Training dataset"
   ]
  },
  {
   "cell_type": "code",
   "execution_count": 597,
   "id": "a063e139",
   "metadata": {},
   "outputs": [],
   "source": [
    "#importing the necessary libraries:\n",
    "from sklearn.preprocessing import TargetEncoder\n",
    "from sklearn.preprocessing import OrdinalEncoder"
   ]
  },
  {
   "cell_type": "markdown",
   "id": "2861c0a8",
   "metadata": {},
   "source": [
    "For simple categories like yes or no we are using basic replace technique to encode the categorical value.For the month column making it as in basic order and then transforming the column.By using target encoder Each category is encoded based on a shrunk estimate of the average target values for observations belonging to the category."
   ]
  },
  {
   "cell_type": "code",
   "execution_count": 598,
   "id": "00840b78",
   "metadata": {},
   "outputs": [],
   "source": [
    "#Encoding subscribed column:\n",
    "df.replace({\"subscribed\":{\"no\":0,\"yes\":1}},inplace=True)"
   ]
  },
  {
   "cell_type": "code",
   "execution_count": 599,
   "id": "3dbce58a",
   "metadata": {},
   "outputs": [],
   "source": [
    "#Encoding default column:\n",
    "df.replace({\"default\":{\"no\":0,\"yes\":1}},inplace=True)"
   ]
  },
  {
   "cell_type": "code",
   "execution_count": 600,
   "id": "fe0934d9",
   "metadata": {},
   "outputs": [],
   "source": [
    "#Encoding housing column:\n",
    "df.replace({\"housing\":{\"no\":0,\"yes\":1}},inplace=True)"
   ]
  },
  {
   "cell_type": "code",
   "execution_count": 601,
   "id": "619c6e4f",
   "metadata": {},
   "outputs": [],
   "source": [
    "#Encoding loan column:\n",
    "df.replace({\"loan\":{\"no\":0,\"yes\":1}},inplace=True)"
   ]
  },
  {
   "cell_type": "code",
   "execution_count": 602,
   "id": "630b4371",
   "metadata": {},
   "outputs": [],
   "source": [
    "#by using target encoder encoding marital column:\n",
    "encoder=TargetEncoder()\n",
    "df[\"marital\"]=encoder.fit_transform(df[[\"marital\"]],df[\"subscribed\"])"
   ]
  },
  {
   "cell_type": "code",
   "execution_count": 603,
   "id": "a5423d49",
   "metadata": {},
   "outputs": [],
   "source": [
    "#Encoding the contact column:\n",
    "df[\"contact\"]=encoder.fit_transform(df[[\"contact\"]],df[\"subscribed\"])"
   ]
  },
  {
   "cell_type": "code",
   "execution_count": 604,
   "id": "8cbdcf1a",
   "metadata": {},
   "outputs": [],
   "source": [
    "#Encoding the poutcome column:\n",
    "df[\"poutcome\"]=encoder.fit_transform(df[[\"poutcome\"]],df[\"subscribed\"])"
   ]
  },
  {
   "cell_type": "code",
   "execution_count": 605,
   "id": "78056691",
   "metadata": {},
   "outputs": [],
   "source": [
    "#Encoding the job column:\n",
    "df[\"job\"]=encoder.fit_transform(df[[\"job\"]],df[\"subscribed\"])"
   ]
  },
  {
   "cell_type": "code",
   "execution_count": 606,
   "id": "8235760d",
   "metadata": {},
   "outputs": [],
   "source": [
    "#Making the month in order and storing it in dictionary:Encoding the month column\n",
    "dict_month={\"jan\":1,\"feb\":2,\"mar\":3,\"apr\":4,\"may\":5,\"jun\":6,\"jul\":7,\"aug\":8,\"sep\":9,\"oct\":10,\"nov\":11,\"dec\":12}\n",
    "df[\"month\"]=df[\"month\"].map(dict_month)"
   ]
  },
  {
   "cell_type": "code",
   "execution_count": 607,
   "id": "a33bc3a1",
   "metadata": {},
   "outputs": [],
   "source": [
    "#Endoing the education column with ordinal Encoder:\n",
    "ord_encoder1=OrdinalEncoder(categories=[[\"unknown\",\"primary\",\"secondary\",\"tertiary\"]])\n",
    "encoded_values=ord_encoder1.fit_transform(df[[\"education\"]])\n",
    "df[\"education\"]=encoded_values"
   ]
  },
  {
   "cell_type": "code",
   "execution_count": 608,
   "id": "b44e3334",
   "metadata": {},
   "outputs": [
    {
     "data": {
      "text/plain": [
       "<Axes: xlabel='subscribed', ylabel='count'>"
      ]
     },
     "execution_count": 608,
     "metadata": {},
     "output_type": "execute_result"
    },
    {
     "data": {
      "image/png": "[encoded data removed]",
      "text/plain": [
       "<Figure size 640x480 with 1 Axes>"
      ]
     },
     "metadata": {},
     "output_type": "display_data"
    }
   ],
   "source": [
    "#Univate and Bivariate Analysis:\n",
    "sns.countplot(data=df,x=\"subscribed\")#0-no 1 -yes"
   ]
  },
  {
   "cell_type": "code",
   "execution_count": 609,
   "id": "e195a878",
   "metadata": {},
   "outputs": [
    {
     "data": {
      "text/plain": [
       "<Axes: xlabel='job', ylabel='Count'>"
      ]
     },
     "execution_count": 609,
     "metadata": {},
     "output_type": "execute_result"
    },
    {
     "data": {
      "image/png": "[encoded data removed]",
      "text/plain": [
       "<Figure size 640x480 with 1 Axes>"
      ]
     },
     "metadata": {},
     "output_type": "display_data"
    }
   ],
   "source": [
    "sns.histplot(x=\"job\",hue=\"subscribed\",data=df)"
   ]
  },
  {
   "cell_type": "markdown",
   "id": "9f4cbbca",
   "metadata": {},
   "source": [
    "unsubscribed person are higher when considered the job columns."
   ]
  },
  {
   "cell_type": "markdown",
   "id": "bb9205df",
   "metadata": {},
   "source": [
    "# 4] ii ] Encoding-Testing data"
   ]
  },
  {
   "cell_type": "code",
   "execution_count": 610,
   "id": "e3f9318f",
   "metadata": {},
   "outputs": [
    {
     "data": {
      "text/html": [
       "<div>\n",
       "<style scoped>\n",
       "    .dataframe tbody tr th:only-of-type {\n",
       "        vertical-align: middle;\n",
       "    }\n",
       "\n",
       "    .dataframe tbody tr th {\n",
       "        vertical-align: top;\n",
       "    }\n",
       "\n",
       "    .dataframe thead th {\n",
       "        text-align: right;\n",
       "    }\n",
       "</style>\n",
       "<table border=\"1\" class=\"dataframe\">\n",
       "  <thead>\n",
       "    <tr style=\"text-align: right;\">\n",
       "      <th></th>\n",
       "      <th>age</th>\n",
       "      <th>job</th>\n",
       "      <th>marital</th>\n",
       "      <th>education</th>\n",
       "      <th>default</th>\n",
       "      <th>balance</th>\n",
       "      <th>housing</th>\n",
       "      <th>loan</th>\n",
       "      <th>contact</th>\n",
       "      <th>day</th>\n",
       "      <th>month</th>\n",
       "      <th>duration</th>\n",
       "      <th>campaign</th>\n",
       "      <th>pdays</th>\n",
       "      <th>previous</th>\n",
       "      <th>poutcome</th>\n",
       "    </tr>\n",
       "  </thead>\n",
       "  <tbody>\n",
       "    <tr>\n",
       "      <th>0</th>\n",
       "      <td>3.174802</td>\n",
       "      <td>services</td>\n",
       "      <td>married</td>\n",
       "      <td>secondary</td>\n",
       "      <td>no</td>\n",
       "      <td>4.904868</td>\n",
       "      <td>yes</td>\n",
       "      <td>no</td>\n",
       "      <td>cellular</td>\n",
       "      <td>15</td>\n",
       "      <td>may</td>\n",
       "      <td>2.714418</td>\n",
       "      <td>1.817121</td>\n",
       "      <td>-1.000000</td>\n",
       "      <td>0</td>\n",
       "      <td>unknown</td>\n",
       "    </tr>\n",
       "    <tr>\n",
       "      <th>1</th>\n",
       "      <td>4.272659</td>\n",
       "      <td>retired</td>\n",
       "      <td>divorced</td>\n",
       "      <td>primary</td>\n",
       "      <td>no</td>\n",
       "      <td>14.072751</td>\n",
       "      <td>no</td>\n",
       "      <td>no</td>\n",
       "      <td>telephone</td>\n",
       "      <td>1</td>\n",
       "      <td>jul</td>\n",
       "      <td>7.191966</td>\n",
       "      <td>1.000000</td>\n",
       "      <td>-1.000000</td>\n",
       "      <td>0</td>\n",
       "      <td>unknown</td>\n",
       "    </tr>\n",
       "    <tr>\n",
       "      <th>2</th>\n",
       "      <td>3.141381</td>\n",
       "      <td>self-employed</td>\n",
       "      <td>single</td>\n",
       "      <td>tertiary</td>\n",
       "      <td>no</td>\n",
       "      <td>5.241483</td>\n",
       "      <td>yes</td>\n",
       "      <td>no</td>\n",
       "      <td>unknown</td>\n",
       "      <td>16</td>\n",
       "      <td>may</td>\n",
       "      <td>8.776383</td>\n",
       "      <td>1.000000</td>\n",
       "      <td>-1.000000</td>\n",
       "      <td>0</td>\n",
       "      <td>unknown</td>\n",
       "    </tr>\n",
       "    <tr>\n",
       "      <th>3</th>\n",
       "      <td>3.848501</td>\n",
       "      <td>services</td>\n",
       "      <td>single</td>\n",
       "      <td>primary</td>\n",
       "      <td>no</td>\n",
       "      <td>15.573360</td>\n",
       "      <td>yes</td>\n",
       "      <td>no</td>\n",
       "      <td>telephone</td>\n",
       "      <td>13</td>\n",
       "      <td>may</td>\n",
       "      <td>4.020726</td>\n",
       "      <td>1.259921</td>\n",
       "      <td>-1.000000</td>\n",
       "      <td>0</td>\n",
       "      <td>unknown</td>\n",
       "    </tr>\n",
       "    <tr>\n",
       "      <th>4</th>\n",
       "      <td>3.556893</td>\n",
       "      <td>blue-collar</td>\n",
       "      <td>divorced</td>\n",
       "      <td>secondary</td>\n",
       "      <td>no</td>\n",
       "      <td>-8.900130</td>\n",
       "      <td>no</td>\n",
       "      <td>yes</td>\n",
       "      <td>unknown</td>\n",
       "      <td>3</td>\n",
       "      <td>jul</td>\n",
       "      <td>4.805896</td>\n",
       "      <td>1.000000</td>\n",
       "      <td>-1.000000</td>\n",
       "      <td>0</td>\n",
       "      <td>unknown</td>\n",
       "    </tr>\n",
       "    <tr>\n",
       "      <th>...</th>\n",
       "      <td>...</td>\n",
       "      <td>...</td>\n",
       "      <td>...</td>\n",
       "      <td>...</td>\n",
       "      <td>...</td>\n",
       "      <td>...</td>\n",
       "      <td>...</td>\n",
       "      <td>...</td>\n",
       "      <td>...</td>\n",
       "      <td>...</td>\n",
       "      <td>...</td>\n",
       "      <td>...</td>\n",
       "      <td>...</td>\n",
       "      <td>...</td>\n",
       "      <td>...</td>\n",
       "      <td>...</td>\n",
       "    </tr>\n",
       "    <tr>\n",
       "      <th>13559</th>\n",
       "      <td>3.391211</td>\n",
       "      <td>management</td>\n",
       "      <td>married</td>\n",
       "      <td>tertiary</td>\n",
       "      <td>no</td>\n",
       "      <td>3.556893</td>\n",
       "      <td>no</td>\n",
       "      <td>no</td>\n",
       "      <td>cellular</td>\n",
       "      <td>28</td>\n",
       "      <td>aug</td>\n",
       "      <td>5.289572</td>\n",
       "      <td>1.587401</td>\n",
       "      <td>-1.000000</td>\n",
       "      <td>0</td>\n",
       "      <td>unknown</td>\n",
       "    </tr>\n",
       "    <tr>\n",
       "      <th>13560</th>\n",
       "      <td>3.779763</td>\n",
       "      <td>blue-collar</td>\n",
       "      <td>married</td>\n",
       "      <td>primary</td>\n",
       "      <td>no</td>\n",
       "      <td>13.163613</td>\n",
       "      <td>yes</td>\n",
       "      <td>no</td>\n",
       "      <td>unknown</td>\n",
       "      <td>20</td>\n",
       "      <td>jun</td>\n",
       "      <td>5.406120</td>\n",
       "      <td>1.000000</td>\n",
       "      <td>-1.000000</td>\n",
       "      <td>0</td>\n",
       "      <td>unknown</td>\n",
       "    </tr>\n",
       "    <tr>\n",
       "      <th>13561</th>\n",
       "      <td>3.271066</td>\n",
       "      <td>retired</td>\n",
       "      <td>married</td>\n",
       "      <td>primary</td>\n",
       "      <td>no</td>\n",
       "      <td>6.580844</td>\n",
       "      <td>yes</td>\n",
       "      <td>no</td>\n",
       "      <td>cellular</td>\n",
       "      <td>29</td>\n",
       "      <td>jan</td>\n",
       "      <td>5.142563</td>\n",
       "      <td>1.000000</td>\n",
       "      <td>-1.000000</td>\n",
       "      <td>0</td>\n",
       "      <td>unknown</td>\n",
       "    </tr>\n",
       "    <tr>\n",
       "      <th>13562</th>\n",
       "      <td>3.072317</td>\n",
       "      <td>admin.</td>\n",
       "      <td>single</td>\n",
       "      <td>secondary</td>\n",
       "      <td>no</td>\n",
       "      <td>7.741753</td>\n",
       "      <td>no</td>\n",
       "      <td>no</td>\n",
       "      <td>cellular</td>\n",
       "      <td>9</td>\n",
       "      <td>nov</td>\n",
       "      <td>5.924992</td>\n",
       "      <td>1.259921</td>\n",
       "      <td>4.497941</td>\n",
       "      <td>3</td>\n",
       "      <td>success</td>\n",
       "    </tr>\n",
       "    <tr>\n",
       "      <th>13563</th>\n",
       "      <td>3.072317</td>\n",
       "      <td>admin.</td>\n",
       "      <td>married</td>\n",
       "      <td>secondary</td>\n",
       "      <td>no</td>\n",
       "      <td>1.259921</td>\n",
       "      <td>yes</td>\n",
       "      <td>no</td>\n",
       "      <td>cellular</td>\n",
       "      <td>6</td>\n",
       "      <td>may</td>\n",
       "      <td>6.972683</td>\n",
       "      <td>1.000000</td>\n",
       "      <td>7.126936</td>\n",
       "      <td>1</td>\n",
       "      <td>failure</td>\n",
       "    </tr>\n",
       "  </tbody>\n",
       "</table>\n",
       "<p>13564 rows × 16 columns</p>\n",
       "</div>"
      ],
      "text/plain": [
       "            age            job   marital  education default    balance  \\\n",
       "0      3.174802       services   married  secondary      no   4.904868   \n",
       "1      4.272659        retired  divorced    primary      no  14.072751   \n",
       "2      3.141381  self-employed    single   tertiary      no   5.241483   \n",
       "3      3.848501       services    single    primary      no  15.573360   \n",
       "4      3.556893    blue-collar  divorced  secondary      no  -8.900130   \n",
       "...         ...            ...       ...        ...     ...        ...   \n",
       "13559  3.391211     management   married   tertiary      no   3.556893   \n",
       "13560  3.779763    blue-collar   married    primary      no  13.163613   \n",
       "13561  3.271066        retired   married    primary      no   6.580844   \n",
       "13562  3.072317         admin.    single  secondary      no   7.741753   \n",
       "13563  3.072317         admin.   married  secondary      no   1.259921   \n",
       "\n",
       "      housing loan    contact  day month  duration  campaign     pdays  \\\n",
       "0         yes   no   cellular   15   may  2.714418  1.817121 -1.000000   \n",
       "1          no   no  telephone    1   jul  7.191966  1.000000 -1.000000   \n",
       "2         yes   no    unknown   16   may  8.776383  1.000000 -1.000000   \n",
       "3         yes   no  telephone   13   may  4.020726  1.259921 -1.000000   \n",
       "4          no  yes    unknown    3   jul  4.805896  1.000000 -1.000000   \n",
       "...       ...  ...        ...  ...   ...       ...       ...       ...   \n",
       "13559      no   no   cellular   28   aug  5.289572  1.587401 -1.000000   \n",
       "13560     yes   no    unknown   20   jun  5.406120  1.000000 -1.000000   \n",
       "13561     yes   no   cellular   29   jan  5.142563  1.000000 -1.000000   \n",
       "13562      no   no   cellular    9   nov  5.924992  1.259921  4.497941   \n",
       "13563     yes   no   cellular    6   may  6.972683  1.000000  7.126936   \n",
       "\n",
       "       previous poutcome  \n",
       "0             0  unknown  \n",
       "1             0  unknown  \n",
       "2             0  unknown  \n",
       "3             0  unknown  \n",
       "4             0  unknown  \n",
       "...         ...      ...  \n",
       "13559         0  unknown  \n",
       "13560         0  unknown  \n",
       "13561         0  unknown  \n",
       "13562         3  success  \n",
       "13563         1  failure  \n",
       "\n",
       "[13564 rows x 16 columns]"
      ]
     },
     "execution_count": 610,
     "metadata": {},
     "output_type": "execute_result"
    }
   ],
   "source": [
    "test_df"
   ]
  },
  {
   "cell_type": "code",
   "execution_count": 611,
   "id": "f1a3280e",
   "metadata": {},
   "outputs": [],
   "source": [
    "#Encoding subscribed column:\n",
    "test_df.replace({\"subscribed\":{\"no\":0,\"yes\":1}},inplace=True)"
   ]
  },
  {
   "cell_type": "code",
   "execution_count": 612,
   "id": "9c13143a",
   "metadata": {},
   "outputs": [],
   "source": [
    "#Encoding default column:\n",
    "test_df.replace({\"default\":{\"no\":0,\"yes\":1}},inplace=True)"
   ]
  },
  {
   "cell_type": "code",
   "execution_count": 613,
   "id": "37547c62",
   "metadata": {},
   "outputs": [],
   "source": [
    "#Encoding housing column:\n",
    "test_df.replace({\"housing\":{\"no\":0,\"yes\":1}},inplace=True)"
   ]
  },
  {
   "cell_type": "code",
   "execution_count": 614,
   "id": "0e5de30a",
   "metadata": {},
   "outputs": [],
   "source": [
    "#Encoding loan column:\n",
    "test_df.replace({\"loan\":{\"no\":0,\"yes\":1}},inplace=True)"
   ]
  },
  {
   "cell_type": "code",
   "execution_count": 615,
   "id": "536eed0a",
   "metadata": {},
   "outputs": [],
   "source": [
    "#Making the month in order and storing it in dictionary:Encoding the month column\n",
    "dict_month={\"jan\":1,\"feb\":2,\"mar\":3,\"apr\":4,\"may\":5,\"jun\":6,\"jul\":7,\"aug\":8,\"sep\":9,\"oct\":10,\"nov\":11,\"dec\":12}\n",
    "test_df[\"month\"]=test_df[\"month\"].map(dict_month)"
   ]
  },
  {
   "cell_type": "code",
   "execution_count": 616,
   "id": "f0dc2856",
   "metadata": {},
   "outputs": [
    {
     "data": {
      "text/html": [
       "<div>\n",
       "<style scoped>\n",
       "    .dataframe tbody tr th:only-of-type {\n",
       "        vertical-align: middle;\n",
       "    }\n",
       "\n",
       "    .dataframe tbody tr th {\n",
       "        vertical-align: top;\n",
       "    }\n",
       "\n",
       "    .dataframe thead th {\n",
       "        text-align: right;\n",
       "    }\n",
       "</style>\n",
       "<table border=\"1\" class=\"dataframe\">\n",
       "  <thead>\n",
       "    <tr style=\"text-align: right;\">\n",
       "      <th></th>\n",
       "      <th>age</th>\n",
       "      <th>job</th>\n",
       "      <th>marital</th>\n",
       "      <th>education</th>\n",
       "      <th>default</th>\n",
       "      <th>balance</th>\n",
       "      <th>housing</th>\n",
       "      <th>loan</th>\n",
       "      <th>contact</th>\n",
       "      <th>day</th>\n",
       "      <th>month</th>\n",
       "      <th>duration</th>\n",
       "      <th>campaign</th>\n",
       "      <th>pdays</th>\n",
       "      <th>previous</th>\n",
       "      <th>poutcome</th>\n",
       "    </tr>\n",
       "  </thead>\n",
       "  <tbody>\n",
       "    <tr>\n",
       "      <th>0</th>\n",
       "      <td>3.174802</td>\n",
       "      <td>services</td>\n",
       "      <td>married</td>\n",
       "      <td>secondary</td>\n",
       "      <td>0</td>\n",
       "      <td>4.904868</td>\n",
       "      <td>1</td>\n",
       "      <td>0</td>\n",
       "      <td>cellular</td>\n",
       "      <td>15</td>\n",
       "      <td>5</td>\n",
       "      <td>2.714418</td>\n",
       "      <td>1.817121</td>\n",
       "      <td>-1.000000</td>\n",
       "      <td>0</td>\n",
       "      <td>unknown</td>\n",
       "    </tr>\n",
       "    <tr>\n",
       "      <th>1</th>\n",
       "      <td>4.272659</td>\n",
       "      <td>retired</td>\n",
       "      <td>divorced</td>\n",
       "      <td>primary</td>\n",
       "      <td>0</td>\n",
       "      <td>14.072751</td>\n",
       "      <td>0</td>\n",
       "      <td>0</td>\n",
       "      <td>telephone</td>\n",
       "      <td>1</td>\n",
       "      <td>7</td>\n",
       "      <td>7.191966</td>\n",
       "      <td>1.000000</td>\n",
       "      <td>-1.000000</td>\n",
       "      <td>0</td>\n",
       "      <td>unknown</td>\n",
       "    </tr>\n",
       "    <tr>\n",
       "      <th>2</th>\n",
       "      <td>3.141381</td>\n",
       "      <td>self-employed</td>\n",
       "      <td>single</td>\n",
       "      <td>tertiary</td>\n",
       "      <td>0</td>\n",
       "      <td>5.241483</td>\n",
       "      <td>1</td>\n",
       "      <td>0</td>\n",
       "      <td>unknown</td>\n",
       "      <td>16</td>\n",
       "      <td>5</td>\n",
       "      <td>8.776383</td>\n",
       "      <td>1.000000</td>\n",
       "      <td>-1.000000</td>\n",
       "      <td>0</td>\n",
       "      <td>unknown</td>\n",
       "    </tr>\n",
       "    <tr>\n",
       "      <th>3</th>\n",
       "      <td>3.848501</td>\n",
       "      <td>services</td>\n",
       "      <td>single</td>\n",
       "      <td>primary</td>\n",
       "      <td>0</td>\n",
       "      <td>15.573360</td>\n",
       "      <td>1</td>\n",
       "      <td>0</td>\n",
       "      <td>telephone</td>\n",
       "      <td>13</td>\n",
       "      <td>5</td>\n",
       "      <td>4.020726</td>\n",
       "      <td>1.259921</td>\n",
       "      <td>-1.000000</td>\n",
       "      <td>0</td>\n",
       "      <td>unknown</td>\n",
       "    </tr>\n",
       "    <tr>\n",
       "      <th>4</th>\n",
       "      <td>3.556893</td>\n",
       "      <td>blue-collar</td>\n",
       "      <td>divorced</td>\n",
       "      <td>secondary</td>\n",
       "      <td>0</td>\n",
       "      <td>-8.900130</td>\n",
       "      <td>0</td>\n",
       "      <td>1</td>\n",
       "      <td>unknown</td>\n",
       "      <td>3</td>\n",
       "      <td>7</td>\n",
       "      <td>4.805896</td>\n",
       "      <td>1.000000</td>\n",
       "      <td>-1.000000</td>\n",
       "      <td>0</td>\n",
       "      <td>unknown</td>\n",
       "    </tr>\n",
       "    <tr>\n",
       "      <th>...</th>\n",
       "      <td>...</td>\n",
       "      <td>...</td>\n",
       "      <td>...</td>\n",
       "      <td>...</td>\n",
       "      <td>...</td>\n",
       "      <td>...</td>\n",
       "      <td>...</td>\n",
       "      <td>...</td>\n",
       "      <td>...</td>\n",
       "      <td>...</td>\n",
       "      <td>...</td>\n",
       "      <td>...</td>\n",
       "      <td>...</td>\n",
       "      <td>...</td>\n",
       "      <td>...</td>\n",
       "      <td>...</td>\n",
       "    </tr>\n",
       "    <tr>\n",
       "      <th>13559</th>\n",
       "      <td>3.391211</td>\n",
       "      <td>management</td>\n",
       "      <td>married</td>\n",
       "      <td>tertiary</td>\n",
       "      <td>0</td>\n",
       "      <td>3.556893</td>\n",
       "      <td>0</td>\n",
       "      <td>0</td>\n",
       "      <td>cellular</td>\n",
       "      <td>28</td>\n",
       "      <td>8</td>\n",
       "      <td>5.289572</td>\n",
       "      <td>1.587401</td>\n",
       "      <td>-1.000000</td>\n",
       "      <td>0</td>\n",
       "      <td>unknown</td>\n",
       "    </tr>\n",
       "    <tr>\n",
       "      <th>13560</th>\n",
       "      <td>3.779763</td>\n",
       "      <td>blue-collar</td>\n",
       "      <td>married</td>\n",
       "      <td>primary</td>\n",
       "      <td>0</td>\n",
       "      <td>13.163613</td>\n",
       "      <td>1</td>\n",
       "      <td>0</td>\n",
       "      <td>unknown</td>\n",
       "      <td>20</td>\n",
       "      <td>6</td>\n",
       "      <td>5.406120</td>\n",
       "      <td>1.000000</td>\n",
       "      <td>-1.000000</td>\n",
       "      <td>0</td>\n",
       "      <td>unknown</td>\n",
       "    </tr>\n",
       "    <tr>\n",
       "      <th>13561</th>\n",
       "      <td>3.271066</td>\n",
       "      <td>retired</td>\n",
       "      <td>married</td>\n",
       "      <td>primary</td>\n",
       "      <td>0</td>\n",
       "      <td>6.580844</td>\n",
       "      <td>1</td>\n",
       "      <td>0</td>\n",
       "      <td>cellular</td>\n",
       "      <td>29</td>\n",
       "      <td>1</td>\n",
       "      <td>5.142563</td>\n",
       "      <td>1.000000</td>\n",
       "      <td>-1.000000</td>\n",
       "      <td>0</td>\n",
       "      <td>unknown</td>\n",
       "    </tr>\n",
       "    <tr>\n",
       "      <th>13562</th>\n",
       "      <td>3.072317</td>\n",
       "      <td>admin.</td>\n",
       "      <td>single</td>\n",
       "      <td>secondary</td>\n",
       "      <td>0</td>\n",
       "      <td>7.741753</td>\n",
       "      <td>0</td>\n",
       "      <td>0</td>\n",
       "      <td>cellular</td>\n",
       "      <td>9</td>\n",
       "      <td>11</td>\n",
       "      <td>5.924992</td>\n",
       "      <td>1.259921</td>\n",
       "      <td>4.497941</td>\n",
       "      <td>3</td>\n",
       "      <td>success</td>\n",
       "    </tr>\n",
       "    <tr>\n",
       "      <th>13563</th>\n",
       "      <td>3.072317</td>\n",
       "      <td>admin.</td>\n",
       "      <td>married</td>\n",
       "      <td>secondary</td>\n",
       "      <td>0</td>\n",
       "      <td>1.259921</td>\n",
       "      <td>1</td>\n",
       "      <td>0</td>\n",
       "      <td>cellular</td>\n",
       "      <td>6</td>\n",
       "      <td>5</td>\n",
       "      <td>6.972683</td>\n",
       "      <td>1.000000</td>\n",
       "      <td>7.126936</td>\n",
       "      <td>1</td>\n",
       "      <td>failure</td>\n",
       "    </tr>\n",
       "  </tbody>\n",
       "</table>\n",
       "<p>13564 rows × 16 columns</p>\n",
       "</div>"
      ],
      "text/plain": [
       "            age            job   marital  education  default    balance  \\\n",
       "0      3.174802       services   married  secondary        0   4.904868   \n",
       "1      4.272659        retired  divorced    primary        0  14.072751   \n",
       "2      3.141381  self-employed    single   tertiary        0   5.241483   \n",
       "3      3.848501       services    single    primary        0  15.573360   \n",
       "4      3.556893    blue-collar  divorced  secondary        0  -8.900130   \n",
       "...         ...            ...       ...        ...      ...        ...   \n",
       "13559  3.391211     management   married   tertiary        0   3.556893   \n",
       "13560  3.779763    blue-collar   married    primary        0  13.163613   \n",
       "13561  3.271066        retired   married    primary        0   6.580844   \n",
       "13562  3.072317         admin.    single  secondary        0   7.741753   \n",
       "13563  3.072317         admin.   married  secondary        0   1.259921   \n",
       "\n",
       "       housing  loan    contact  day  month  duration  campaign     pdays  \\\n",
       "0            1     0   cellular   15      5  2.714418  1.817121 -1.000000   \n",
       "1            0     0  telephone    1      7  7.191966  1.000000 -1.000000   \n",
       "2            1     0    unknown   16      5  8.776383  1.000000 -1.000000   \n",
       "3            1     0  telephone   13      5  4.020726  1.259921 -1.000000   \n",
       "4            0     1    unknown    3      7  4.805896  1.000000 -1.000000   \n",
       "...        ...   ...        ...  ...    ...       ...       ...       ...   \n",
       "13559        0     0   cellular   28      8  5.289572  1.587401 -1.000000   \n",
       "13560        1     0    unknown   20      6  5.406120  1.000000 -1.000000   \n",
       "13561        1     0   cellular   29      1  5.142563  1.000000 -1.000000   \n",
       "13562        0     0   cellular    9     11  5.924992  1.259921  4.497941   \n",
       "13563        1     0   cellular    6      5  6.972683  1.000000  7.126936   \n",
       "\n",
       "       previous poutcome  \n",
       "0             0  unknown  \n",
       "1             0  unknown  \n",
       "2             0  unknown  \n",
       "3             0  unknown  \n",
       "4             0  unknown  \n",
       "...         ...      ...  \n",
       "13559         0  unknown  \n",
       "13560         0  unknown  \n",
       "13561         0  unknown  \n",
       "13562         3  success  \n",
       "13563         1  failure  \n",
       "\n",
       "[13564 rows x 16 columns]"
      ]
     },
     "execution_count": 616,
     "metadata": {},
     "output_type": "execute_result"
    }
   ],
   "source": [
    "test_df"
   ]
  },
  {
   "cell_type": "markdown",
   "id": "aeea1670",
   "metadata": {},
   "source": [
    "# 5)Splitting The Dataset Into Feature and Target:"
   ]
  },
  {
   "cell_type": "code",
   "execution_count": 617,
   "id": "1c0181d2",
   "metadata": {},
   "outputs": [],
   "source": [
    "#Importing the neccessary libraries and model for further creation of the model:\n",
    "from sklearn.model_selection import train_test_split\n",
    "from sklearn.linear_model import LogisticRegression\n",
    "from sklearn.metrics import accuracy_score,confusion_matrix,roc_curve,roc_auc_score\n",
    "from sklearn.ensemble import RandomForestClassifier\n",
    "from sklearn.preprocessing import StandardScaler"
   ]
  },
  {
   "cell_type": "code",
   "execution_count": 618,
   "id": "e8159b8d",
   "metadata": {},
   "outputs": [],
   "source": [
    "X=df.drop(\"subscribed\",axis=1)\n",
    "Y=df[[\"subscribed\"]]"
   ]
  },
  {
   "cell_type": "code",
   "execution_count": 619,
   "id": "ee865d87",
   "metadata": {},
   "outputs": [],
   "source": [
    "scaler=StandardScaler()\n",
    "x_scaled=scaler.fit_transform(X)"
   ]
  },
  {
   "cell_type": "code",
   "execution_count": 620,
   "id": "8dae28b4",
   "metadata": {},
   "outputs": [],
   "source": [
    "#To split the data into train and test split\n",
    "x_train,x_test,y_train,y_test=train_test_split(x_scaled,Y,test_size=0.2,random_state=2)"
   ]
  },
  {
   "cell_type": "markdown",
   "id": "5e25bf14",
   "metadata": {},
   "source": [
    "# 6)Creating model 1:Logistic Regression"
   ]
  },
  {
   "cell_type": "code",
   "execution_count": 621,
   "id": "c1a53e9b",
   "metadata": {},
   "outputs": [
    {
     "data": {
      "text/html": [
       "<style>#sk-container-id-18 {color: black;}#sk-container-id-18 pre{padding: 0;}#sk-container-id-18 div.sk-toggleable {background-color: white;}#sk-container-id-18 label.sk-toggleable__label {cursor: pointer;display: block;width: 100%;margin-bottom: 0;padding: 0.3em;box-sizing: border-box;text-align: center;}#sk-container-id-18 label.sk-toggleable__label-arrow:before {content: \"▸\";float: left;margin-right: 0.25em;color: #696969;}#sk-container-id-18 label.sk-toggleable__label-arrow:hover:before {color: black;}#sk-container-id-18 div.sk-estimator:hover label.sk-toggleable__label-arrow:before {color: black;}#sk-container-id-18 div.sk-toggleable__content {max-height: 0;max-width: 0;overflow: hidden;text-align: left;background-color: #f0f8ff;}#sk-container-id-18 div.sk-toggleable__content pre {margin: 0.2em;color: black;border-radius: 0.25em;background-color: #f0f8ff;}#sk-container-id-18 input.sk-toggleable__control:checked~div.sk-toggleable__content {max-height: 200px;max-width: 100%;overflow: auto;}#sk-container-id-18 input.sk-toggleable__control:checked~label.sk-toggleable__label-arrow:before {content: \"▾\";}#sk-container-id-18 div.sk-estimator input.sk-toggleable__control:checked~label.sk-toggleable__label {background-color: #d4ebff;}#sk-container-id-18 div.sk-label input.sk-toggleable__control:checked~label.sk-toggleable__label {background-color: #d4ebff;}#sk-container-id-18 input.sk-hidden--visually {border: 0;clip: rect(1px 1px 1px 1px);clip: rect(1px, 1px, 1px, 1px);height: 1px;margin: -1px;overflow: hidden;padding: 0;position: absolute;width: 1px;}#sk-container-id-18 div.sk-estimator {font-family: monospace;background-color: #f0f8ff;border: 1px dotted black;border-radius: 0.25em;box-sizing: border-box;margin-bottom: 0.5em;}#sk-container-id-18 div.sk-estimator:hover {background-color: #d4ebff;}#sk-container-id-18 div.sk-parallel-item::after {content: \"\";width: 100%;border-bottom: 1px solid gray;flex-grow: 1;}#sk-container-id-18 div.sk-label:hover label.sk-toggleable__label {background-color: #d4ebff;}#sk-container-id-18 div.sk-serial::before {content: \"\";position: absolute;border-left: 1px solid gray;box-sizing: border-box;top: 0;bottom: 0;left: 50%;z-index: 0;}#sk-container-id-18 div.sk-serial {display: flex;flex-direction: column;align-items: center;background-color: white;padding-right: 0.2em;padding-left: 0.2em;position: relative;}#sk-container-id-18 div.sk-item {position: relative;z-index: 1;}#sk-container-id-18 div.sk-parallel {display: flex;align-items: stretch;justify-content: center;background-color: white;position: relative;}#sk-container-id-18 div.sk-item::before, #sk-container-id-18 div.sk-parallel-item::before {content: \"\";position: absolute;border-left: 1px solid gray;box-sizing: border-box;top: 0;bottom: 0;left: 50%;z-index: -1;}#sk-container-id-18 div.sk-parallel-item {display: flex;flex-direction: column;z-index: 1;position: relative;background-color: white;}#sk-container-id-18 div.sk-parallel-item:first-child::after {align-self: flex-end;width: 50%;}#sk-container-id-18 div.sk-parallel-item:last-child::after {align-self: flex-start;width: 50%;}#sk-container-id-18 div.sk-parallel-item:only-child::after {width: 0;}#sk-container-id-18 div.sk-dashed-wrapped {border: 1px dashed gray;margin: 0 0.4em 0.5em 0.4em;box-sizing: border-box;padding-bottom: 0.4em;background-color: white;}#sk-container-id-18 div.sk-label label {font-family: monospace;font-weight: bold;display: inline-block;line-height: 1.2em;}#sk-container-id-18 div.sk-label-container {text-align: center;}#sk-container-id-18 div.sk-container {/* jupyter's `normalize.less` sets `[hidden] { display: none; }` but bootstrap.min.css set `[hidden] { display: none !important; }` so we also need the `!important` here to be able to override the default hidden behavior on the sphinx rendered scikit-learn.org. See: https://github.com/scikit-learn/scikit-learn/issues/21755 */display: inline-block !important;position: relative;}#sk-container-id-18 div.sk-text-repr-fallback {display: none;}</style><div id=\"sk-container-id-18\" class=\"sk-top-container\"><div class=\"sk-text-repr-fallback\"><pre>LogisticRegression()</pre><b>In a Jupyter environment, please rerun this cell to show the HTML representation or trust the notebook. <br />On GitHub, the HTML representation is unable to render, please try loading this page with nbviewer.org.</b></div><div class=\"sk-container\" hidden><div class=\"sk-item\"><div class=\"sk-estimator sk-toggleable\"><input class=\"sk-toggleable__control sk-hidden--visually\" id=\"sk-estimator-id-24\" type=\"checkbox\" checked><label for=\"sk-estimator-id-24\" class=\"sk-toggleable__label sk-toggleable__label-arrow\">LogisticRegression</label><div class=\"sk-toggleable__content\"><pre>LogisticRegression()</pre></div></div></div></div></div>"
      ],
      "text/plain": [
       "LogisticRegression()"
      ]
     },
     "execution_count": 621,
     "metadata": {},
     "output_type": "execute_result"
    }
   ],
   "source": [
    "#Model Instantiating and training:\n",
    "log_reg=LogisticRegression()\n",
    "log_reg.fit(x_train,y_train)"
   ]
  },
  {
   "cell_type": "code",
   "execution_count": 622,
   "id": "4eff1849",
   "metadata": {},
   "outputs": [],
   "source": [
    "#how model performs on unseen[test data] and getting accuracy score\n",
    "y_tepred=log_reg.predict(x_test)\n",
    "test_Accuracy=accuracy_score(y_test,y_tepred)"
   ]
  },
  {
   "cell_type": "code",
   "execution_count": 623,
   "id": "1b671df2",
   "metadata": {},
   "outputs": [],
   "source": [
    "#for training -Accuracy score\n",
    "y_trpred=log_reg.predict(x_train)\n",
    "train_Accuracy=accuracy_score(y_train,y_trpred)"
   ]
  },
  {
   "cell_type": "code",
   "execution_count": 624,
   "id": "5e77c0ae",
   "metadata": {},
   "outputs": [
    {
     "name": "stdout",
     "output_type": "stream",
     "text": [
      "Training Score for logistic Regression Model is : 89.95\n",
      "Testing  Score for logistic Regression Model is : 89.72\n"
     ]
    }
   ],
   "source": [
    "print(\"Training Score for logistic Regression Model is :\",round(train_Accuracy*100,2))\n",
    "print(\"Testing  Score for logistic Regression Model is :\",round(test_Accuracy*100,2))"
   ]
  },
  {
   "cell_type": "code",
   "execution_count": 625,
   "id": "a0777c63",
   "metadata": {},
   "outputs": [
    {
     "data": {
      "text/plain": [
       "array([[5454,  160],\n",
       "       [ 491,  225]], dtype=int64)"
      ]
     },
     "execution_count": 625,
     "metadata": {},
     "output_type": "execute_result"
    }
   ],
   "source": [
    "#Calculation of confusion matrix\n",
    "confusion_matrix1 = confusion_matrix(y_test,y_tepred)\n",
    "confusion_matrix1"
   ]
  },
  {
   "cell_type": "code",
   "execution_count": 626,
   "id": "3397b986",
   "metadata": {},
   "outputs": [
    {
     "data": {
      "text/plain": [
       "89.79462875197473"
      ]
     },
     "execution_count": 626,
     "metadata": {},
     "output_type": "execute_result"
    }
   ],
   "source": [
    "((5455+229)/(5455+159+491+225))*100 # the model accuracy"
   ]
  },
  {
   "cell_type": "markdown",
   "id": "8bd3ab8b",
   "metadata": {},
   "source": [
    "# 6)Creating model 2:RandomForestClassifier"
   ]
  },
  {
   "cell_type": "code",
   "execution_count": 627,
   "id": "86c70e6b",
   "metadata": {},
   "outputs": [
    {
     "data": {
      "text/html": [
       "<style>#sk-container-id-19 {color: black;}#sk-container-id-19 pre{padding: 0;}#sk-container-id-19 div.sk-toggleable {background-color: white;}#sk-container-id-19 label.sk-toggleable__label {cursor: pointer;display: block;width: 100%;margin-bottom: 0;padding: 0.3em;box-sizing: border-box;text-align: center;}#sk-container-id-19 label.sk-toggleable__label-arrow:before {content: \"▸\";float: left;margin-right: 0.25em;color: #696969;}#sk-container-id-19 label.sk-toggleable__label-arrow:hover:before {color: black;}#sk-container-id-19 div.sk-estimator:hover label.sk-toggleable__label-arrow:before {color: black;}#sk-container-id-19 div.sk-toggleable__content {max-height: 0;max-width: 0;overflow: hidden;text-align: left;background-color: #f0f8ff;}#sk-container-id-19 div.sk-toggleable__content pre {margin: 0.2em;color: black;border-radius: 0.25em;background-color: #f0f8ff;}#sk-container-id-19 input.sk-toggleable__control:checked~div.sk-toggleable__content {max-height: 200px;max-width: 100%;overflow: auto;}#sk-container-id-19 input.sk-toggleable__control:checked~label.sk-toggleable__label-arrow:before {content: \"▾\";}#sk-container-id-19 div.sk-estimator input.sk-toggleable__control:checked~label.sk-toggleable__label {background-color: #d4ebff;}#sk-container-id-19 div.sk-label input.sk-toggleable__control:checked~label.sk-toggleable__label {background-color: #d4ebff;}#sk-container-id-19 input.sk-hidden--visually {border: 0;clip: rect(1px 1px 1px 1px);clip: rect(1px, 1px, 1px, 1px);height: 1px;margin: -1px;overflow: hidden;padding: 0;position: absolute;width: 1px;}#sk-container-id-19 div.sk-estimator {font-family: monospace;background-color: #f0f8ff;border: 1px dotted black;border-radius: 0.25em;box-sizing: border-box;margin-bottom: 0.5em;}#sk-container-id-19 div.sk-estimator:hover {background-color: #d4ebff;}#sk-container-id-19 div.sk-parallel-item::after {content: \"\";width: 100%;border-bottom: 1px solid gray;flex-grow: 1;}#sk-container-id-19 div.sk-label:hover label.sk-toggleable__label {background-color: #d4ebff;}#sk-container-id-19 div.sk-serial::before {content: \"\";position: absolute;border-left: 1px solid gray;box-sizing: border-box;top: 0;bottom: 0;left: 50%;z-index: 0;}#sk-container-id-19 div.sk-serial {display: flex;flex-direction: column;align-items: center;background-color: white;padding-right: 0.2em;padding-left: 0.2em;position: relative;}#sk-container-id-19 div.sk-item {position: relative;z-index: 1;}#sk-container-id-19 div.sk-parallel {display: flex;align-items: stretch;justify-content: center;background-color: white;position: relative;}#sk-container-id-19 div.sk-item::before, #sk-container-id-19 div.sk-parallel-item::before {content: \"\";position: absolute;border-left: 1px solid gray;box-sizing: border-box;top: 0;bottom: 0;left: 50%;z-index: -1;}#sk-container-id-19 div.sk-parallel-item {display: flex;flex-direction: column;z-index: 1;position: relative;background-color: white;}#sk-container-id-19 div.sk-parallel-item:first-child::after {align-self: flex-end;width: 50%;}#sk-container-id-19 div.sk-parallel-item:last-child::after {align-self: flex-start;width: 50%;}#sk-container-id-19 div.sk-parallel-item:only-child::after {width: 0;}#sk-container-id-19 div.sk-dashed-wrapped {border: 1px dashed gray;margin: 0 0.4em 0.5em 0.4em;box-sizing: border-box;padding-bottom: 0.4em;background-color: white;}#sk-container-id-19 div.sk-label label {font-family: monospace;font-weight: bold;display: inline-block;line-height: 1.2em;}#sk-container-id-19 div.sk-label-container {text-align: center;}#sk-container-id-19 div.sk-container {/* jupyter's `normalize.less` sets `[hidden] { display: none; }` but bootstrap.min.css set `[hidden] { display: none !important; }` so we also need the `!important` here to be able to override the default hidden behavior on the sphinx rendered scikit-learn.org. See: https://github.com/scikit-learn/scikit-learn/issues/21755 */display: inline-block !important;position: relative;}#sk-container-id-19 div.sk-text-repr-fallback {display: none;}</style><div id=\"sk-container-id-19\" class=\"sk-top-container\"><div class=\"sk-text-repr-fallback\"><pre>RandomForestClassifier()</pre><b>In a Jupyter environment, please rerun this cell to show the HTML representation or trust the notebook. <br />On GitHub, the HTML representation is unable to render, please try loading this page with nbviewer.org.</b></div><div class=\"sk-container\" hidden><div class=\"sk-item\"><div class=\"sk-estimator sk-toggleable\"><input class=\"sk-toggleable__control sk-hidden--visually\" id=\"sk-estimator-id-25\" type=\"checkbox\" checked><label for=\"sk-estimator-id-25\" class=\"sk-toggleable__label sk-toggleable__label-arrow\">RandomForestClassifier</label><div class=\"sk-toggleable__content\"><pre>RandomForestClassifier()</pre></div></div></div></div></div>"
      ],
      "text/plain": [
       "RandomForestClassifier()"
      ]
     },
     "execution_count": 627,
     "metadata": {},
     "output_type": "execute_result"
    }
   ],
   "source": [
    "#Model Instantiating and training:\n",
    "RFC=RandomForestClassifier()\n",
    "RFC.fit(x_train,y_train)"
   ]
  },
  {
   "cell_type": "code",
   "execution_count": 628,
   "id": "35939db7",
   "metadata": {},
   "outputs": [],
   "source": [
    "#how model performs on unseen[test data] and getting accuracy score\n",
    "y_tepred=RFC.predict(x_test)\n",
    "test_Accuracy=accuracy_score(y_test,y_tepred)"
   ]
  },
  {
   "cell_type": "code",
   "execution_count": 629,
   "id": "a0057ce7",
   "metadata": {},
   "outputs": [],
   "source": [
    "#for training -Accuracy score\n",
    "y_trpred=RFC.predict(x_train)\n",
    "train_Accuracy=accuracy_score(y_train,y_trpred)"
   ]
  },
  {
   "cell_type": "code",
   "execution_count": 630,
   "id": "94338da5",
   "metadata": {},
   "outputs": [
    {
     "name": "stdout",
     "output_type": "stream",
     "text": [
      "Training Score for Random Forest Classifer Model is : 100.0\n",
      "Testing  Score for Random Forest Classifier Model is : 90.66\n"
     ]
    }
   ],
   "source": [
    "#Displaying the accuracy percentage:\n",
    "print(\"Training Score for Random Forest Classifer Model is :\",round(train_Accuracy*100,2))\n",
    "print(\"Testing  Score for Random Forest Classifier Model is :\",round(test_Accuracy*100,2))"
   ]
  },
  {
   "cell_type": "code",
   "execution_count": 631,
   "id": "456e83da",
   "metadata": {},
   "outputs": [
    {
     "data": {
      "text/plain": [
       "array([[5456,  158],\n",
       "       [ 433,  283]], dtype=int64)"
      ]
     },
     "execution_count": 631,
     "metadata": {},
     "output_type": "execute_result"
    }
   ],
   "source": [
    "confusion_matrix2=confusion_matrix(y_test,y_tepred)\n",
    "confusion_matrix2"
   ]
  },
  {
   "cell_type": "code",
   "execution_count": 632,
   "id": "dcc3cd38",
   "metadata": {},
   "outputs": [
    {
     "data": {
      "text/plain": [
       "0.9055292259083728"
      ]
     },
     "execution_count": 632,
     "metadata": {},
     "output_type": "execute_result"
    }
   ],
   "source": [
    "(5459+273)/(5459+155+443+273)"
   ]
  },
  {
   "cell_type": "markdown",
   "id": "2bcbb988",
   "metadata": {},
   "source": [
    "# 6)Creating model 3:Support Vector Machine"
   ]
  },
  {
   "cell_type": "code",
   "execution_count": 633,
   "id": "59b91a0f",
   "metadata": {},
   "outputs": [],
   "source": [
    "from sklearn.svm import SVC"
   ]
  },
  {
   "cell_type": "code",
   "execution_count": 634,
   "id": "6c27b874",
   "metadata": {},
   "outputs": [],
   "source": [
    "#Model Instantiating and training:\n",
    "svm = SVC(kernel=\"rbf\", gamma=0.5, C=1.0)"
   ]
  },
  {
   "cell_type": "code",
   "execution_count": 635,
   "id": "6ec2a512",
   "metadata": {},
   "outputs": [
    {
     "data": {
      "text/html": [
       "<style>#sk-container-id-20 {color: black;}#sk-container-id-20 pre{padding: 0;}#sk-container-id-20 div.sk-toggleable {background-color: white;}#sk-container-id-20 label.sk-toggleable__label {cursor: pointer;display: block;width: 100%;margin-bottom: 0;padding: 0.3em;box-sizing: border-box;text-align: center;}#sk-container-id-20 label.sk-toggleable__label-arrow:before {content: \"▸\";float: left;margin-right: 0.25em;color: #696969;}#sk-container-id-20 label.sk-toggleable__label-arrow:hover:before {color: black;}#sk-container-id-20 div.sk-estimator:hover label.sk-toggleable__label-arrow:before {color: black;}#sk-container-id-20 div.sk-toggleable__content {max-height: 0;max-width: 0;overflow: hidden;text-align: left;background-color: #f0f8ff;}#sk-container-id-20 div.sk-toggleable__content pre {margin: 0.2em;color: black;border-radius: 0.25em;background-color: #f0f8ff;}#sk-container-id-20 input.sk-toggleable__control:checked~div.sk-toggleable__content {max-height: 200px;max-width: 100%;overflow: auto;}#sk-container-id-20 input.sk-toggleable__control:checked~label.sk-toggleable__label-arrow:before {content: \"▾\";}#sk-container-id-20 div.sk-estimator input.sk-toggleable__control:checked~label.sk-toggleable__label {background-color: #d4ebff;}#sk-container-id-20 div.sk-label input.sk-toggleable__control:checked~label.sk-toggleable__label {background-color: #d4ebff;}#sk-container-id-20 input.sk-hidden--visually {border: 0;clip: rect(1px 1px 1px 1px);clip: rect(1px, 1px, 1px, 1px);height: 1px;margin: -1px;overflow: hidden;padding: 0;position: absolute;width: 1px;}#sk-container-id-20 div.sk-estimator {font-family: monospace;background-color: #f0f8ff;border: 1px dotted black;border-radius: 0.25em;box-sizing: border-box;margin-bottom: 0.5em;}#sk-container-id-20 div.sk-estimator:hover {background-color: #d4ebff;}#sk-container-id-20 div.sk-parallel-item::after {content: \"\";width: 100%;border-bottom: 1px solid gray;flex-grow: 1;}#sk-container-id-20 div.sk-label:hover label.sk-toggleable__label {background-color: #d4ebff;}#sk-container-id-20 div.sk-serial::before {content: \"\";position: absolute;border-left: 1px solid gray;box-sizing: border-box;top: 0;bottom: 0;left: 50%;z-index: 0;}#sk-container-id-20 div.sk-serial {display: flex;flex-direction: column;align-items: center;background-color: white;padding-right: 0.2em;padding-left: 0.2em;position: relative;}#sk-container-id-20 div.sk-item {position: relative;z-index: 1;}#sk-container-id-20 div.sk-parallel {display: flex;align-items: stretch;justify-content: center;background-color: white;position: relative;}#sk-container-id-20 div.sk-item::before, #sk-container-id-20 div.sk-parallel-item::before {content: \"\";position: absolute;border-left: 1px solid gray;box-sizing: border-box;top: 0;bottom: 0;left: 50%;z-index: -1;}#sk-container-id-20 div.sk-parallel-item {display: flex;flex-direction: column;z-index: 1;position: relative;background-color: white;}#sk-container-id-20 div.sk-parallel-item:first-child::after {align-self: flex-end;width: 50%;}#sk-container-id-20 div.sk-parallel-item:last-child::after {align-self: flex-start;width: 50%;}#sk-container-id-20 div.sk-parallel-item:only-child::after {width: 0;}#sk-container-id-20 div.sk-dashed-wrapped {border: 1px dashed gray;margin: 0 0.4em 0.5em 0.4em;box-sizing: border-box;padding-bottom: 0.4em;background-color: white;}#sk-container-id-20 div.sk-label label {font-family: monospace;font-weight: bold;display: inline-block;line-height: 1.2em;}#sk-container-id-20 div.sk-label-container {text-align: center;}#sk-container-id-20 div.sk-container {/* jupyter's `normalize.less` sets `[hidden] { display: none; }` but bootstrap.min.css set `[hidden] { display: none !important; }` so we also need the `!important` here to be able to override the default hidden behavior on the sphinx rendered scikit-learn.org. See: https://github.com/scikit-learn/scikit-learn/issues/21755 */display: inline-block !important;position: relative;}#sk-container-id-20 div.sk-text-repr-fallback {display: none;}</style><div id=\"sk-container-id-20\" class=\"sk-top-container\"><div class=\"sk-text-repr-fallback\"><pre>SVC(gamma=0.5)</pre><b>In a Jupyter environment, please rerun this cell to show the HTML representation or trust the notebook. <br />On GitHub, the HTML representation is unable to render, please try loading this page with nbviewer.org.</b></div><div class=\"sk-container\" hidden><div class=\"sk-item\"><div class=\"sk-estimator sk-toggleable\"><input class=\"sk-toggleable__control sk-hidden--visually\" id=\"sk-estimator-id-26\" type=\"checkbox\" checked><label for=\"sk-estimator-id-26\" class=\"sk-toggleable__label sk-toggleable__label-arrow\">SVC</label><div class=\"sk-toggleable__content\"><pre>SVC(gamma=0.5)</pre></div></div></div></div></div>"
      ],
      "text/plain": [
       "SVC(gamma=0.5)"
      ]
     },
     "execution_count": 635,
     "metadata": {},
     "output_type": "execute_result"
    }
   ],
   "source": [
    "svm.fit(x_train,y_train)"
   ]
  },
  {
   "cell_type": "code",
   "execution_count": 636,
   "id": "550b6499",
   "metadata": {},
   "outputs": [],
   "source": [
    "#how model performs on unseen[test data] and getting accuracy score\n",
    "y_tepred=svm.predict(x_test)\n",
    "test_Accuracy=accuracy_score(y_test,y_tepred)"
   ]
  },
  {
   "cell_type": "code",
   "execution_count": 637,
   "id": "0f918fe7",
   "metadata": {},
   "outputs": [],
   "source": [
    "#for training -Accuracy score\n",
    "y_trpred=svm.predict(x_train)\n",
    "train_Accuracy=accuracy_score(y_train,y_trpred)"
   ]
  },
  {
   "cell_type": "code",
   "execution_count": 638,
   "id": "d302e3c2",
   "metadata": {},
   "outputs": [
    {
     "name": "stdout",
     "output_type": "stream",
     "text": [
      "Training Score for Support Vector Machine Model is : 95.96\n",
      "Testing  Score for Support Vector Machine Model Model is : 89.23\n"
     ]
    }
   ],
   "source": [
    "#Displaying the accuracy percentage:\n",
    "print(\"Training Score for Support Vector Machine Model is :\",round(train_Accuracy*100,2))\n",
    "print(\"Testing  Score for Support Vector Machine Model Model is :\",round(test_Accuracy*100,2))"
   ]
  },
  {
   "cell_type": "code",
   "execution_count": 639,
   "id": "70a5badc",
   "metadata": {},
   "outputs": [
    {
     "data": {
      "text/plain": [
       "array([[5524,   90],\n",
       "       [ 592,  124]], dtype=int64)"
      ]
     },
     "execution_count": 639,
     "metadata": {},
     "output_type": "execute_result"
    }
   ],
   "source": [
    "confusion_matrix3=confusion_matrix(y_test,y_tepred)\n",
    "confusion_matrix3"
   ]
  },
  {
   "cell_type": "code",
   "execution_count": 640,
   "id": "a35477f2",
   "metadata": {},
   "outputs": [
    {
     "data": {
      "text/plain": [
       "0.8921011058451817"
      ]
     },
     "execution_count": 640,
     "metadata": {},
     "output_type": "execute_result"
    }
   ],
   "source": [
    "(5525+122)/(5525+89+594+122)"
   ]
  },
  {
   "cell_type": "markdown",
   "id": "bb61deb5",
   "metadata": {},
   "source": [
    "# 6)Hyper parameter Turing:"
   ]
  },
  {
   "cell_type": "code",
   "execution_count": 641,
   "id": "843ada73",
   "metadata": {},
   "outputs": [],
   "source": [
    "from sklearn.model_selection import GridSearchCV"
   ]
  },
  {
   "cell_type": "code",
   "execution_count": 642,
   "id": "df5b9b37",
   "metadata": {},
   "outputs": [
    {
     "data": {
      "text/html": [
       "<style>#sk-container-id-21 {color: black;}#sk-container-id-21 pre{padding: 0;}#sk-container-id-21 div.sk-toggleable {background-color: white;}#sk-container-id-21 label.sk-toggleable__label {cursor: pointer;display: block;width: 100%;margin-bottom: 0;padding: 0.3em;box-sizing: border-box;text-align: center;}#sk-container-id-21 label.sk-toggleable__label-arrow:before {content: \"▸\";float: left;margin-right: 0.25em;color: #696969;}#sk-container-id-21 label.sk-toggleable__label-arrow:hover:before {color: black;}#sk-container-id-21 div.sk-estimator:hover label.sk-toggleable__label-arrow:before {color: black;}#sk-container-id-21 div.sk-toggleable__content {max-height: 0;max-width: 0;overflow: hidden;text-align: left;background-color: #f0f8ff;}#sk-container-id-21 div.sk-toggleable__content pre {margin: 0.2em;color: black;border-radius: 0.25em;background-color: #f0f8ff;}#sk-container-id-21 input.sk-toggleable__control:checked~div.sk-toggleable__content {max-height: 200px;max-width: 100%;overflow: auto;}#sk-container-id-21 input.sk-toggleable__control:checked~label.sk-toggleable__label-arrow:before {content: \"▾\";}#sk-container-id-21 div.sk-estimator input.sk-toggleable__control:checked~label.sk-toggleable__label {background-color: #d4ebff;}#sk-container-id-21 div.sk-label input.sk-toggleable__control:checked~label.sk-toggleable__label {background-color: #d4ebff;}#sk-container-id-21 input.sk-hidden--visually {border: 0;clip: rect(1px 1px 1px 1px);clip: rect(1px, 1px, 1px, 1px);height: 1px;margin: -1px;overflow: hidden;padding: 0;position: absolute;width: 1px;}#sk-container-id-21 div.sk-estimator {font-family: monospace;background-color: #f0f8ff;border: 1px dotted black;border-radius: 0.25em;box-sizing: border-box;margin-bottom: 0.5em;}#sk-container-id-21 div.sk-estimator:hover {background-color: #d4ebff;}#sk-container-id-21 div.sk-parallel-item::after {content: \"\";width: 100%;border-bottom: 1px solid gray;flex-grow: 1;}#sk-container-id-21 div.sk-label:hover label.sk-toggleable__label {background-color: #d4ebff;}#sk-container-id-21 div.sk-serial::before {content: \"\";position: absolute;border-left: 1px solid gray;box-sizing: border-box;top: 0;bottom: 0;left: 50%;z-index: 0;}#sk-container-id-21 div.sk-serial {display: flex;flex-direction: column;align-items: center;background-color: white;padding-right: 0.2em;padding-left: 0.2em;position: relative;}#sk-container-id-21 div.sk-item {position: relative;z-index: 1;}#sk-container-id-21 div.sk-parallel {display: flex;align-items: stretch;justify-content: center;background-color: white;position: relative;}#sk-container-id-21 div.sk-item::before, #sk-container-id-21 div.sk-parallel-item::before {content: \"\";position: absolute;border-left: 1px solid gray;box-sizing: border-box;top: 0;bottom: 0;left: 50%;z-index: -1;}#sk-container-id-21 div.sk-parallel-item {display: flex;flex-direction: column;z-index: 1;position: relative;background-color: white;}#sk-container-id-21 div.sk-parallel-item:first-child::after {align-self: flex-end;width: 50%;}#sk-container-id-21 div.sk-parallel-item:last-child::after {align-self: flex-start;width: 50%;}#sk-container-id-21 div.sk-parallel-item:only-child::after {width: 0;}#sk-container-id-21 div.sk-dashed-wrapped {border: 1px dashed gray;margin: 0 0.4em 0.5em 0.4em;box-sizing: border-box;padding-bottom: 0.4em;background-color: white;}#sk-container-id-21 div.sk-label label {font-family: monospace;font-weight: bold;display: inline-block;line-height: 1.2em;}#sk-container-id-21 div.sk-label-container {text-align: center;}#sk-container-id-21 div.sk-container {/* jupyter's `normalize.less` sets `[hidden] { display: none; }` but bootstrap.min.css set `[hidden] { display: none !important; }` so we also need the `!important` here to be able to override the default hidden behavior on the sphinx rendered scikit-learn.org. See: https://github.com/scikit-learn/scikit-learn/issues/21755 */display: inline-block !important;position: relative;}#sk-container-id-21 div.sk-text-repr-fallback {display: none;}</style><div id=\"sk-container-id-21\" class=\"sk-top-container\"><div class=\"sk-text-repr-fallback\"><pre>GridSearchCV(cv=10, estimator=LogisticRegression(),\n",
       "             param_grid={&#x27;C&#x27;: array([1.00000000e-03, 2.06913808e-03, 4.28133240e-03, 8.85866790e-03,\n",
       "       1.83298071e-02, 3.79269019e-02, 7.84759970e-02, 1.62377674e-01,\n",
       "       3.35981829e-01, 6.95192796e-01, 1.43844989e+00, 2.97635144e+00,\n",
       "       6.15848211e+00, 1.27427499e+01, 2.63665090e+01, 5.45559478e+01,\n",
       "       1.12883789e+02, 2.33572147e+02, 4.83293024e+02, 1.00000000e+03]),\n",
       "                         &#x27;penalty&#x27;: [&#x27;l2&#x27;]})</pre><b>In a Jupyter environment, please rerun this cell to show the HTML representation or trust the notebook. <br />On GitHub, the HTML representation is unable to render, please try loading this page with nbviewer.org.</b></div><div class=\"sk-container\" hidden><div class=\"sk-item sk-dashed-wrapped\"><div class=\"sk-label-container\"><div class=\"sk-label sk-toggleable\"><input class=\"sk-toggleable__control sk-hidden--visually\" id=\"sk-estimator-id-27\" type=\"checkbox\" ><label for=\"sk-estimator-id-27\" class=\"sk-toggleable__label sk-toggleable__label-arrow\">GridSearchCV</label><div class=\"sk-toggleable__content\"><pre>GridSearchCV(cv=10, estimator=LogisticRegression(),\n",
       "             param_grid={&#x27;C&#x27;: array([1.00000000e-03, 2.06913808e-03, 4.28133240e-03, 8.85866790e-03,\n",
       "       1.83298071e-02, 3.79269019e-02, 7.84759970e-02, 1.62377674e-01,\n",
       "       3.35981829e-01, 6.95192796e-01, 1.43844989e+00, 2.97635144e+00,\n",
       "       6.15848211e+00, 1.27427499e+01, 2.63665090e+01, 5.45559478e+01,\n",
       "       1.12883789e+02, 2.33572147e+02, 4.83293024e+02, 1.00000000e+03]),\n",
       "                         &#x27;penalty&#x27;: [&#x27;l2&#x27;]})</pre></div></div></div><div class=\"sk-parallel\"><div class=\"sk-parallel-item\"><div class=\"sk-item\"><div class=\"sk-label-container\"><div class=\"sk-label sk-toggleable\"><input class=\"sk-toggleable__control sk-hidden--visually\" id=\"sk-estimator-id-28\" type=\"checkbox\" ><label for=\"sk-estimator-id-28\" class=\"sk-toggleable__label sk-toggleable__label-arrow\">estimator: LogisticRegression</label><div class=\"sk-toggleable__content\"><pre>LogisticRegression()</pre></div></div></div><div class=\"sk-serial\"><div class=\"sk-item\"><div class=\"sk-estimator sk-toggleable\"><input class=\"sk-toggleable__control sk-hidden--visually\" id=\"sk-estimator-id-29\" type=\"checkbox\" ><label for=\"sk-estimator-id-29\" class=\"sk-toggleable__label sk-toggleable__label-arrow\">LogisticRegression</label><div class=\"sk-toggleable__content\"><pre>LogisticRegression()</pre></div></div></div></div></div></div></div></div></div></div>"
      ],
      "text/plain": [
       "GridSearchCV(cv=10, estimator=LogisticRegression(),\n",
       "             param_grid={'C': array([1.00000000e-03, 2.06913808e-03, 4.28133240e-03, 8.85866790e-03,\n",
       "       1.83298071e-02, 3.79269019e-02, 7.84759970e-02, 1.62377674e-01,\n",
       "       3.35981829e-01, 6.95192796e-01, 1.43844989e+00, 2.97635144e+00,\n",
       "       6.15848211e+00, 1.27427499e+01, 2.63665090e+01, 5.45559478e+01,\n",
       "       1.12883789e+02, 2.33572147e+02, 4.83293024e+02, 1.00000000e+03]),\n",
       "                         'penalty': ['l2']})"
      ]
     },
     "execution_count": 642,
     "metadata": {},
     "output_type": "execute_result"
    }
   ],
   "source": [
    "grid = {\"C\": np.logspace(-3, 3, 20), \"penalty\": [\"l2\"]}# range of values randomly given \n",
    "logreg = LogisticRegression()\n",
    "grid_logreg = GridSearchCV(logreg, grid, cv=10)\n",
    "grid_logreg.fit(x_train, y_train)"
   ]
  },
  {
   "cell_type": "code",
   "execution_count": 643,
   "id": "c43758e0",
   "metadata": {},
   "outputs": [
    {
     "name": "stdout",
     "output_type": "stream",
     "text": [
      "Tuned hyperparameters (best parameters): {'C': 0.008858667904100823, 'penalty': 'l2'}\n",
      "Accuracy: 89.97513143497721\n"
     ]
    }
   ],
   "source": [
    "best_params = grid_logreg.best_params_\n",
    "best_accuracy = grid_logreg.best_score_ * 100\n",
    "print(\"Tuned hyperparameters (best parameters):\", best_params)\n",
    "print(\"Accuracy:\", best_accuracy)"
   ]
  },
  {
   "cell_type": "markdown",
   "id": "b91f6ade",
   "metadata": {},
   "source": [
    "# 7)Build a predictive model:"
   ]
  },
  {
   "cell_type": "code",
   "execution_count": 644,
   "id": "7baccc4e",
   "metadata": {},
   "outputs": [
    {
     "data": {
      "text/html": [
       "<div>\n",
       "<style scoped>\n",
       "    .dataframe tbody tr th:only-of-type {\n",
       "        vertical-align: middle;\n",
       "    }\n",
       "\n",
       "    .dataframe tbody tr th {\n",
       "        vertical-align: top;\n",
       "    }\n",
       "\n",
       "    .dataframe thead th {\n",
       "        text-align: right;\n",
       "    }\n",
       "</style>\n",
       "<table border=\"1\" class=\"dataframe\">\n",
       "  <thead>\n",
       "    <tr style=\"text-align: right;\">\n",
       "      <th></th>\n",
       "      <th>age</th>\n",
       "      <th>job</th>\n",
       "      <th>marital</th>\n",
       "      <th>education</th>\n",
       "      <th>default</th>\n",
       "      <th>balance</th>\n",
       "      <th>housing</th>\n",
       "      <th>loan</th>\n",
       "      <th>contact</th>\n",
       "      <th>day</th>\n",
       "      <th>month</th>\n",
       "      <th>duration</th>\n",
       "      <th>campaign</th>\n",
       "      <th>pdays</th>\n",
       "      <th>previous</th>\n",
       "      <th>poutcome</th>\n",
       "    </tr>\n",
       "  </thead>\n",
       "  <tbody>\n",
       "    <tr>\n",
       "      <th>0</th>\n",
       "      <td>3.174802</td>\n",
       "      <td>services</td>\n",
       "      <td>married</td>\n",
       "      <td>secondary</td>\n",
       "      <td>0</td>\n",
       "      <td>4.904868</td>\n",
       "      <td>1</td>\n",
       "      <td>0</td>\n",
       "      <td>cellular</td>\n",
       "      <td>15</td>\n",
       "      <td>5</td>\n",
       "      <td>2.714418</td>\n",
       "      <td>1.817121</td>\n",
       "      <td>-1.000000</td>\n",
       "      <td>0</td>\n",
       "      <td>unknown</td>\n",
       "    </tr>\n",
       "    <tr>\n",
       "      <th>1</th>\n",
       "      <td>4.272659</td>\n",
       "      <td>retired</td>\n",
       "      <td>divorced</td>\n",
       "      <td>primary</td>\n",
       "      <td>0</td>\n",
       "      <td>14.072751</td>\n",
       "      <td>0</td>\n",
       "      <td>0</td>\n",
       "      <td>telephone</td>\n",
       "      <td>1</td>\n",
       "      <td>7</td>\n",
       "      <td>7.191966</td>\n",
       "      <td>1.000000</td>\n",
       "      <td>-1.000000</td>\n",
       "      <td>0</td>\n",
       "      <td>unknown</td>\n",
       "    </tr>\n",
       "    <tr>\n",
       "      <th>2</th>\n",
       "      <td>3.141381</td>\n",
       "      <td>self-employed</td>\n",
       "      <td>single</td>\n",
       "      <td>tertiary</td>\n",
       "      <td>0</td>\n",
       "      <td>5.241483</td>\n",
       "      <td>1</td>\n",
       "      <td>0</td>\n",
       "      <td>unknown</td>\n",
       "      <td>16</td>\n",
       "      <td>5</td>\n",
       "      <td>8.776383</td>\n",
       "      <td>1.000000</td>\n",
       "      <td>-1.000000</td>\n",
       "      <td>0</td>\n",
       "      <td>unknown</td>\n",
       "    </tr>\n",
       "    <tr>\n",
       "      <th>3</th>\n",
       "      <td>3.848501</td>\n",
       "      <td>services</td>\n",
       "      <td>single</td>\n",
       "      <td>primary</td>\n",
       "      <td>0</td>\n",
       "      <td>15.573360</td>\n",
       "      <td>1</td>\n",
       "      <td>0</td>\n",
       "      <td>telephone</td>\n",
       "      <td>13</td>\n",
       "      <td>5</td>\n",
       "      <td>4.020726</td>\n",
       "      <td>1.259921</td>\n",
       "      <td>-1.000000</td>\n",
       "      <td>0</td>\n",
       "      <td>unknown</td>\n",
       "    </tr>\n",
       "    <tr>\n",
       "      <th>4</th>\n",
       "      <td>3.556893</td>\n",
       "      <td>blue-collar</td>\n",
       "      <td>divorced</td>\n",
       "      <td>secondary</td>\n",
       "      <td>0</td>\n",
       "      <td>-8.900130</td>\n",
       "      <td>0</td>\n",
       "      <td>1</td>\n",
       "      <td>unknown</td>\n",
       "      <td>3</td>\n",
       "      <td>7</td>\n",
       "      <td>4.805896</td>\n",
       "      <td>1.000000</td>\n",
       "      <td>-1.000000</td>\n",
       "      <td>0</td>\n",
       "      <td>unknown</td>\n",
       "    </tr>\n",
       "    <tr>\n",
       "      <th>...</th>\n",
       "      <td>...</td>\n",
       "      <td>...</td>\n",
       "      <td>...</td>\n",
       "      <td>...</td>\n",
       "      <td>...</td>\n",
       "      <td>...</td>\n",
       "      <td>...</td>\n",
       "      <td>...</td>\n",
       "      <td>...</td>\n",
       "      <td>...</td>\n",
       "      <td>...</td>\n",
       "      <td>...</td>\n",
       "      <td>...</td>\n",
       "      <td>...</td>\n",
       "      <td>...</td>\n",
       "      <td>...</td>\n",
       "    </tr>\n",
       "    <tr>\n",
       "      <th>13559</th>\n",
       "      <td>3.391211</td>\n",
       "      <td>management</td>\n",
       "      <td>married</td>\n",
       "      <td>tertiary</td>\n",
       "      <td>0</td>\n",
       "      <td>3.556893</td>\n",
       "      <td>0</td>\n",
       "      <td>0</td>\n",
       "      <td>cellular</td>\n",
       "      <td>28</td>\n",
       "      <td>8</td>\n",
       "      <td>5.289572</td>\n",
       "      <td>1.587401</td>\n",
       "      <td>-1.000000</td>\n",
       "      <td>0</td>\n",
       "      <td>unknown</td>\n",
       "    </tr>\n",
       "    <tr>\n",
       "      <th>13560</th>\n",
       "      <td>3.779763</td>\n",
       "      <td>blue-collar</td>\n",
       "      <td>married</td>\n",
       "      <td>primary</td>\n",
       "      <td>0</td>\n",
       "      <td>13.163613</td>\n",
       "      <td>1</td>\n",
       "      <td>0</td>\n",
       "      <td>unknown</td>\n",
       "      <td>20</td>\n",
       "      <td>6</td>\n",
       "      <td>5.406120</td>\n",
       "      <td>1.000000</td>\n",
       "      <td>-1.000000</td>\n",
       "      <td>0</td>\n",
       "      <td>unknown</td>\n",
       "    </tr>\n",
       "    <tr>\n",
       "      <th>13561</th>\n",
       "      <td>3.271066</td>\n",
       "      <td>retired</td>\n",
       "      <td>married</td>\n",
       "      <td>primary</td>\n",
       "      <td>0</td>\n",
       "      <td>6.580844</td>\n",
       "      <td>1</td>\n",
       "      <td>0</td>\n",
       "      <td>cellular</td>\n",
       "      <td>29</td>\n",
       "      <td>1</td>\n",
       "      <td>5.142563</td>\n",
       "      <td>1.000000</td>\n",
       "      <td>-1.000000</td>\n",
       "      <td>0</td>\n",
       "      <td>unknown</td>\n",
       "    </tr>\n",
       "    <tr>\n",
       "      <th>13562</th>\n",
       "      <td>3.072317</td>\n",
       "      <td>admin.</td>\n",
       "      <td>single</td>\n",
       "      <td>secondary</td>\n",
       "      <td>0</td>\n",
       "      <td>7.741753</td>\n",
       "      <td>0</td>\n",
       "      <td>0</td>\n",
       "      <td>cellular</td>\n",
       "      <td>9</td>\n",
       "      <td>11</td>\n",
       "      <td>5.924992</td>\n",
       "      <td>1.259921</td>\n",
       "      <td>4.497941</td>\n",
       "      <td>3</td>\n",
       "      <td>success</td>\n",
       "    </tr>\n",
       "    <tr>\n",
       "      <th>13563</th>\n",
       "      <td>3.072317</td>\n",
       "      <td>admin.</td>\n",
       "      <td>married</td>\n",
       "      <td>secondary</td>\n",
       "      <td>0</td>\n",
       "      <td>1.259921</td>\n",
       "      <td>1</td>\n",
       "      <td>0</td>\n",
       "      <td>cellular</td>\n",
       "      <td>6</td>\n",
       "      <td>5</td>\n",
       "      <td>6.972683</td>\n",
       "      <td>1.000000</td>\n",
       "      <td>7.126936</td>\n",
       "      <td>1</td>\n",
       "      <td>failure</td>\n",
       "    </tr>\n",
       "  </tbody>\n",
       "</table>\n",
       "<p>13564 rows × 16 columns</p>\n",
       "</div>"
      ],
      "text/plain": [
       "            age            job   marital  education  default    balance  \\\n",
       "0      3.174802       services   married  secondary        0   4.904868   \n",
       "1      4.272659        retired  divorced    primary        0  14.072751   \n",
       "2      3.141381  self-employed    single   tertiary        0   5.241483   \n",
       "3      3.848501       services    single    primary        0  15.573360   \n",
       "4      3.556893    blue-collar  divorced  secondary        0  -8.900130   \n",
       "...         ...            ...       ...        ...      ...        ...   \n",
       "13559  3.391211     management   married   tertiary        0   3.556893   \n",
       "13560  3.779763    blue-collar   married    primary        0  13.163613   \n",
       "13561  3.271066        retired   married    primary        0   6.580844   \n",
       "13562  3.072317         admin.    single  secondary        0   7.741753   \n",
       "13563  3.072317         admin.   married  secondary        0   1.259921   \n",
       "\n",
       "       housing  loan    contact  day  month  duration  campaign     pdays  \\\n",
       "0            1     0   cellular   15      5  2.714418  1.817121 -1.000000   \n",
       "1            0     0  telephone    1      7  7.191966  1.000000 -1.000000   \n",
       "2            1     0    unknown   16      5  8.776383  1.000000 -1.000000   \n",
       "3            1     0  telephone   13      5  4.020726  1.259921 -1.000000   \n",
       "4            0     1    unknown    3      7  4.805896  1.000000 -1.000000   \n",
       "...        ...   ...        ...  ...    ...       ...       ...       ...   \n",
       "13559        0     0   cellular   28      8  5.289572  1.587401 -1.000000   \n",
       "13560        1     0    unknown   20      6  5.406120  1.000000 -1.000000   \n",
       "13561        1     0   cellular   29      1  5.142563  1.000000 -1.000000   \n",
       "13562        0     0   cellular    9     11  5.924992  1.259921  4.497941   \n",
       "13563        1     0   cellular    6      5  6.972683  1.000000  7.126936   \n",
       "\n",
       "       previous poutcome  \n",
       "0             0  unknown  \n",
       "1             0  unknown  \n",
       "2             0  unknown  \n",
       "3             0  unknown  \n",
       "4             0  unknown  \n",
       "...         ...      ...  \n",
       "13559         0  unknown  \n",
       "13560         0  unknown  \n",
       "13561         0  unknown  \n",
       "13562         3  success  \n",
       "13563         1  failure  \n",
       "\n",
       "[13564 rows x 16 columns]"
      ]
     },
     "execution_count": 644,
     "metadata": {},
     "output_type": "execute_result"
    }
   ],
   "source": [
    "test_df"
   ]
  },
  {
   "cell_type": "code",
   "execution_count": 645,
   "id": "f0ffd7df",
   "metadata": {},
   "outputs": [],
   "source": [
    "#importing the necessary libraries:\n",
    "from sklearn.preprocessing import LabelEncoder"
   ]
  },
  {
   "cell_type": "code",
   "execution_count": 646,
   "id": "939d0c0d",
   "metadata": {},
   "outputs": [],
   "source": [
    "encoder= LabelEncoder()"
   ]
  },
  {
   "cell_type": "code",
   "execution_count": 647,
   "id": "25f1cc6c",
   "metadata": {},
   "outputs": [],
   "source": [
    "#by using target encoder encoding marital column:\n",
    "test_df[\"job\"]=encoder.fit_transform(test_df[\"job\"])\n",
    "test_df[\"poutcome\"]=encoder.fit_transform(test_df[\"poutcome\"])\n",
    "test_df[\"marital\"]=encoder.fit_transform(test_df[\"marital\"])\n",
    "test_df[\"contact\"]=encoder.fit_transform(test_df[\"contact\"])"
   ]
  },
  {
   "cell_type": "code",
   "execution_count": 648,
   "id": "7e7d8d65",
   "metadata": {},
   "outputs": [],
   "source": [
    "#Endoing the education column with ordinal Encoder:\n",
    "ord_encoder1=OrdinalEncoder(categories=[[\"unknown\",\"primary\",\"secondary\",\"tertiary\"]])\n",
    "encoded_values=ord_encoder1.fit_transform(test_df[[\"education\"]])\n",
    "test_df[\"education\"]=encoded_values"
   ]
  },
  {
   "cell_type": "code",
   "execution_count": 649,
   "id": "4af5f657",
   "metadata": {},
   "outputs": [],
   "source": [
    "subscribed_pred=log_reg.predict(test_df)"
   ]
  },
  {
   "cell_type": "code",
   "execution_count": 650,
   "id": "32b25a76",
   "metadata": {},
   "outputs": [
    {
     "data": {
      "text/plain": [
       "array([1, 1, 1, ..., 1, 1, 1], dtype=int64)"
      ]
     },
     "execution_count": 650,
     "metadata": {},
     "output_type": "execute_result"
    }
   ],
   "source": [
    "subscribed_pred"
   ]
  },
  {
   "cell_type": "code",
   "execution_count": 651,
   "id": "47329f74",
   "metadata": {},
   "outputs": [],
   "source": [
    "subs_df=pd.DataFrame({\n",
    "    \"SUBSCRIBED\":subscribed_pred\n",
    "})"
   ]
  },
  {
   "cell_type": "code",
   "execution_count": 653,
   "id": "5dae7218",
   "metadata": {},
   "outputs": [],
   "source": [
    "subs_df.to_csv(\"Subscribed_pred.csv\")"
   ]
  },
  {
   "cell_type": "code",
   "execution_count": 663,
   "id": "a87e284d",
   "metadata": {},
   "outputs": [
    {
     "data": {
      "text/html": [
       "<div>\n",
       "<style scoped>\n",
       "    .dataframe tbody tr th:only-of-type {\n",
       "        vertical-align: middle;\n",
       "    }\n",
       "\n",
       "    .dataframe tbody tr th {\n",
       "        vertical-align: top;\n",
       "    }\n",
       "\n",
       "    .dataframe thead th {\n",
       "        text-align: right;\n",
       "    }\n",
       "</style>\n",
       "<table border=\"1\" class=\"dataframe\">\n",
       "  <thead>\n",
       "    <tr style=\"text-align: right;\">\n",
       "      <th></th>\n",
       "      <th>SUBSCRIBED</th>\n",
       "    </tr>\n",
       "  </thead>\n",
       "  <tbody>\n",
       "    <tr>\n",
       "      <th>0</th>\n",
       "      <td>1</td>\n",
       "    </tr>\n",
       "    <tr>\n",
       "      <th>1</th>\n",
       "      <td>1</td>\n",
       "    </tr>\n",
       "    <tr>\n",
       "      <th>2</th>\n",
       "      <td>1</td>\n",
       "    </tr>\n",
       "    <tr>\n",
       "      <th>3</th>\n",
       "      <td>1</td>\n",
       "    </tr>\n",
       "    <tr>\n",
       "      <th>4</th>\n",
       "      <td>1</td>\n",
       "    </tr>\n",
       "    <tr>\n",
       "      <th>...</th>\n",
       "      <td>...</td>\n",
       "    </tr>\n",
       "    <tr>\n",
       "      <th>13559</th>\n",
       "      <td>1</td>\n",
       "    </tr>\n",
       "    <tr>\n",
       "      <th>13560</th>\n",
       "      <td>1</td>\n",
       "    </tr>\n",
       "    <tr>\n",
       "      <th>13561</th>\n",
       "      <td>1</td>\n",
       "    </tr>\n",
       "    <tr>\n",
       "      <th>13562</th>\n",
       "      <td>1</td>\n",
       "    </tr>\n",
       "    <tr>\n",
       "      <th>13563</th>\n",
       "      <td>1</td>\n",
       "    </tr>\n",
       "  </tbody>\n",
       "</table>\n",
       "<p>13564 rows × 1 columns</p>\n",
       "</div>"
      ],
      "text/plain": [
       "       SUBSCRIBED\n",
       "0               1\n",
       "1               1\n",
       "2               1\n",
       "3               1\n",
       "4               1\n",
       "...           ...\n",
       "13559           1\n",
       "13560           1\n",
       "13561           1\n",
       "13562           1\n",
       "13563           1\n",
       "\n",
       "[13564 rows x 1 columns]"
      ]
     },
     "execution_count": 663,
     "metadata": {},
     "output_type": "execute_result"
    }
   ],
   "source": [
    "subs_df"
   ]
  },
  {
   "cell_type": "markdown",
   "id": "39a59309",
   "metadata": {},
   "source": [
    "1 represents yes\n",
    "\n",
    "0 represent no"
   ]
  },
  {
   "cell_type": "markdown",
   "id": "1da439ac",
   "metadata": {},
   "source": [
    "#End of the project"
   ]
  }
 ],
 "metadata": {
  "kernelspec": {
   "display_name": "Python 3 (ipykernel)",
   "language": "python",
   "name": "python3"
  },
  "language_info": {
   "codemirror_mode": {
    "name": "ipython",
    "version": 3
   },
   "file_extension": ".py",
   "mimetype": "text/x-python",
   "name": "python",
   "nbconvert_exporter": "python",
   "pygments_lexer": "ipython3",
   "version": "3.11.4"
  }
 },
 "nbformat": 4,
 "nbformat_minor": 5
}
