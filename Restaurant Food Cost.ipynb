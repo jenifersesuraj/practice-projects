{
 "cells": [
  {
   "cell_type": "markdown",
   "id": "86e2345e",
   "metadata": {},
   "source": [
    "# Restaurant Food Cost"
   ]
  },
  {
   "cell_type": "markdown",
   "id": "2f7160d6",
   "metadata": {},
   "source": [
    "Project Description"
   ]
  },
  {
   "cell_type": "markdown",
   "id": "80b53e6a",
   "metadata": {},
   "source": [
    "Who doesn’t love food? All of us must have craving for at least a few favourite food items, we may also have a few places where we like to get them, a restaurant which serves our favourite food the way we want it to be. But there is one factor that will make us reconsider having our favourite food from our favourite restaurant, the cost. Here in this hackathon, you will be predicting the cost of the food served by the restaurants across different cities in India. You will use your Data Science skills to investigate the factors that really affect the cost, and who knows maybe you will even gain some very interesting insights that might help you choose what to eat and from where."
   ]
  },
  {
   "cell_type": "markdown",
   "id": "a5a722f8",
   "metadata": {},
   "source": [
    "You are provided with following 2 files:"
   ]
  },
  {
   "cell_type": "markdown",
   "id": "e2e8a595",
   "metadata": {},
   "source": [
    "1.     train.csv : Use this dataset to train the model. This file contains all the details related to restaurant food cost as well as the target variable “cost”. You have to train your model using this file.\n",
    "2.     test.csv : Use the trained model to predict the cost of a two person meal.\n"
   ]
  },
  {
   "cell_type": "markdown",
   "id": "50e59ccb",
   "metadata": {},
   "source": [
    "Dataset Attributes"
   ]
  },
  {
   "cell_type": "markdown",
   "id": "cd737d13",
   "metadata": {},
   "source": [
    "TITLE: The feature of the restaurant which can help identify what and for whom it is suitable for.\n",
    "RESTAURANT_ID: A unique ID for each restaurant.\n",
    "CUISINES: The variety of cuisines that the restaurant offers.\n",
    "TIME: The open hours of the restaurant.\n",
    "CITY: The city in which the restaurant is located.\n",
    "LOCALITY: The locality of the restaurant.\n",
    "RATING: The average rating of the restaurant by customers.\n",
    "VOTES: The overall votes received by the restaurant.\n",
    "COST: The average cost of a two-person meal.\n"
   ]
  },
  {
   "cell_type": "markdown",
   "id": "9adb7c6a",
   "metadata": {},
   "source": [
    "# 1] EXPLORING DATASET"
   ]
  },
  {
   "cell_type": "code",
   "execution_count": 291,
   "id": "203a6ad7",
   "metadata": {},
   "outputs": [],
   "source": [
    "#Importing necessary libraries for analysis:\n",
    "import pandas as pd\n",
    "import numpy as np\n",
    "import seaborn as sns\n",
    "import matplotlib.pyplot as plt\n",
    "%matplotlib inline\n",
    "import warnings \n",
    "warnings.filterwarnings('ignore')"
   ]
  },
  {
   "cell_type": "code",
   "execution_count": 292,
   "id": "85227185",
   "metadata": {},
   "outputs": [],
   "source": [
    "#Downloading the raw data and loading into dataframe with the help of pandas library:-Training data\n",
    "df=pd.read_excel(r\"C:\\Users\\sesur\\OneDrive\\Desktop\\Documents\\Data_Train excel.xlsx\")"
   ]
  },
  {
   "cell_type": "code",
   "execution_count": 293,
   "id": "570df8ef",
   "metadata": {},
   "outputs": [],
   "source": [
    "#Downloading the raw data and loading into dataframe with the help of pandas library:- Test data\n",
    "test_df=pd.read_excel(r\"C:\\Users\\sesur\\Downloads\\Data_Test.xlsx\")"
   ]
  },
  {
   "cell_type": "code",
   "execution_count": 294,
   "id": "aaf17f56",
   "metadata": {},
   "outputs": [
    {
     "data": {
      "text/html": [
       "<div>\n",
       "<style scoped>\n",
       "    .dataframe tbody tr th:only-of-type {\n",
       "        vertical-align: middle;\n",
       "    }\n",
       "\n",
       "    .dataframe tbody tr th {\n",
       "        vertical-align: top;\n",
       "    }\n",
       "\n",
       "    .dataframe thead th {\n",
       "        text-align: right;\n",
       "    }\n",
       "</style>\n",
       "<table border=\"1\" class=\"dataframe\">\n",
       "  <thead>\n",
       "    <tr style=\"text-align: right;\">\n",
       "      <th></th>\n",
       "      <th>TITLE</th>\n",
       "      <th>RESTAURANT_ID</th>\n",
       "      <th>CUISINES</th>\n",
       "      <th>TIME</th>\n",
       "      <th>CITY</th>\n",
       "      <th>LOCALITY</th>\n",
       "      <th>RATING</th>\n",
       "      <th>VOTES</th>\n",
       "      <th>COST</th>\n",
       "    </tr>\n",
       "  </thead>\n",
       "  <tbody>\n",
       "    <tr>\n",
       "      <th>0</th>\n",
       "      <td>CASUAL DINING</td>\n",
       "      <td>9438</td>\n",
       "      <td>Malwani, Goan, North Indian</td>\n",
       "      <td>11am – 4pm, 7:30pm – 11:30pm (Mon-Sun)</td>\n",
       "      <td>Thane</td>\n",
       "      <td>Dombivali East</td>\n",
       "      <td>3.6</td>\n",
       "      <td>49 votes</td>\n",
       "      <td>1200</td>\n",
       "    </tr>\n",
       "    <tr>\n",
       "      <th>1</th>\n",
       "      <td>CASUAL DINING,BAR</td>\n",
       "      <td>13198</td>\n",
       "      <td>Asian, Modern Indian, Japanese</td>\n",
       "      <td>6pm – 11pm (Mon-Sun)</td>\n",
       "      <td>Chennai</td>\n",
       "      <td>Ramapuram</td>\n",
       "      <td>4.2</td>\n",
       "      <td>30 votes</td>\n",
       "      <td>1500</td>\n",
       "    </tr>\n",
       "    <tr>\n",
       "      <th>2</th>\n",
       "      <td>CASUAL DINING</td>\n",
       "      <td>10915</td>\n",
       "      <td>North Indian, Chinese, Biryani, Hyderabadi</td>\n",
       "      <td>11am – 3:30pm, 7pm – 11pm (Mon-Sun)</td>\n",
       "      <td>Chennai</td>\n",
       "      <td>Saligramam</td>\n",
       "      <td>3.8</td>\n",
       "      <td>221 votes</td>\n",
       "      <td>800</td>\n",
       "    </tr>\n",
       "    <tr>\n",
       "      <th>3</th>\n",
       "      <td>QUICK BITES</td>\n",
       "      <td>6346</td>\n",
       "      <td>Tibetan, Chinese</td>\n",
       "      <td>11:30am – 1am (Mon-Sun)</td>\n",
       "      <td>Mumbai</td>\n",
       "      <td>Bandra West</td>\n",
       "      <td>4.1</td>\n",
       "      <td>24 votes</td>\n",
       "      <td>800</td>\n",
       "    </tr>\n",
       "    <tr>\n",
       "      <th>4</th>\n",
       "      <td>DESSERT PARLOR</td>\n",
       "      <td>15387</td>\n",
       "      <td>Desserts</td>\n",
       "      <td>11am – 1am (Mon-Sun)</td>\n",
       "      <td>Mumbai</td>\n",
       "      <td>Lower Parel</td>\n",
       "      <td>3.8</td>\n",
       "      <td>165 votes</td>\n",
       "      <td>300</td>\n",
       "    </tr>\n",
       "  </tbody>\n",
       "</table>\n",
       "</div>"
      ],
      "text/plain": [
       "               TITLE  RESTAURANT_ID  \\\n",
       "0      CASUAL DINING           9438   \n",
       "1  CASUAL DINING,BAR          13198   \n",
       "2      CASUAL DINING          10915   \n",
       "3        QUICK BITES           6346   \n",
       "4     DESSERT PARLOR          15387   \n",
       "\n",
       "                                     CUISINES  \\\n",
       "0                 Malwani, Goan, North Indian   \n",
       "1              Asian, Modern Indian, Japanese   \n",
       "2  North Indian, Chinese, Biryani, Hyderabadi   \n",
       "3                            Tibetan, Chinese   \n",
       "4                                    Desserts   \n",
       "\n",
       "                                     TIME     CITY        LOCALITY RATING  \\\n",
       "0  11am – 4pm, 7:30pm – 11:30pm (Mon-Sun)    Thane  Dombivali East    3.6   \n",
       "1                    6pm – 11pm (Mon-Sun)  Chennai       Ramapuram    4.2   \n",
       "2     11am – 3:30pm, 7pm – 11pm (Mon-Sun)  Chennai      Saligramam    3.8   \n",
       "3                 11:30am – 1am (Mon-Sun)   Mumbai     Bandra West    4.1   \n",
       "4                    11am – 1am (Mon-Sun)   Mumbai     Lower Parel    3.8   \n",
       "\n",
       "       VOTES  COST  \n",
       "0   49 votes  1200  \n",
       "1   30 votes  1500  \n",
       "2  221 votes   800  \n",
       "3   24 votes   800  \n",
       "4  165 votes   300  "
      ]
     },
     "execution_count": 294,
     "metadata": {},
     "output_type": "execute_result"
    }
   ],
   "source": [
    "#For viewing the first 5 columns in given dataset: Training data\n",
    "df.head(5)"
   ]
  },
  {
   "cell_type": "code",
   "execution_count": 295,
   "id": "bab2d42e",
   "metadata": {},
   "outputs": [
    {
     "data": {
      "text/html": [
       "<div>\n",
       "<style scoped>\n",
       "    .dataframe tbody tr th:only-of-type {\n",
       "        vertical-align: middle;\n",
       "    }\n",
       "\n",
       "    .dataframe tbody tr th {\n",
       "        vertical-align: top;\n",
       "    }\n",
       "\n",
       "    .dataframe thead th {\n",
       "        text-align: right;\n",
       "    }\n",
       "</style>\n",
       "<table border=\"1\" class=\"dataframe\">\n",
       "  <thead>\n",
       "    <tr style=\"text-align: right;\">\n",
       "      <th></th>\n",
       "      <th>TITLE</th>\n",
       "      <th>RESTAURANT_ID</th>\n",
       "      <th>CUISINES</th>\n",
       "      <th>TIME</th>\n",
       "      <th>CITY</th>\n",
       "      <th>LOCALITY</th>\n",
       "      <th>RATING</th>\n",
       "      <th>VOTES</th>\n",
       "    </tr>\n",
       "  </thead>\n",
       "  <tbody>\n",
       "    <tr>\n",
       "      <th>0</th>\n",
       "      <td>CASUAL DINING</td>\n",
       "      <td>4085</td>\n",
       "      <td>North Indian, Chinese, Mughlai, Kebab</td>\n",
       "      <td>12noon – 12midnight (Mon-Sun)</td>\n",
       "      <td>Noida</td>\n",
       "      <td>Sector 18</td>\n",
       "      <td>4.3</td>\n",
       "      <td>564 votes</td>\n",
       "    </tr>\n",
       "    <tr>\n",
       "      <th>1</th>\n",
       "      <td>QUICK BITES</td>\n",
       "      <td>12680</td>\n",
       "      <td>South Indian, Fast Food, Pizza, North Indian</td>\n",
       "      <td>7am – 12:30AM (Mon-Sun)</td>\n",
       "      <td>Mumbai</td>\n",
       "      <td>Grant Road</td>\n",
       "      <td>4.2</td>\n",
       "      <td>61 votes</td>\n",
       "    </tr>\n",
       "    <tr>\n",
       "      <th>2</th>\n",
       "      <td>CASUAL DINING</td>\n",
       "      <td>1411</td>\n",
       "      <td>North Indian, Seafood, Biryani, Chinese</td>\n",
       "      <td>11am – 11:30pm (Mon-Sun)</td>\n",
       "      <td>Mumbai</td>\n",
       "      <td>Marine Lines</td>\n",
       "      <td>3.8</td>\n",
       "      <td>350 votes</td>\n",
       "    </tr>\n",
       "    <tr>\n",
       "      <th>3</th>\n",
       "      <td>None</td>\n",
       "      <td>204</td>\n",
       "      <td>Biryani</td>\n",
       "      <td>9am – 10pm (Mon, Wed, Thu, Fri, Sat, Sun), 10:...</td>\n",
       "      <td>Faridabad</td>\n",
       "      <td>NIT</td>\n",
       "      <td>3.8</td>\n",
       "      <td>1445 votes</td>\n",
       "    </tr>\n",
       "    <tr>\n",
       "      <th>4</th>\n",
       "      <td>QUICK BITES</td>\n",
       "      <td>13453</td>\n",
       "      <td>South Indian, Kerala</td>\n",
       "      <td>11am – 10pm (Mon-Sun)</td>\n",
       "      <td>Kochi</td>\n",
       "      <td>Kaloor</td>\n",
       "      <td>3.6</td>\n",
       "      <td>23 votes</td>\n",
       "    </tr>\n",
       "  </tbody>\n",
       "</table>\n",
       "</div>"
      ],
      "text/plain": [
       "           TITLE  RESTAURANT_ID                                      CUISINES  \\\n",
       "0  CASUAL DINING           4085         North Indian, Chinese, Mughlai, Kebab   \n",
       "1    QUICK BITES          12680  South Indian, Fast Food, Pizza, North Indian   \n",
       "2  CASUAL DINING           1411       North Indian, Seafood, Biryani, Chinese   \n",
       "3           None            204                                       Biryani   \n",
       "4    QUICK BITES          13453                          South Indian, Kerala   \n",
       "\n",
       "                                                TIME       CITY      LOCALITY  \\\n",
       "0                      12noon – 12midnight (Mon-Sun)      Noida     Sector 18   \n",
       "1                            7am – 12:30AM (Mon-Sun)     Mumbai    Grant Road   \n",
       "2                           11am – 11:30pm (Mon-Sun)     Mumbai  Marine Lines   \n",
       "3  9am – 10pm (Mon, Wed, Thu, Fri, Sat, Sun), 10:...  Faridabad           NIT   \n",
       "4                              11am – 10pm (Mon-Sun)      Kochi        Kaloor   \n",
       "\n",
       "  RATING       VOTES  \n",
       "0    4.3   564 votes  \n",
       "1    4.2    61 votes  \n",
       "2    3.8   350 votes  \n",
       "3    3.8  1445 votes  \n",
       "4    3.6    23 votes  "
      ]
     },
     "execution_count": 295,
     "metadata": {},
     "output_type": "execute_result"
    }
   ],
   "source": [
    "#For viewing the first 5 columns in given dataset:Testing data\n",
    "test_df.head(5)"
   ]
  },
  {
   "cell_type": "code",
   "execution_count": 296,
   "id": "30db9a6b",
   "metadata": {},
   "outputs": [
    {
     "data": {
      "text/plain": [
       "(12690, 9)"
      ]
     },
     "execution_count": 296,
     "metadata": {},
     "output_type": "execute_result"
    }
   ],
   "source": [
    "#To know about the no of rows and columns in the dataset\n",
    "df.shape"
   ]
  },
  {
   "cell_type": "code",
   "execution_count": 297,
   "id": "e9ccae6e",
   "metadata": {},
   "outputs": [
    {
     "data": {
      "text/plain": [
       "(4231, 8)"
      ]
     },
     "execution_count": 297,
     "metadata": {},
     "output_type": "execute_result"
    }
   ],
   "source": [
    "#To know about the no of rows and columns in the dataset\n",
    "test_df.shape"
   ]
  },
  {
   "cell_type": "code",
   "execution_count": 298,
   "id": "888eb016",
   "metadata": {},
   "outputs": [
    {
     "name": "stdout",
     "output_type": "stream",
     "text": [
      "<class 'pandas.core.frame.DataFrame'>\n",
      "RangeIndex: 12690 entries, 0 to 12689\n",
      "Data columns (total 9 columns):\n",
      " #   Column         Non-Null Count  Dtype \n",
      "---  ------         --------------  ----- \n",
      " 0   TITLE          12690 non-null  object\n",
      " 1   RESTAURANT_ID  12690 non-null  int64 \n",
      " 2   CUISINES       12690 non-null  object\n",
      " 3   TIME           12690 non-null  object\n",
      " 4   CITY           12578 non-null  object\n",
      " 5   LOCALITY       12592 non-null  object\n",
      " 6   RATING         12688 non-null  object\n",
      " 7   VOTES          11486 non-null  object\n",
      " 8   COST           12690 non-null  int64 \n",
      "dtypes: int64(2), object(7)\n",
      "memory usage: 892.4+ KB\n"
     ]
    }
   ],
   "source": [
    "#To know more about the dataset\n",
    "df.info()"
   ]
  },
  {
   "cell_type": "code",
   "execution_count": 299,
   "id": "d4097fbd",
   "metadata": {},
   "outputs": [
    {
     "name": "stdout",
     "output_type": "stream",
     "text": [
      "<class 'pandas.core.frame.DataFrame'>\n",
      "RangeIndex: 4231 entries, 0 to 4230\n",
      "Data columns (total 8 columns):\n",
      " #   Column         Non-Null Count  Dtype \n",
      "---  ------         --------------  ----- \n",
      " 0   TITLE          4231 non-null   object\n",
      " 1   RESTAURANT_ID  4231 non-null   int64 \n",
      " 2   CUISINES       4231 non-null   object\n",
      " 3   TIME           4231 non-null   object\n",
      " 4   CITY           4196 non-null   object\n",
      " 5   LOCALITY       4201 non-null   object\n",
      " 6   RATING         4229 non-null   object\n",
      " 7   VOTES          3829 non-null   object\n",
      "dtypes: int64(1), object(7)\n",
      "memory usage: 264.6+ KB\n"
     ]
    }
   ],
   "source": [
    "#To know more about the dataset\n",
    "test_df.info()"
   ]
  },
  {
   "cell_type": "markdown",
   "id": "44d0850d",
   "metadata": {},
   "source": [
    "From this we can say that numerical columns are: RESTAURANT_ID,COST\n",
    "All other columns are categorical columns."
   ]
  },
  {
   "cell_type": "markdown",
   "id": "21292116",
   "metadata": {},
   "source": [
    "To analyse how many distinct values in the column:\n",
    "    "
   ]
  },
  {
   "cell_type": "code",
   "execution_count": 300,
   "id": "8fb881f1",
   "metadata": {},
   "outputs": [
    {
     "data": {
      "text/plain": [
       "113"
      ]
     },
     "execution_count": 300,
     "metadata": {},
     "output_type": "execute_result"
    }
   ],
   "source": [
    "len(df[\"TITLE\"].unique())"
   ]
  },
  {
   "cell_type": "code",
   "execution_count": 301,
   "id": "5ddcbc96",
   "metadata": {},
   "outputs": [
    {
     "data": {
      "text/plain": [
       "4155"
      ]
     },
     "execution_count": 301,
     "metadata": {},
     "output_type": "execute_result"
    }
   ],
   "source": [
    "len(df[\"CUISINES\"].unique())"
   ]
  },
  {
   "cell_type": "code",
   "execution_count": 302,
   "id": "36cb43e4",
   "metadata": {},
   "outputs": [
    {
     "data": {
      "text/plain": [
       "360"
      ]
     },
     "execution_count": 302,
     "metadata": {},
     "output_type": "execute_result"
    }
   ],
   "source": [
    "len(df[\"CITY\"].unique())"
   ]
  },
  {
   "cell_type": "code",
   "execution_count": 303,
   "id": "0bd37242",
   "metadata": {},
   "outputs": [
    {
     "data": {
      "text/plain": [
       "1417"
      ]
     },
     "execution_count": 303,
     "metadata": {},
     "output_type": "execute_result"
    }
   ],
   "source": [
    "len(df[\"LOCALITY\"].unique())"
   ]
  },
  {
   "cell_type": "code",
   "execution_count": 304,
   "id": "9d020784",
   "metadata": {},
   "outputs": [
    {
     "data": {
      "text/plain": [
       "34"
      ]
     },
     "execution_count": 304,
     "metadata": {},
     "output_type": "execute_result"
    }
   ],
   "source": [
    "len(df[\"RATING\"].unique())"
   ]
  },
  {
   "cell_type": "code",
   "execution_count": 305,
   "id": "f9c5d4ec",
   "metadata": {},
   "outputs": [
    {
     "data": {
      "text/plain": [
       "1848"
      ]
     },
     "execution_count": 305,
     "metadata": {},
     "output_type": "execute_result"
    }
   ],
   "source": [
    "len(df[\"VOTES\"].unique())"
   ]
  },
  {
   "cell_type": "markdown",
   "id": "6201e6a0",
   "metadata": {},
   "source": [
    "From this we can see that there are high cardinality in the data we have to simplify the caategories first."
   ]
  },
  {
   "cell_type": "markdown",
   "id": "0221462c",
   "metadata": {},
   "source": [
    "2]Simplifying the unique values in the column:"
   ]
  },
  {
   "cell_type": "markdown",
   "id": "26e606ed",
   "metadata": {},
   "source": [
    "To find how many values in each row for specific data:"
   ]
  },
  {
   "cell_type": "code",
   "execution_count": 306,
   "id": "ce48d83f",
   "metadata": {},
   "outputs": [
    {
     "name": "stdout",
     "output_type": "stream",
     "text": [
      "2\n"
     ]
    }
   ],
   "source": [
    "#Analysing the title column:\n",
    "max = 1\n",
    "for i in df['TITLE']:\n",
    "    if len(i.split(',')) > max:\n",
    "         max = len(i.split(','))\n",
    "print(max)"
   ]
  },
  {
   "cell_type": "markdown",
   "id": "aacd3738",
   "metadata": {},
   "source": [
    "There are two titles maximum present in the title."
   ]
  },
  {
   "cell_type": "code",
   "execution_count": 307,
   "id": "775d49c1",
   "metadata": {},
   "outputs": [
    {
     "name": "stdout",
     "output_type": "stream",
     "text": [
      "24\n",
      "['CASUAL DINING' 'BAR' 'QUICK BITES' 'DESSERT PARLOR' 'CAFÉ'\n",
      " 'MICROBREWERY' 'BEVERAGE SHOP' 'IRANI CAFE' 'BAKERY' 'NONE' 'PUB'\n",
      " 'FINE DINING' 'SWEET SHOP' 'LOUNGE' 'FOOD COURT' 'FOOD TRUCK' 'MESS'\n",
      " 'KIOSK' 'CLUB' 'CONFECTIONERY' 'DHABA' 'MEAT SHOP' 'COCKTAIL BAR'\n",
      " 'PAAN SHOP']\n"
     ]
    }
   ],
   "source": [
    "titles = []\n",
    "for i in df['TITLE']:\n",
    "    if len(i.split(',')) == 1:# if it has 1 title\n",
    "         titles.append(i.split(',')[0].strip().upper())\n",
    "    else :\n",
    "        for j in range(len(i.split(','))):\n",
    "            titles.append(i.split(',')[j].strip().upper())\n",
    "\n",
    "print(len(pd.Series(titles).unique()))\n",
    "print(pd.Series(titles).unique())\n",
    "\n",
    "titles = list(pd.Series(titles).unique())"
   ]
  },
  {
   "cell_type": "markdown",
   "id": "7cc8d521",
   "metadata": {},
   "source": [
    "From this title column is simplified to this level."
   ]
  },
  {
   "cell_type": "code",
   "execution_count": 308,
   "id": "f509bffb",
   "metadata": {},
   "outputs": [
    {
     "name": "stdout",
     "output_type": "stream",
     "text": [
      "8\n"
     ]
    }
   ],
   "source": [
    "#analysing the cuisine column:\n",
    "max = 1\n",
    "for i in df['CUISINES'] :\n",
    "    if len(i.split(',')) > max:\n",
    "         max = len(i.split(','))\n",
    "print(max)"
   ]
  },
  {
   "cell_type": "markdown",
   "id": "7c63b4fc",
   "metadata": {},
   "source": [
    "There are 8 labels in the cuisine."
   ]
  },
  {
   "cell_type": "code",
   "execution_count": 309,
   "id": "99bc3619",
   "metadata": {},
   "outputs": [
    {
     "name": "stdout",
     "output_type": "stream",
     "text": [
      "125\n",
      "['MALWANI' 'GOAN' 'NORTH INDIAN' 'ASIAN' 'MODERN INDIAN' 'JAPANESE'\n",
      " 'CHINESE' 'BIRYANI' 'HYDERABADI' 'TIBETAN' 'DESSERTS' 'SEAFOOD' 'CAFE'\n",
      " 'PIZZA' 'BURGER' 'BAR FOOD' 'SOUTH INDIAN' 'FAST FOOD' 'BEVERAGES'\n",
      " 'ARABIAN' 'MUGHLAI' 'MAHARASHTRIAN' 'PARSI' 'THAI' 'BAKERY' 'MOMOS'\n",
      " 'CONTINENTAL' 'EUROPEAN' 'ROLLS' 'ANDHRA' 'ITALIAN' 'BBQ' 'FINGER FOOD'\n",
      " 'TEA' 'AMERICAN' 'HEALTHY FOOD' 'COFFEE' 'INDONESIAN' 'KOREAN' 'NEPALESE'\n",
      " 'ICE CREAM' 'MEXICAN' 'KERALA' 'INDIAN' 'MITHAI' 'STREET FOOD'\n",
      " 'MALAYSIAN' 'VIETNAMESE' 'IRANIAN' 'KEBAB' 'JUICES' 'SANDWICH'\n",
      " 'MEDITERRANEAN' 'SALAD' 'GUJARATI' 'RAJASTHANI' 'TEX-MEX' 'ROAST CHICKEN'\n",
      " 'BURMESE' 'CHETTINAD' 'NORTH EASTERN' 'LEBANESE' 'COFFEE AND TEA' 'GRILL'\n",
      " '' 'BIHARI' 'BENGALI' 'LUCKNOWI' 'AWADHI' 'STEAK' 'FRENCH' 'PORTUGUESE'\n",
      " 'WRAPS' 'SRI LANKAN' 'ORIYA' 'ETHIOPIAN' 'KONKAN' 'SUSHI' 'SPANISH'\n",
      " 'RUSSIAN' 'MANGALOREAN' 'TURKISH' 'BUBBLE TEA' 'AFGHAN' 'NAGA'\n",
      " 'SINGAPOREAN' 'GERMAN' 'MIDDLE EASTERN' 'SINDHI' 'CANTONESE' 'HOT POT'\n",
      " 'PAN ASIAN' 'SATAY' 'DUMPLINGS' 'KASHMIRI' 'RAW MEATS' 'DRINKS ONLY'\n",
      " 'MOROCCAN' 'PANINI' 'CAFE FOOD' 'CHARCOAL CHICKEN' 'BELGIAN' 'MONGOLIAN'\n",
      " 'TAMIL' 'AFRICAN' 'PAAN' 'ASSAMESE' 'HOT DOGS' 'POKÉ' 'BRITISH' 'BOHRI'\n",
      " 'FUSION' 'ARMENIAN' 'SOUTH AMERICAN' 'GREEK' 'PAKISTANI' 'PERUVIAN'\n",
      " 'CUISINE VARIES' 'IRISH' 'MULTI CUISINE' 'JEWISH' 'VEGAN' 'ORIENTAL'\n",
      " 'MODERN AUSTRALIAN' 'EGYPTIAN']\n"
     ]
    }
   ],
   "source": [
    "cuisines = []\n",
    "for i in df['CUISINES']:\n",
    "    if len(i.split(',')) == 1:\n",
    "         cuisines.append(i.split(',')[0].strip().upper())\n",
    "    else :\n",
    "        for j in range(len(i.split(','))):\n",
    "            cuisines.append(i.split(',')[j].strip().upper())\n",
    "\n",
    "print(len(pd.Series(cuisines).unique()))\n",
    "print(pd.Series(cuisines).unique())\n",
    "\n",
    "cuisines = list(pd.Series(cuisines).unique())"
   ]
  },
  {
   "cell_type": "markdown",
   "id": "5c77c8e7",
   "metadata": {},
   "source": [
    "Reduced the cusine column."
   ]
  },
  {
   "cell_type": "code",
   "execution_count": 310,
   "id": "cd044f3a",
   "metadata": {},
   "outputs": [
    {
     "name": "stdout",
     "output_type": "stream",
     "text": [
      "355\n",
      "['THANE' 'CHENNAI' 'MUMBAI' 'BANGALORE' 'GURGAON' 'HYDERABAD' 'KOCHI'\n",
      " 'THANE WEST' 'ANDHERI LOKHANDWALA' 'NEW DELHI' 'ANDHERI WEST'\n",
      " 'MALAD EAST' '682036' 'BANGALOR' 'NAVI MUMBAI' 'BANDRA WEST' 'DELHI'\n",
      " 'NOIDA' 'BANGALORE-560066' 'SECUNDERABAD' 'NA' 'INDIA' 'MADHURANAGAR'\n",
      " 'CHENNAI TEYNAMPET' 'FARIDABAD' 'CHEMBUR.' 'MAHARASHTRA'\n",
      " 'OPP GURUDWARA SHAKURPUR' 'TELAGANA LAND LINE:040-48507016' 'GHAZIABAD'\n",
      " 'KARNATAKA' 'KERALA' 'EDAPPALLY' 'KADAVANTHRA' 'ERNAKULAM CIRCLE KOCHI'\n",
      " 'BENGALORE' 'NEAR RELIANCE FRESH' 'KILPAUK' 'BENGALURU' 'KOTHAGUDA'\n",
      " 'GOREGAON WEST' 'BANGLORE' 'TAMIL NADU' 'KAKKANAD' 'KOCHI ELAMKULAM'\n",
      " 'OUTER RING ROAD' 'MULUND EAST'\n",
      " 'SECUNDERABAD MAIN ROAD NEAR SIGNAL NMREC COLLEGE' 'TELANGANA'\n",
      " 'PONNURUNI KOCHI' 'GACHIBOWLI' 'SEMMANCHERI'\n",
      " '5TH MAIN TEACHERS COLONY KORAMANGALA BLOCK 1 BANGALORE 560034'\n",
      " 'MUMBAI MAHIM' 'POWAI (NEXT TO POWAI PLAZA)' 'DOMBIVALI EAST'\n",
      " 'KOCHI VYTTILA' 'KANDIVALI' 'KOCHI PALARIVATTOM' 'DEWAN RAMA ROAD'\n",
      " 'GURUGRAM' 'SECTOR 51 NOIDA' 'KALOOR' 'BESANT NAGAR'\n",
      " 'ARUMBAKKAM CHENNAI-600106.' 'ADJACENT TO COMMERCIAL STREET' 'DELHI NCR'\n",
      " 'DWARKA' '682035.' 'KALYAN WEST' 'AVADI' 'KONDAPUR' 'MEHDIPATNAM'\n",
      " 'GANDIPET' 'VELACHERY' 'PALLAVARAM' 'VIJAYA NAGAR' 'BTM LAYOUT'\n",
      " 'CHENNAI 600034.'\n",
      " 'METRO PILLAR NO 21. METTUGUDA MAIN ROAD NEAR RAILWAY DEGREE COLLEGE.'\n",
      " 'CHENNAI - 600040' 'JP NAGAR BANGALORE' 'MADHAPUR' 'ERNAKULAM' 'SARJAPUR'\n",
      " 'WHITEFIELD BANGALORE' 'KOCHI CHULLICKAL' 'KOCHI-683101'\n",
      " 'BANGALORE - 560076' 'ROHINI' 'HYDERABAD BEHIND VACS PASTRIES'\n",
      " 'HYDERABAD NEERUS EMPORIUM.' 'NAVI MUMBAI.' 'KAROL BAGH' 'PERUNGUDI'\n",
      " 'THYKOODAM' 'GREATER NOIDA' 'BANGALORE.' 'KHAIRATABAD' 'CHULLICKAL'\n",
      " 'GRANT ROAD WEST' 'HITECH CITY' 'WEST MAREDPALLY' 'MUMBAI - 400007'\n",
      " 'CHENNAI PADUR' 'CHANDER NAGAR NEW DELHI' 'NEDUMBASSERY' 'MG ROAD'\n",
      " 'NAYA NAGAR MIRA ROAD' 'PITAMPURA' 'LOWER PAREL' 'HBR LAYOUT'\n",
      " 'TELANGANA 500003' 'RAJIV GANDHI NAGAR' 'NEW DELHI.' 'MEDAVAKKAM'\n",
      " 'SATHYA NAGAR' 'P.O KOCHI' 'BEHIND RAMALAYAM TEMPLE' 'PALARIVATTOM'\n",
      " 'BRIGADE ROAD' 'MUMBAI.' 'MUMBAI ANDHERI EAST' 'VIRAR WEST' 'B-1 STAGE'\n",
      " 'CHENNAI KOVALAM' 'HYDERABAD.' 'ALUVA' 'TELANGANA 500034'\n",
      " 'IOB BANK KAMALA NAGAR' 'HSR LAYOUT' 'MARINE DRIVE' 'DLF GALLERIA'\n",
      " 'NALLATHAMBI MAIN ROAD' 'CHENNAI OPP: VASANTH & CO' 'CITYPARK'\n",
      " 'KARNATAKA 560103' 'BHAYANDAR' 'ALUVA CIRCLE' 'THAMMENAHALLI VILLAGE'\n",
      " 'SG PALYA' 'ATTAPUR.' 'NEAR SHANGRILLA BUS STOP' 'KHAR (WEST)' 'ROAD 3'\n",
      " 'KUKATPALLY' 'FARIDABD' 'TELANGANA 500032' 'DILSUKHNAGAR'\n",
      " 'MOGAPPAIR. CHENNAI' 'NEAR MUNRSHWARA TEMPLE' 'OFF BRIGADE ROAD'\n",
      " 'KHAR WEST' 'POTHERI' 'CHENNAI PERUNGUDI' 'CHENNAI THURAIPAKKAM'\n",
      " 'OMR KARAPAKKAM' 'HYDERABAD-500032' 'MUMBAI DOMBIVALI EAST'\n",
      " 'CHENNAI THOUSAND LIGHTS' 'MAHIM' 'LINGAMPALLY' 'POWAI'\n",
      " 'NEW DELHI-110024' 'CHENNAI- 600107' 'KERALA 683104' 'VASAI WEST.'\n",
      " 'THANE (W)' 'NEAR SANTOSH BANJARA HYDERABAD'\n",
      " 'BANASWADI (NEXT TO INDIAN BANK) BANGALORE' 'BTM BANGALORE'\n",
      " 'GREATER KAILASH 2 NEW DELHI' 'SECUNDERABAD ECIL'\n",
      " 'BANGALORE KORAMANGALA 7TH BLOCK' 'BANGALORE : 560085'\n",
      " 'GACHIBOWLI HYDERABAD'\n",
      " 'CPR LAYOUT HARLUR MAIN ROAD OPPOSITE TO OZONE EVER GREEN APARTMENT BANGALORE -'\n",
      " 'ECR NEELANKARAI CHENNAI 600115' 'WARD X11' 'PERUMBAVOOR'\n",
      " 'MIRA RAOD EAST' 'KERALA 682013' 'CHENNAI.' 'POKHRAN ROAD 2'\n",
      " 'UTTAR PRADESH' 'KARNATAKA 560102' 'MUMBAI - 400013' 'NAHARPAR'\n",
      " 'HOSUR ROAD' 'NEAR BHARAT PETROLEUM.'\n",
      " 'CHENNAI (BANG OPPOSITE INDIAN BANK)' 'SRIRAM NAGAR' 'WEST MUMBAI'\n",
      " 'VYTTILA' 'BANJARA HILLS' 'MALAPALLIPURAM P .O THRISSUR'\n",
      " 'ANDHERI WEST MUMBAI' 'KARNATAKA 560043' 'PANAMPILLY NAGAR'\n",
      " 'BORIVALI EAST.' 'ECIL' 'JUBILEE HILLS'\n",
      " 'AMRIT KAUR MARKET OPPOSITE NEW DELHI RAILWAY STATION PAHARGANJ'\n",
      " 'CHENNAI OPPOSITE 5C BUS STAND' 'TELENGANA' 'KOCHI RAVIPURAM' 'RAJANPADA'\n",
      " 'MAHABALIPURAM' 'SECUNDERABAD. WE HAVE NO BRANCHES.' 'TELANGANA 500081'\n",
      " 'GURGOAN' 'ELAMAKKARA' 'SECTOR 1' 'BANDRA W' 'KOLATHUR'\n",
      " 'CHENNAI MAHABALIPURAM' '3RD STREET' 'MUMBAI CHAKALA' 'BORIVALI WEST'\n",
      " 'RODEO DRIVE SECTOR 49' 'PALLIMUKKU' 'DELHI 110085' 'SECTOR 51'\n",
      " 'CHAMPAPET' 'ANDAVAR NAGAR' 'BANGALORE - 560103' 'KERALA 690525'\n",
      " 'OPP MUKTESHWAR ASHRAM POWAI' 'NUNGAMBAKKAM' 'BK GUDA'\n",
      " 'JOGESHWARI (W) MUMBAI' 'KUKATAPALLY' 'NEAR SECTOR 110 NOIDA' 'NAVALLUR'\n",
      " 'BESIDE EXCELLENCY GARDENS' 'MUMBAI - 80' 'BEGUMPET'\n",
      " 'MAHARAJA HOTEL BESIDE GARDANIA BAR' 'ASHOK VIHAR PHASE 1' 'TRIVANDRUM'\n",
      " 'KOCHI-18' 'NARAYANGUDA' 'THEVERA' 'CHENNAI-40' 'PALM BEACH ROAD'\n",
      " 'EAST COAST ROAD (ECR)' 'RAMAPURAM' 'CHENNAI CHROMPET' 'NANDANAM' 'SAKET'\n",
      " 'MG ROAD ERNAKULAM' 'ANDHERI LOKHANDWALA.' 'INDIRANAGAR' 'THIRUVANMIYUR'\n",
      " 'AMBATTUR' 'BANGLAORE' 'CHENNAI - 34 LANDMARK - NEAR LOYOLA COLLEGE'\n",
      " 'ANNA NAGAR WEST' 'OLD RAILWAY ROAD' 'EAST MUMBAI'\n",
      " 'KANAKAPURA ROAD BANGLORE' 'KOCHI KAKKANAD' 'KALYAN'\n",
      " 'NEAR RAMLILA GROUND' 'SERILINGAMPALLY' 'HIMAYATH NAGAR' 'NALLALA STREET'\n",
      " 'ANNA SALAI' 'OLD DELHI' 'WAGLE ESTATE' '1ST STAGE' 'KOCHI-16'\n",
      " 'KOCHI INTERNATIONAL AIRPORT VIP ROAD' 'FIRST STREET' 'CHENN AI'\n",
      " '6 & 7 - 4/64 SUBHASH NAGAR' '1ST TAVAREKERE' 'PERAMBUR'\n",
      " 'VAISHALI GHAZIABAD' 'THANISANDRA' 'BLOCK F' 'SECTOR 7 DWARKA'\n",
      " 'OPPOSITE BARATHI GAS COMPANY' 'VADAPALANI' 'KONDAPUR.' 'BADLAPUR WEST.'\n",
      " 'KALAMASSERY' 'PALAVAKKAM' 'TCS SYNERGY PARK' 'BTM 1ST STAGE'\n",
      " 'MAHADEVPURA' 'NEW BEL ROAD 560054'\n",
      " 'VELIAVEETIL HOUSE VIVEKANANDA NAGAR ELAMAKKARA' 'SHOLINGANALLUR'\n",
      " 'MAHARASHTRA 400102' 'LOWER PAREL WEST' 'TRIPUNITHURA' 'MOGAPPAIR'\n",
      " 'TELANGANA 500070' 'JP NAGAR' 'NAVI-MUMBAI' 'ASHOK NAGAR' 'MARATHAHALLI'\n",
      " 'HARIDWAR APARTMENTS' 'KERALA 682001 INDIA' 'KARNATAKA 560037'\n",
      " 'KERALA 683585' 'CHENNAI. (NEAR HOTEL MATSHYA)' 'INDIRAPURAM'\n",
      " 'BEGUMPET HYDERABAD' 'MANIKONDA'\n",
      " 'BANGALORE LAND MARK ABOVE MAHAVEER HARD WARE' 'KERALA 682304'\n",
      " 'RAJARAJESHWARI NAGAR BANGALORE' 'GST ROAD' 'FORT KOCHI'\n",
      " 'LAHARI APARTMENTS' 'RAMANTHAPUR' 'MULUND WEST' 'GURGAON HARYANA INDIA'\n",
      " 'NEW DELHI..NEAR BY SBI BANK' 'KOCHI ALUVA 102' 'PHASE 1 BANGALORE'\n",
      " 'HYDERABAD MANIKONDA'\n",
      " 'MUMBAI THIS IS A DELIVERY & TAKE-AWAY RESTAURANT ONLY.' '10TH AVENUE'\n",
      " 'UPPAL' 'NEW DELHI 110075' 'NIZAMPET' 'ULSOO' 'BANGALORE 560076'\n",
      " 'PVR PLAZA CINEMA BUILDING CONNAUGHT PLACE' 'GURGAON HARYANA' 'CHROMEPET'\n",
      " 'KERALA 682024' 'JANAKPURI' 'SECUNDERABAD.'\n",
      " 'B.B.M.P EAST (KARNATAKA) - 560049' 'TAMBARAM' 'MALLESHWARAM BANGALORE'\n",
      " 'VADAPALANI.' 'DIST. CENTER NEW DELHI' 'BANGALORE ROAD' 'KOCHI.'\n",
      " 'THANE MUMBAI' 'KADUBESANAHALLI BANGALORE' 'VASAI WEST'\n",
      " 'MIG HOUSING SOCIETY' 'HARYANA' 'BORIVALI WEST.' 'GOLF COURSE ROAD'\n",
      " 'KHAR MUMBAI' 'NEAR JYOTHINIVAS COLLEGE' 'ANNA NAGAR EAST' 'MASAB TANK']\n"
     ]
    }
   ],
   "source": [
    "#Reducing the cities column:\n",
    "cities = list(df['CITY'])\n",
    "for i in range(len(cities)):\n",
    "    if type(cities[i]) == float:\n",
    "        cities[i] = 'NA'\n",
    "    cities[i] = cities[i].strip().upper()\n",
    "        \n",
    "print(len(pd.Series(cities).unique()))\n",
    "print(pd.Series(cities).unique())\n",
    "cities = list(pd.Series(cities).unique())"
   ]
  },
  {
   "cell_type": "markdown",
   "id": "0747caa3",
   "metadata": {},
   "source": [
    "#Reducing the locality column:"
   ]
  },
  {
   "cell_type": "code",
   "execution_count": 311,
   "id": "d89c4b00",
   "metadata": {},
   "outputs": [
    {
     "name": "stdout",
     "output_type": "stream",
     "text": [
      "['DOMBIVALI EAST' 'RAMAPURAM' 'SALIGRAMAM' ... 'MARKET ROAD'\n",
      " 'NEAR PERAMBUR' 'NEAR MALVIYA NAGAR']\n"
     ]
    }
   ],
   "source": [
    "locality = list(df['LOCALITY'])\n",
    "for i in range(len(locality)):\n",
    "    if type(locality[i]) == float:\n",
    "        locality[i] = 'NA'\n",
    "    locality[i] = locality[i].strip().upper()\n",
    "\n",
    "\n",
    "print(pd.Series(locality).unique())\n",
    "locality= list(pd.Series(locality).unique())"
   ]
  },
  {
   "cell_type": "code",
   "execution_count": 312,
   "id": "56289f50",
   "metadata": {},
   "outputs": [
    {
     "data": {
      "text/plain": [
       "['DOMBIVALI EAST',\n",
       " 'RAMAPURAM',\n",
       " 'SALIGRAMAM',\n",
       " 'BANDRA WEST',\n",
       " 'LOWER PAREL',\n",
       " 'VILE PARLE WEST',\n",
       " 'KORAMANGALA 6TH BLOCK',\n",
       " 'SECTOR 29',\n",
       " 'BANNERGHATTA ROAD',\n",
       " 'DILSUKHNAGAR',\n",
       " 'KORAMANGALA 5TH BLOCK',\n",
       " 'INDIRANAGAR',\n",
       " 'CHULLICKAL',\n",
       " 'EDAPPALLY',\n",
       " 'MAJIWADA',\n",
       " 'JUBILEE HILLS',\n",
       " 'BORIVALI WEST',\n",
       " 'NAGOLE',\n",
       " 'ANDHERI LOKHANDWALA',\n",
       " 'KRISHNA NAGAR',\n",
       " 'HITECH CITY',\n",
       " 'KAROL BAGH',\n",
       " 'SDA',\n",
       " 'THIPPASANDRA',\n",
       " 'DWARKA',\n",
       " 'KAKKANAD',\n",
       " 'HSR',\n",
       " 'VADAPALANI',\n",
       " 'NEELANGARAI',\n",
       " 'KORATTUR',\n",
       " 'DLF CYBER CITY',\n",
       " 'VERSOVA',\n",
       " 'PALARIVATTOM',\n",
       " 'BESANT NAGAR',\n",
       " 'INTERNATIONAL AIRPORT',\n",
       " 'SHOLINGANALLUR',\n",
       " 'MG ROAD',\n",
       " 'NUNGAMBAKKAM',\n",
       " 'KR PURAM',\n",
       " 'KONDAPUR',\n",
       " 'ULSOOR',\n",
       " 'KALOOR',\n",
       " 'BEGUM BAZAAR',\n",
       " 'SECTOR 15',\n",
       " 'FILM CITY ROAD',\n",
       " 'WHITEFIELD',\n",
       " 'CHITTOOR ROAD',\n",
       " 'RAJAJINAGAR',\n",
       " 'BANASWADI',\n",
       " 'PANAMPILLY NAGAR',\n",
       " 'RAJINDER NAGAR',\n",
       " 'TARNAKA',\n",
       " 'KERALA',\n",
       " 'T. NAGAR',\n",
       " 'JALAHALLI',\n",
       " 'GREATER KAILASH (GK) 2',\n",
       " 'KALAMASSERY',\n",
       " 'KENGERI',\n",
       " 'MAZGAON',\n",
       " 'TRIPLICANE',\n",
       " 'BTM',\n",
       " 'KALWA',\n",
       " 'MATTANCHERRY',\n",
       " 'KALKAJI',\n",
       " 'ROHINI',\n",
       " 'KURLA COMPLEX',\n",
       " 'SATYANIKETAN',\n",
       " 'KANDIVALI WEST',\n",
       " 'GACHIBOWLI',\n",
       " 'ELECTRONIC CITY',\n",
       " 'BHAYANDAR',\n",
       " 'NERUL',\n",
       " 'CITY MARKET',\n",
       " 'PALI HILL',\n",
       " 'EAST OF KAILASH',\n",
       " 'VIJAY NAGAR',\n",
       " 'UTTAM NAGAR',\n",
       " 'NEAR ELAMKULAM',\n",
       " 'KORAMANGALA 3RD BLOCK',\n",
       " 'NEW BEL ROAD',\n",
       " 'KACHEGUDA',\n",
       " 'NEAR ANDHERI WEST STATION',\n",
       " 'DELHI UNIVERSITY-GTB NAGAR',\n",
       " 'LINGAMPALLY',\n",
       " 'NANGANALLUR',\n",
       " 'CHURCH STREET',\n",
       " 'KORAMANGALA 1ST BLOCK',\n",
       " 'ANNA NAGAR EAST',\n",
       " 'POONAMALLE',\n",
       " 'PURASAIWALKAM',\n",
       " 'MARINE DRIVE',\n",
       " 'DADAR WEST',\n",
       " 'KALYAN NAGAR',\n",
       " 'KODAMBAKKAM',\n",
       " 'SOHNA ROAD',\n",
       " 'JP NAGAR',\n",
       " 'SECTOR 53',\n",
       " 'UPPAL',\n",
       " 'VASAI',\n",
       " 'JOGESHWARI',\n",
       " 'CONNAUGHT PLACE',\n",
       " 'ELAMKULAM',\n",
       " 'KAMMANAHALLI',\n",
       " 'KANDIVALI EAST',\n",
       " 'NA',\n",
       " 'SHASTRI NAGAR - LOKHANDWALA',\n",
       " 'KOTHAPET',\n",
       " 'JNU',\n",
       " 'TELANGANA 500084',\n",
       " 'BANASHANKARI',\n",
       " 'SHAHDARA',\n",
       " 'GREATER KAILASH 2 (GK 2)',\n",
       " 'NIZAMPET',\n",
       " 'MAROL MUMBAI',\n",
       " 'POTHERI',\n",
       " 'BREACH CANDY',\n",
       " '4 BUNGALOWS',\n",
       " 'RAJOURI GARDEN',\n",
       " 'BEHIND ALLAHABAD BANK',\n",
       " 'TEYNAMPET',\n",
       " 'MADHAPUR',\n",
       " 'RAJARAJESHWARI NAGAR',\n",
       " 'NEAR ANDHERI EAST STATION',\n",
       " 'S D ROAD',\n",
       " 'MEHDIPATNAM',\n",
       " 'VYTTILA',\n",
       " 'SAROOR NAGAR',\n",
       " 'JUHU',\n",
       " 'MANIKONDA',\n",
       " 'PUNJABI BAGH',\n",
       " 'K.K. NAGAR',\n",
       " 'THOUSAND LIGHTS',\n",
       " 'ALUVA',\n",
       " 'MALAD WEST',\n",
       " 'NALLAKUNTA',\n",
       " 'JEEVAN BHIMA NAGAR',\n",
       " 'VASANT KUNJ',\n",
       " 'FORT',\n",
       " 'FORT KOCHI',\n",
       " 'MIRA ROAD',\n",
       " 'JAYANAGAR',\n",
       " 'ABIDS',\n",
       " 'VENNALA',\n",
       " 'LAKDIKAPUL',\n",
       " 'PANJAGUTTA',\n",
       " 'BASAVESHWARA NAGAR',\n",
       " 'KUKATPALLY',\n",
       " 'SANTACRUZ WEST',\n",
       " 'LB NAGAR',\n",
       " 'ARUMBAKKAM',\n",
       " 'HABSIGUDA',\n",
       " 'ANDHERI WEST',\n",
       " 'MARATHAHALLI',\n",
       " 'HAUZ KHAS VILLAGE',\n",
       " 'GIRGAUM',\n",
       " 'KARAPAKKAM',\n",
       " 'HIMAYATH NAGAR',\n",
       " 'RAILWAY STATION ROAD',\n",
       " 'SAHAKARA NAGAR',\n",
       " 'KALBADEVI',\n",
       " 'DLF PHASE 4',\n",
       " 'LODHI ROAD',\n",
       " 'BANDRA EAST',\n",
       " 'SAINIK FARMS',\n",
       " 'AMBERNATH',\n",
       " 'TILAK NAGAR',\n",
       " 'AEROCITY',\n",
       " 'ASHOK NAGAR',\n",
       " 'ADYAR',\n",
       " 'SEMMANCHERI',\n",
       " 'VIKASPURI',\n",
       " 'KANCHIPURAM DISTRICT',\n",
       " 'CBD-BELAPUR',\n",
       " 'SECTOR 63',\n",
       " 'MYSORE ROAD',\n",
       " 'TOLI CHOWKI',\n",
       " 'NEAR MARINE DRIVE',\n",
       " 'PERUNGUDI',\n",
       " 'GOPALAPURAM',\n",
       " 'NAVALLUR',\n",
       " 'EAST PATEL NAGAR',\n",
       " 'ADIKMET',\n",
       " 'SECTOR 125',\n",
       " 'GOLF COURSE ROAD',\n",
       " 'PALARIVATTOM KOCHI',\n",
       " 'BEGUMPET',\n",
       " 'VIRUGAMBAKKAM',\n",
       " 'KOMPALLY',\n",
       " 'WILSON GARDEN',\n",
       " 'PALLAVARAM',\n",
       " 'AZAD NAGAR',\n",
       " 'ASHOK VIHAR PHASE 4',\n",
       " 'THANE WEST',\n",
       " 'DLF PHASE 3',\n",
       " 'DODDATHOGURU ELECTRONIC CITY',\n",
       " 'GST ROAD',\n",
       " 'BTM 1 STAGE BTM',\n",
       " 'MUMBAI',\n",
       " 'VILE PARLE EAST',\n",
       " 'GREEN PARK',\n",
       " 'CHENGALPATTU',\n",
       " 'NEAR JEEVAN JYOTI APARTMENT',\n",
       " 'WZ- 16A NEAR TIKONA PARK NEAR METRO PILLAR 658 UTTAM NAGAR',\n",
       " 'GREATER KAILASH 1 (GK 1)',\n",
       " 'NEAR SECTOR 72',\n",
       " 'CHENNAI',\n",
       " 'L B NAGAR',\n",
       " 'MAHAKALI',\n",
       " 'HYDERBAD',\n",
       " 'POWAI',\n",
       " 'KHAR',\n",
       " 'INDIRAPURAM',\n",
       " 'SECTOR 45',\n",
       " 'KALYAN WEST',\n",
       " 'MAHIM',\n",
       " 'MALAKPET',\n",
       " 'PAREL',\n",
       " 'TOLICHOWKI',\n",
       " 'FRAZER TOWN',\n",
       " 'SECTOR 37',\n",
       " 'SECTOR 61',\n",
       " 'PALLIMUKKU',\n",
       " 'CV RAMAN NAGAR',\n",
       " 'LAVELLE ROAD',\n",
       " 'BARAKHAMBA ROAD',\n",
       " 'GOREGAON EAST',\n",
       " 'SARJAPUR ROAD',\n",
       " 'BENGALURU',\n",
       " 'VELACHERY',\n",
       " 'NEAR SECTOR 50',\n",
       " 'K K NAGAR',\n",
       " 'GRANT ROAD',\n",
       " 'MADIPAKKAM',\n",
       " 'HILL ROAD',\n",
       " 'MULUND WEST',\n",
       " 'A S RAO NAGAR',\n",
       " 'INJAMBAKKAM',\n",
       " 'VASHI',\n",
       " 'ECIL',\n",
       " 'NEAR OBERON MALL',\n",
       " 'SECTOR 14',\n",
       " 'KOVALAM',\n",
       " 'KORAMANGALA 6 BLOCK',\n",
       " 'CHEMBUR',\n",
       " 'SCB ROAD',\n",
       " 'NEAR JAIL ROAD',\n",
       " 'GHATKOPAR WEST',\n",
       " 'ALWARPET',\n",
       " 'CHITTARANJAN PARK',\n",
       " 'SECTOR 2',\n",
       " 'CHROMEPET',\n",
       " 'MODEL TOWN 2',\n",
       " 'KILPAUK',\n",
       " 'LAXMI NAGAR',\n",
       " 'GEORGE TOWN',\n",
       " 'PERUMBAVOOR',\n",
       " 'BANJARA HILLS',\n",
       " 'SAFDARJUNG',\n",
       " 'EGMORE',\n",
       " 'BOMMANAHALLI',\n",
       " 'SECTOR 41',\n",
       " 'CHANNASANDRA MAIN ROAD WHITEFIELD',\n",
       " 'SECTOR 18',\n",
       " 'BTM LAYOUT',\n",
       " 'F1 ERNAKULAM MEDICAL CENTER',\n",
       " 'CHANDA NAGAR',\n",
       " 'KOYAMBEDU',\n",
       " 'VASUNDHARA',\n",
       " 'KACHERIPADY',\n",
       " 'KORAMANGALA 7TH BLOCK',\n",
       " 'NEDUMBASSERY',\n",
       " 'BANDRA KURLA COMPLEX',\n",
       " 'KELAMBAKKAM',\n",
       " 'HENNUR',\n",
       " '65/3794 B PONOTH LANE KALOOR',\n",
       " 'THEVERA',\n",
       " 'MYLAPORE',\n",
       " 'EDAPPALLY TOLL - POOKKATTUPADY ROAD',\n",
       " 'NEAR SECTOR 125',\n",
       " 'SOUTH EXTENSION PART-2',\n",
       " 'AMINIJIKARAI',\n",
       " 'KOPAR KHAIRANE',\n",
       " 'DOMLUR',\n",
       " 'NAUPADA',\n",
       " 'DAVIDPURAM',\n",
       " 'KASAVANAHALLI SARJAPUR ROAD',\n",
       " 'JAIL ROAD',\n",
       " 'BASAVANAGUDI',\n",
       " 'AMBATTUR',\n",
       " 'BTM LAYOUT 1',\n",
       " 'SESHADRIPURAM',\n",
       " 'VYPIN',\n",
       " 'RED HILLS',\n",
       " 'SECTOR 55',\n",
       " 'THURAIPAKKAM',\n",
       " 'MALLESHWARAM',\n",
       " 'NIT',\n",
       " 'RAJ NAGAR',\n",
       " 'ST. MARKS ROAD',\n",
       " 'SHANTI NAGAR',\n",
       " 'SECTOR 70',\n",
       " 'NEAR SECTOR 110',\n",
       " 'GAUR CITY 1',\n",
       " 'EKKADUTHANGAL',\n",
       " 'BYCULLA',\n",
       " 'CHANDIVALI',\n",
       " 'NEAR CITY CENTRE METRO',\n",
       " 'VANASTHALIPURAM',\n",
       " 'PAHARGANJ',\n",
       " 'SHALIMAR GARDEN',\n",
       " 'ANNA NAGAR',\n",
       " 'KARKHANA',\n",
       " 'HYDERGUDA',\n",
       " 'MOGAPPAIR',\n",
       " 'KHANAMET',\n",
       " 'MOTILAL NAGAR',\n",
       " 'PURASAVAKKAM',\n",
       " 'MANSINGH ROAD',\n",
       " 'PORUR',\n",
       " 'R K PURAM',\n",
       " 'SION',\n",
       " 'MASAB TANK',\n",
       " 'KORAMANGALA 8TH BLOCK',\n",
       " 'SANATH NAGAR',\n",
       " 'MALLAPUR',\n",
       " 'BOWENPALLY',\n",
       " 'AMEERPET',\n",
       " 'BRIGADE ROAD',\n",
       " 'EDACHIRA JUNCTION',\n",
       " 'PADUR',\n",
       " 'VEPERY',\n",
       " 'SOMAJIGUDA',\n",
       " 'KARKARDOOMA',\n",
       " 'MIYAPUR',\n",
       " 'VASANT VIHAR',\n",
       " 'MAYUR VIHAR PHASE 3',\n",
       " 'BARNABY ROAD',\n",
       " 'THRIKKAKARA',\n",
       " 'LANGER HOUZ',\n",
       " 'WASHERMENPET',\n",
       " 'MATUNGA EAST',\n",
       " 'SHAMSHABAD',\n",
       " 'VAISHALI',\n",
       " 'NARIMAN POINT',\n",
       " 'MALABAR HILL',\n",
       " 'MAROL',\n",
       " 'VARTHUR HOBLI',\n",
       " 'CHURCHGATE',\n",
       " '90 FEET ROAD',\n",
       " 'SAINIKPURI',\n",
       " 'NORTH KALAMASSERY',\n",
       " 'GREATER NOIDA',\n",
       " 'PERUMBAVOOR CIRCLE',\n",
       " 'GHANSOLI',\n",
       " 'ERNAKULAM',\n",
       " 'NAGARBHAVI',\n",
       " 'MALVIYA NAGAR',\n",
       " 'KAVI NAGAR',\n",
       " 'PITAMPURA',\n",
       " 'SHAMIRPET',\n",
       " 'OKKIYAMPET',\n",
       " 'NAMPALLY',\n",
       " 'MEDAVAKKAM',\n",
       " 'CHETPET',\n",
       " 'VALASARAVAKKAM',\n",
       " 'MAHABALIPURAM',\n",
       " 'JANAKPURI',\n",
       " 'GEETA COLONY',\n",
       " 'NEAR PITAMPURA',\n",
       " 'ELAMAKKARA',\n",
       " 'RAMANTHAPUR',\n",
       " 'MALAD EAST',\n",
       " 'WILLINGDON ISLAND',\n",
       " 'MALKAJGIRI',\n",
       " 'BOIGUDA',\n",
       " 'S R NAGAR',\n",
       " 'SECUNDERABAD',\n",
       " 'SHAREEF AIRPORT ROAD CHANDRAYANAGUTTA',\n",
       " 'CHETTICHIRA',\n",
       " 'KOLATHUR',\n",
       " 'JEEVAN BHIMA NAGAR MAIN ROAD',\n",
       " 'KAGGADASAPURA',\n",
       " 'MAYUR VIHAR PHASE 2',\n",
       " 'RAVIPURAM',\n",
       " 'THIRUVANMIYUR',\n",
       " 'KALYAN',\n",
       " 'WORLI',\n",
       " 'EJIPURA',\n",
       " 'NIT 5',\n",
       " 'FILM NAGAR',\n",
       " 'WEST PATEL NAGAR',\n",
       " 'BELLANDUR',\n",
       " 'MULUND EAST',\n",
       " 'CYBER HILLS COLONY',\n",
       " 'GHATKOPAR EAST',\n",
       " 'YESHWANTPUR',\n",
       " 'OMR SEMMANCHERRY ALAMARAM',\n",
       " 'MOHAMMAD ALI ROAD',\n",
       " 'SHIRDI SAI LAYOUT NEAR SAI BABA TEMPLE ROAD MARATHAHALLI',\n",
       " 'SHOP 7 SHIKRUPA SOCITY',\n",
       " 'SECTOR 10',\n",
       " 'SECTOR 28',\n",
       " 'VEERA DESAI AREA',\n",
       " 'THE MYLAPORE CAFE 29',\n",
       " 'HIRANANDANI GARDENS',\n",
       " 'KAMLA NAGAR',\n",
       " 'KAPASHERA',\n",
       " 'BROOKEFIELD',\n",
       " 'WEST MAMBALAM',\n",
       " 'AMBERPET',\n",
       " 'EGATOOR',\n",
       " 'KHARGHAR',\n",
       " 'MUMBAI THANE',\n",
       " 'YUSUF SARAI',\n",
       " 'ANNA NAGAR WEST',\n",
       " 'KOTTURPURAM',\n",
       " 'THAKUR VILLAGE',\n",
       " 'TRIPUNITHURA',\n",
       " 'OLD MADRAS ROAD',\n",
       " 'KUMARSWAMY LAYOUT',\n",
       " 'ROYAPETTAH',\n",
       " 'SOUTH EXTENSION 2',\n",
       " 'THANE',\n",
       " 'NEAR TARAMANI',\n",
       " 'CHENNAI-600040',\n",
       " 'KORAMANGALA 4TH BLOCK',\n",
       " 'SUSHANT LOK',\n",
       " 'HYDERABAD',\n",
       " 'HAUZ KHAS',\n",
       " 'JANGPURA',\n",
       " 'MARREDPALLY',\n",
       " 'DAHISAR EAST',\n",
       " 'SAKET',\n",
       " '4/53',\n",
       " 'KALAMBOLI',\n",
       " 'THOPUMPADY',\n",
       " 'CHARMINAR',\n",
       " 'SECTOR 50',\n",
       " 'VIRAR',\n",
       " 'EAST COAST ROAD (ECR)',\n",
       " 'SECTOR 72',\n",
       " 'ADAMBAKKAM',\n",
       " 'SANKEY ROAD',\n",
       " 'PERAMBUR',\n",
       " 'PLOT NO 155. HOSHIYARPUR VILLAGE OPPOSITE D32',\n",
       " 'ROYAPURAM',\n",
       " 'NEAR PUNJABI BAGH',\n",
       " 'LAJPAT NAGAR 4',\n",
       " 'CHANDNI CHOWK',\n",
       " 'SHENOYS',\n",
       " 'PRABHADEVI',\n",
       " 'VASANTH NAGAR',\n",
       " 'ERRAGADDA',\n",
       " 'COLABA',\n",
       " 'MOTI NAGAR',\n",
       " 'SECTOR 31',\n",
       " 'ERNAKULAM NORTH',\n",
       " 'SRINAGAR COLONY',\n",
       " 'ALWAL',\n",
       " 'TRIPLICANE HIGH ROAD',\n",
       " 'PG ROAD',\n",
       " 'CHAKALA',\n",
       " 'ASHOK VIHAR PHASE 2',\n",
       " 'ULHASNAGAR',\n",
       " 'VANDALUR',\n",
       " 'TARAMANI',\n",
       " 'NAGAWARA',\n",
       " 'CROSSINGS REPUBLIK',\n",
       " 'SECTOR-19 AIROLI',\n",
       " 'MUKHERJEE NAGAR',\n",
       " 'DEFENCE COLONY',\n",
       " 'UTTARAHALLI',\n",
       " 'NEAR GOLE MARKET',\n",
       " 'PADAMUGHAL',\n",
       " 'KASARVADAVLI',\n",
       " 'KHOPAT',\n",
       " 'MAHAVIR NAGAR KANDIVALI WEST',\n",
       " 'BORIVALI EAST',\n",
       " 'BENIL ZACHARIAH ATHINILKUNNATHIL NEAR SALAFI MASJEED CHENAKARA ROAD NAD P.O KOMPARA',\n",
       " 'SAKINAKA',\n",
       " 'LODHI COLONY',\n",
       " 'MANDAVELI',\n",
       " 'TARDEO',\n",
       " 'OFF RACE COURSE ROAD',\n",
       " 'AIROLI',\n",
       " 'SELAIYUR',\n",
       " 'GOREGAON WEST',\n",
       " 'NEAR ADCHINI',\n",
       " 'OPPOSITE GALLERIA MARKET DLF PHASE 4',\n",
       " 'MAJNU KA TILA',\n",
       " 'OLD RAILWAY ROAD',\n",
       " 'TUGHLAKABAD INSTITUTIONAL AREA',\n",
       " '5TH AVENUE',\n",
       " 'MAJESTIC',\n",
       " 'VALLUVAR ROAD',\n",
       " 'KHAR WEST',\n",
       " 'PREET VIHAR',\n",
       " 'JASOLA',\n",
       " 'MEENAKASHI KOVIL STREET',\n",
       " 'CHANAKYAPURI',\n",
       " 'NARAYANGUDA',\n",
       " 'SANJAY NAGAR',\n",
       " 'NEAR RAJESH KHANNA GARDEN. SANTACRUZ WEST',\n",
       " 'INDIRAPURAM HABITAT CENTRE',\n",
       " 'YELAHANKA',\n",
       " 'ANGAMALI',\n",
       " 'MARAD',\n",
       " 'PASCHIM VIHAR',\n",
       " 'RR NAGAR',\n",
       " 'LINKING ROAD',\n",
       " 'NEW DELHI',\n",
       " 'SECTOR 62',\n",
       " 'RA PURAM',\n",
       " 'SARITA VIHAR',\n",
       " 'SECTOR 12',\n",
       " 'SAIDAPET',\n",
       " 'CHOOLAIMEDU',\n",
       " 'SAKI NAKA MUMBAI',\n",
       " 'PANCH PAKHADI',\n",
       " 'SECTOR 42',\n",
       " 'SHENOY NAGAR',\n",
       " 'IN FRONT OF RAJIV CHOWK METRO GATE NO -5',\n",
       " 'MEDCHAL ROAD',\n",
       " 'SOUTH EXTENSION 1',\n",
       " 'DADAR EAST',\n",
       " 'SECTOR 11',\n",
       " 'CHANDRAYANAGUTTA',\n",
       " 'RAMBAUG 4',\n",
       " 'KIRTI NAGAR',\n",
       " 'WEST PUNJABI BAGH',\n",
       " 'SECTOR 49',\n",
       " 'WEST K.K. NAGAR',\n",
       " 'DLF PHASE 2',\n",
       " 'CUNNINGHAM ROAD',\n",
       " 'ST. THOMAS MOUNT',\n",
       " 'GREATER KAILASH (GK) 1',\n",
       " 'WADALA',\n",
       " 'MADURAVOYAL',\n",
       " 'CROSSING REPUBLIK',\n",
       " 'NEAR BASAVANAGUDI',\n",
       " 'S.A.P COLONY',\n",
       " 'GUINDY',\n",
       " 'KOTTIVAKKAM',\n",
       " 'SECTOR 16',\n",
       " 'NARAINA',\n",
       " 'MAYAPURI PHASE 2',\n",
       " 'S P ROAD',\n",
       " 'SHIVAJINAGAR',\n",
       " 'MUTTUKADU',\n",
       " 'KAILASH COLONY',\n",
       " 'SRIRAM NAGAR',\n",
       " 'KHAN MARKET',\n",
       " 'M.G. ROAD',\n",
       " 'INA',\n",
       " 'MOOTAIKARANCHAVADI THURAIPAKKAM',\n",
       " 'SECTOR 93',\n",
       " 'ANDHERI',\n",
       " 'CHOWPATTY',\n",
       " 'JANPATH',\n",
       " 'GUDDIMALLAKPUR',\n",
       " 'INDIA',\n",
       " 'OPPOSITE JNU EAST GATE',\n",
       " 'AMINJIKARAI',\n",
       " 'ALANDUR',\n",
       " 'SECTOR 8',\n",
       " 'PARADISE CIRCLE',\n",
       " 'SECTOR 7',\n",
       " 'SOWCARPET',\n",
       " 'KADAVANTHRA',\n",
       " 'PANDARA ROAD MARKET',\n",
       " 'KOKAPET',\n",
       " 'DADAR SHIVAJI PARK',\n",
       " 'TAGORE GARDEN',\n",
       " 'SECTOR 23',\n",
       " 'NEAR SAKET',\n",
       " '2ND FLOOR DLF PHASE 3',\n",
       " 'SECTOR 38',\n",
       " 'SECTOR-17 ROHINI',\n",
       " 'CHOWNK 1 CHARNI ROAD',\n",
       " 'MUMBAI CST AREA',\n",
       " 'ASHOK VIHAR PHASE 3',\n",
       " 'OLD RAJINDER NAGAR',\n",
       " 'BHANDUP',\n",
       " '100 FT ROAD',\n",
       " 'SECTOR 110',\n",
       " 'SECTOR 25',\n",
       " 'SHAHPUR JAT',\n",
       " 'MALLIKA NAGAR',\n",
       " 'PF LAYOUT',\n",
       " '1ST STAGE',\n",
       " 'OSHIWARA',\n",
       " 'GAMMA 2',\n",
       " 'HSR LAYOUT',\n",
       " 'METTUGUDA',\n",
       " 'NEAR SECTOR 21',\n",
       " 'LOKHANDWALA COMPLEX',\n",
       " 'MRC NAGAR',\n",
       " 'PEDDAR ROAD',\n",
       " 'BALANAGAR',\n",
       " 'MALLESHWARAM WEST',\n",
       " 'NAJAFGARH',\n",
       " 'NEAR MAYUR VIHAR PHASE 1',\n",
       " 'SECTOR 104',\n",
       " 'HS-6 KAILASH COLONY MARKET GREATER KAILASH-1 DELHI',\n",
       " 'RAMMURTHY NAGAR',\n",
       " 'TRIMULGHERRY',\n",
       " 'HEBBAL',\n",
       " 'SECTOR 4',\n",
       " 'AZADPUR',\n",
       " 'KOCHI',\n",
       " 'RAJENDRA NAGAR',\n",
       " 'NALASOPARA',\n",
       " '7TH PHASE',\n",
       " 'FALAKNUMA',\n",
       " 'SANPADA',\n",
       " 'NEAR VENKATESHWARA COLLEGE',\n",
       " 'UDYOG VIHAR',\n",
       " 'MOGAPAIR WEST',\n",
       " 'KURLA',\n",
       " 'SANTACRUZ EAST',\n",
       " 'MUNIRKA',\n",
       " 'PRAGATHI LAYOUT',\n",
       " 'ANJAIAH NAGAR',\n",
       " 'PUKKATTUPADI',\n",
       " 'JAYANAGAR 4TH T BLOCK',\n",
       " 'LAJPAT NAGAR 1',\n",
       " 'ELECTRONIC CITY PHASE 1',\n",
       " 'PADMARAO NAGAR',\n",
       " 'MURTHAL',\n",
       " 'SILPA PARK',\n",
       " 'TAMBARAM',\n",
       " 'MAYUR VIHAR PHASE 1',\n",
       " 'SECTOR 75',\n",
       " 'NETAJI SUBHASH PLACE',\n",
       " 'CHERANALLOOR',\n",
       " 'VASUNDHARA ENCLAVE',\n",
       " 'BELLANDUR WARD',\n",
       " 'NEAR ANNA NAGAR EAST',\n",
       " 'ATTAPUR',\n",
       " 'ASIF NAGAR MEHDIPATNAM',\n",
       " 'ANAND VIHAR',\n",
       " 'KERALA 683101',\n",
       " 'SECTOR 19',\n",
       " 'PRASANTH LAYOUT',\n",
       " 'VYTTILA ELAMKULAM',\n",
       " 'SECTOR 22',\n",
       " '7 BUNGALOWS',\n",
       " 'GREATER KAILASH 1 (GK1)',\n",
       " 'HARYANA 121001',\n",
       " 'RACE COURSE ROAD',\n",
       " '55/402B 4TH CROSS ROAD PANAMPILLY NAGAR',\n",
       " 'MAGADI ROAD',\n",
       " 'HIRANANDANI ESTATE',\n",
       " 'JEEDIMETLA',\n",
       " 'YOUSUFGUDA',\n",
       " 'NACHARAM',\n",
       " 'OLD AIRPORT ROAD',\n",
       " 'SECTOR 54',\n",
       " 'EDAPALLY',\n",
       " 'MAMALLAPURAM',\n",
       " 'RT NAGAR',\n",
       " 'MEERPET',\n",
       " 'RICHMOND TOWN',\n",
       " 'SECTOR 26',\n",
       " 'MAHIPALPUR',\n",
       " 'CUFFE PARADE',\n",
       " 'SECTOR-3',\n",
       " 'LAJPAT NAGAR 2',\n",
       " 'NEAR SECTOR 14',\n",
       " 'PANDAV NAGAR',\n",
       " 'IP EXTENSION',\n",
       " 'KAMOTHE',\n",
       " 'HIRANANDANI GARDENS POWAI',\n",
       " 'SIKANDARPUR',\n",
       " 'HUDA CITY CENTRE METRO STATION',\n",
       " 'HEBBALA',\n",
       " 'SHAKARPUR',\n",
       " 'PEENYA',\n",
       " 'MUSHEERABAD',\n",
       " 'GAMMA 1',\n",
       " 'PURASAIWAKKAM',\n",
       " 'MOOSAPET',\n",
       " 'SECTOR 13',\n",
       " 'BOLGATTY',\n",
       " 'SUBHASH MARKET',\n",
       " 'SECTOR 17',\n",
       " 'BANDRA TALAO',\n",
       " 'EDAPPALLY NORTH',\n",
       " 'SELECT CITYWALK MALL SAKET',\n",
       " 'CHHATARPUR',\n",
       " 'KANDANCHAVADI',\n",
       " 'RICHMOND ROAD',\n",
       " 'CHHOTA ANJAIAH NAGAR',\n",
       " 'GOLE MARKET',\n",
       " 'P5 GK MARG LOWER PAREL',\n",
       " 'SAFDARJUNG ENCLAVE',\n",
       " 'OPP DECATHLON',\n",
       " 'SAROJINI NAGAR',\n",
       " 'HYDER SHAHKOTE LANGER HOUZ',\n",
       " 'SECTOR 81',\n",
       " 'OKKIAMPET',\n",
       " 'CHARMWOOD VILLAGE',\n",
       " 'MIRA ROAD EAST',\n",
       " 'AVADI',\n",
       " 'BASHEER BAGH',\n",
       " 'SECTOR 44',\n",
       " 'RESIDENCY ROAD',\n",
       " 'BETA 2',\n",
       " 'KOTI',\n",
       " 'KANAKAPURA ROAD',\n",
       " 'RAMADASU STATUE',\n",
       " 'OKHLA PHASE 1',\n",
       " 'NEAR KUMAR PETROL BULK',\n",
       " 'INORBIT MALL ROAD KUKATPALLY',\n",
       " 'NANA CHOWK',\n",
       " 'BALLABHGARH',\n",
       " 'MALLESWRARAM',\n",
       " 'SANTHOME',\n",
       " 'MAHALAXMI',\n",
       " 'PARK TOWN',\n",
       " 'JUHU NORTH',\n",
       " 'SECTOR 39',\n",
       " 'MIND SPACE CENTRE',\n",
       " 'SURARAM',\n",
       " 'UDAY PARK',\n",
       " 'NEAR PRAVASI INDUSTRIAL GOREGAON EAST',\n",
       " 'SERILINGAMPALLY',\n",
       " 'MAIN ROAD',\n",
       " 'CHARNI ROAD',\n",
       " 'SHALIMAR BAGH',\n",
       " 'NEAR RTC X ROADS',\n",
       " 'KANATHUR',\n",
       " 'DIST ERNAKULAM',\n",
       " 'CENTRE SQUARE MALL',\n",
       " 'PALLIKARANAI',\n",
       " 'NEW PANVEL',\n",
       " 'NARENDER PARK',\n",
       " 'RANI BAGH',\n",
       " 'NEW FRIENDS COLONY',\n",
       " 'NEAR NAGAWARA',\n",
       " 'OASIS COMPLEX',\n",
       " 'NEAR KACHERIPADY',\n",
       " 'KUMARASWAMY LAYOUT',\n",
       " 'RAVI COLONY KONDAPUR',\n",
       " 'JAMA MASJID',\n",
       " '80 FEET MAIN ROAD',\n",
       " 'OLD MAHABALIPURAM ROAD (OMR)',\n",
       " 'GACHIBOWLI - MIYAPUR ROAD',\n",
       " '2ND MAIN ROAD',\n",
       " 'BEHIND STATE BANK OF INDIA KAVI NAGAR',\n",
       " 'GUJRANWALA TOWN',\n",
       " 'THANE EAST',\n",
       " '(MAIN MARKET) MAYUR VIHAR PHASE 2',\n",
       " 'MUMBAI BANDRA KURLA COMPLEX',\n",
       " 'MOHAN NAGAR',\n",
       " 'AMRAPALI LEISURE VALLEY',\n",
       " 'BALAPUR',\n",
       " 'GREEN COURT',\n",
       " 'NEAR CHANDNI CHOWK',\n",
       " 'SECTOR 21',\n",
       " 'NEAR SECTOR 23',\n",
       " 'ATHANI',\n",
       " '3/132 - RAMAPURAM MAIN ROAD',\n",
       " 'MARINE LINES',\n",
       " 'PERUMBAKKAM MAIN ROAD',\n",
       " 'NEAR LEISURE VALLEY PARK',\n",
       " 'JOGESHWARI WEST',\n",
       " 'KHANPUR',\n",
       " 'PADIVATTOM',\n",
       " 'SAIDABAD COLONY',\n",
       " 'NEAR MARATAHALLI',\n",
       " 'ANNA SALAI',\n",
       " 'B.B.M.P JALAHALLI',\n",
       " 'NEAR RTA OFFICE NAGOLE',\n",
       " 'YMCA JUNCTION. CHITTOOR ROAD',\n",
       " 'RAMGOPALPET',\n",
       " 'VATIKA INDIA SECTOR 83',\n",
       " 'BTM 2ND STAGE',\n",
       " 'BANDRA RECLAMATION DOCK',\n",
       " 'SURANBHI ROAD',\n",
       " 'BEHIND YAZOO PARK',\n",
       " 'GREATER KAILASH 2 (GK2)',\n",
       " 'ISHA LIFE HYDERABAD YOGA STUDIO LLP PLOT: 522; ROAD NO 27 JUBILEE HILLS',\n",
       " 'SANJEEVA REDDY NAGAR',\n",
       " 'MARUTHI NAGAR',\n",
       " 'SAHIBABAD',\n",
       " 'VARTHUR ROAD',\n",
       " 'SOUTH CITY 2',\n",
       " 'BESIDE DURGA TEMPLE',\n",
       " 'VIKHROLI',\n",
       " 'MADHAVARAM',\n",
       " 'NEHRU PLACE',\n",
       " 'DILSHAD GARDEN',\n",
       " 'AMATEURS RIDERS CLUB MAHALAXMI RACECOURSE',\n",
       " 'ARDEE CITY',\n",
       " 'CARTER ROAD',\n",
       " 'OLD PANVEL',\n",
       " 'MANJAPETTY ALUVA PERUMBAVOOR ROAD',\n",
       " 'RAJA GARDEN',\n",
       " 'TKR COLLEGE ROAD MEERPET',\n",
       " 'BIAL INTERNATIONAL AIRPORT',\n",
       " '8TH BLOCK MOGAPPAIR WEST',\n",
       " 'KEMPS CORNER',\n",
       " 'NEAR SECTOR 83',\n",
       " 'NEAR FOCUS HOSPITAL CHAMPAPET SAROOR NAGAR',\n",
       " 'NEAR PALAM',\n",
       " 'SECTOR 83',\n",
       " 'SURAJ KUND',\n",
       " '1-7-172/1 ECIL OPPOSITE',\n",
       " 'MANPADA',\n",
       " 'BHOOPASANDRA MAIN ROAD',\n",
       " 'NEAR SATELLITE TOWER OPPOSITE SANTOSH GARAGE FILM CITY ROAD GOREGAON EAST',\n",
       " 'KAUSHAMBI',\n",
       " 'KOVILAMBAKKAM',\n",
       " 'ILYAZ NAGAR',\n",
       " 'NAVI MUMBAI',\n",
       " 'PALACE ROAD',\n",
       " 'PRASHANT VIHAR',\n",
       " 'NEAR BEGUM BAZAAR',\n",
       " 'SADASHIV NAGAR',\n",
       " 'SECTOR 38 - A',\n",
       " 'SOUTH KALAMASSERY',\n",
       " 'SECTOR 56',\n",
       " 'LAWRENCE ROAD',\n",
       " 'RODEO DRIVE SECTOR 49',\n",
       " 'KOCHI ERNAKULAM',\n",
       " '1ST FLOOR',\n",
       " 'CIVIL LINES',\n",
       " 'MOULA ALI',\n",
       " 'NEAR ROHINI',\n",
       " 'GHODBUNDER ROAD',\n",
       " 'RAMASWAMY COLONY',\n",
       " 'KHEL GAON MARG',\n",
       " '14/90',\n",
       " 'OLD PALLAVARAM',\n",
       " 'NEAR UPPAL',\n",
       " 'DARYAGANJ',\n",
       " 'OUTER CIRCLE CONNAUGHT PLACE',\n",
       " 'VIRAR WEST',\n",
       " 'SUBHASH NAGAR',\n",
       " 'GAUR CITY 2',\n",
       " 'PALAVAKKAM',\n",
       " 'MEHRAULI',\n",
       " 'VENKAT NARAYANA ROAD T. NAGAR',\n",
       " 'BEGUR HOBLI',\n",
       " 'KALYAN WEST. KALYAN',\n",
       " 'CHANDRAYANGUTTA',\n",
       " 'OPPOSITE INORBIT MALL',\n",
       " 'WEST SAIDAPET',\n",
       " 'MAIN MARKET MALVIYA NAGAR',\n",
       " 'ASHOK VIHAR PHASE 1',\n",
       " '1ST RIGHT',\n",
       " 'NEREDMET',\n",
       " 'OPPOSITE AL-AMEEN SCHOOL NEAR LULU MALL NH 17 EDAPPALLY',\n",
       " 'GHANSI BAZAAR',\n",
       " 'MIRA BHAYANDAR',\n",
       " 'ADITYA HEIGHTS',\n",
       " 'PUKALAKKATT COMPLEX PALARIVATTOM VYTILLA ROAD PALARIVATTOM',\n",
       " 'NERUL EAST',\n",
       " 'ACHARYA DOCTOR SARVEPALLI RADHAKRISHNAN ROAD',\n",
       " 'ALPHA 2',\n",
       " 'K.R PURAM',\n",
       " 'VENKATESHWARA LAYOUT',\n",
       " 'BHANDUP WEST',\n",
       " 'SHOP 5 PLOT 2 VILLAGE SAHBERI CROSSING REPUBLIK',\n",
       " 'SAHAKAR NAGAR',\n",
       " 'SAND PADA',\n",
       " 'GANDIPET',\n",
       " 'MALWANI MALAD WEST',\n",
       " 'CHAWRI BAZAR',\n",
       " 'TAMBARAM SENATORIUM',\n",
       " 'APOLLO ROAD',\n",
       " 'JNTU',\n",
       " 'BHAYANDAR WEST',\n",
       " 'UTHANDI',\n",
       " 'KALOOR - KADAVANTHARA ROAD',\n",
       " 'HUDA MARKET',\n",
       " 'OMR ROAD SHOLINGANALLUR',\n",
       " 'TELANGANA 500053',\n",
       " 'CHANDER NAGAR',\n",
       " '1ST LANE',\n",
       " 'ERI SCHEME',\n",
       " 'BANERJI ROAD',\n",
       " 'NAVALUR',\n",
       " 'OUTER RING ROAD',\n",
       " 'REST HOUSE ROAD',\n",
       " 'EAST TAMBARAM',\n",
       " '18TH A ROAD',\n",
       " 'SECTOR 73',\n",
       " '9TH MAIN YARAB NAGAR MAIN ROAD BANASHANKARI',\n",
       " 'PILLAYAR KOIL STREET',\n",
       " 'NOIDA GREATER NOIDA WEST',\n",
       " 'THOTTAKKATTUKARA',\n",
       " 'RAJIV GANDHI SALAI',\n",
       " 'DELHI NCR',\n",
       " 'HASTINAPURAM',\n",
       " 'WEST DELHI JANAKPURI',\n",
       " 'KALAMASSERY CIRCLE',\n",
       " 'OKHLA PHASE 2',\n",
       " 'ULWE',\n",
       " '4TH SECTOR HSR',\n",
       " 'ADCHINI',\n",
       " 'RANI GUNJ',\n",
       " 'GIRGAON',\n",
       " 'MAIN MARKET CHHATARPUR',\n",
       " 'OLD BOWENPALLY',\n",
       " 'NEAR BRIGADE ROAD',\n",
       " 'NUCLEUS MALL',\n",
       " 'KORAMANGALA',\n",
       " 'T.H.KATARIA MARG',\n",
       " 'LOCATION VARIES',\n",
       " 'NEAR FEROZE SHAH ROAD',\n",
       " 'KERALA 682003',\n",
       " 'HAFEEZPET',\n",
       " '2ND STAGE BTM',\n",
       " 'THRIPPUNITHURA',\n",
       " 'LAKE HOMES & HIRANANDANI GARDENS',\n",
       " 'LAJPAT NAGAR',\n",
       " 'NEAR YOUSUFGUDA',\n",
       " 'YELAHANKA NEW TOWN',\n",
       " 'KERALA 682006',\n",
       " 'SECTOR 132',\n",
       " 'NEARER TO FISHERMEN BAR AND RESTAURENT',\n",
       " 'PERUMBAKKAM',\n",
       " 'SECTOR 86',\n",
       " 'OPPOSITE KOTAK MAHINDRA BANK NEXT TO WOODLAND FURNITURE',\n",
       " 'LOUISWADI',\n",
       " 'SECTOR 3',\n",
       " '62 RAMAMURTHY NAGAR MAIN ROAD',\n",
       " 'MEDAVAKAM',\n",
       " 'HBR LAYOUT',\n",
       " 'NEAR SUBHASH NAGAR',\n",
       " 'HMT ROAD KALAMASSERY',\n",
       " 'TAVAREKERE MAIN ROAD',\n",
       " 'KAVADIGUDA',\n",
       " 'SADAR BAZAR',\n",
       " 'M BLOCK MARKET',\n",
       " 'OPPOSITE BASEMENT MARKET DLF PHASE 3',\n",
       " 'SOUTH BANGALORE URBAN MARATHAHALLI',\n",
       " 'BANGALORE',\n",
       " 'SERILINGAMPALLY MANDAL',\n",
       " 'NEAR SECTOR 132',\n",
       " 'DAHISAR WEST',\n",
       " 'CHEMBUR EAST',\n",
       " 'SECTOR 71',\n",
       " 'MARVE',\n",
       " 'PALAM VIHAR',\n",
       " 'AKKARAI',\n",
       " 'OMR FOOD STREET - AMBATTUR',\n",
       " 'BANASHANKARI 3RD STAGE',\n",
       " 'OPPOSITE RUBY HOSPITAL JOGESHWARI',\n",
       " 'NEAR KAILASH HOSPITAL',\n",
       " 'NEAR SILK BOARD BTM 2ND STAGE',\n",
       " 'SECTOR 57',\n",
       " 'SEAWOODS GRAND CENTRAL MALL',\n",
       " 'BOULDER HILLS',\n",
       " 'HOSUR ROAD',\n",
       " 'PERAMBAKKAM MEDAVAKKAM',\n",
       " 'SAIDULLJAB',\n",
       " 'DOSA TIME #17/1',\n",
       " '359',\n",
       " 'SECTOR 43',\n",
       " 'OKKIYAM THURAIPAKKAM',\n",
       " 'BODUPPAL',\n",
       " 'MOGAPPAIR EAST',\n",
       " '5TH PHASE JP NAGAR',\n",
       " 'MPL 6303',\n",
       " 'OBERON MALL',\n",
       " 'T NAGAR',\n",
       " 'PERUMBAVOOR PO',\n",
       " 'ASMITA UPAHAR 2',\n",
       " 'A SOUTH RAO NAGAR',\n",
       " 'SECTOR 135',\n",
       " 'ZEHRA NAGAR',\n",
       " 'SECTOR 33',\n",
       " 'CBD BELAPUR',\n",
       " 'NAUPADA POLICE STATION',\n",
       " 'BEHIND BETHANY HOSPITAL',\n",
       " 'NOIDA',\n",
       " 'PUMP JUNCTION PERIYAR NAGAR ALUVA',\n",
       " 'KERALA 682024',\n",
       " 'SECTOR-16 ROHINI',\n",
       " 'SECTOR 127',\n",
       " 'MOGAPPAIR WEST GARDEN',\n",
       " 'SECTOR 82',\n",
       " 'OPPOSITE INDIAN OIL PETROL PUMP UPPAL',\n",
       " 'NEAR CHRIST COLLEGE',\n",
       " 'I C COLONY',\n",
       " 'NEAR TEA VILLA CAFE',\n",
       " 'OPPOSITE GLOMAX MALL',\n",
       " 'DLF PHASE 1',\n",
       " 'OPPOSITE STATE BANK OF INDIA GACHIBOWLI BRANCH',\n",
       " 'GANDHINAGAR YELAHANKA',\n",
       " 'NEAR SOHNA ROAD',\n",
       " 'OPPOSITE ATC SHOPING MALL AS RAO NAGAR',\n",
       " 'KNOWLEDGE PARK 3',\n",
       " 'PONNURNI',\n",
       " 'ROAD 2',\n",
       " 'ALMAA EDAH',\n",
       " 'VP ROAD',\n",
       " ...]"
      ]
     },
     "execution_count": 312,
     "metadata": {},
     "output_type": "execute_result"
    }
   ],
   "source": [
    "locality"
   ]
  },
  {
   "cell_type": "code",
   "execution_count": 313,
   "id": "9da58aa2",
   "metadata": {},
   "outputs": [],
   "source": [
    "df.replace(to_replace = ['Bangalor','Bangalore-560066','Bengalore','Bengaluru','Banglore',\n",
    "                              '5th Main Teachers Colony Koramangala Block 1 Bangalore 560034',\n",
    "                              'BTM Layout','JP Nagar Bangalore','Whitefield Bangalore',\n",
    "                              'Bangalore - 560076','Bangalore.',\n",
    "                              'Banaswadi (Next to Indian Bank) Bangalore','BTM Bangalore',\n",
    "                              'Bangalore Koramangala 7th Block','bangalore : 560085',\n",
    "                              'CPR layout harlur main road opposite to ozone ever green apartment Bangalore -',\n",
    "                              'Karnataka 560043','Bangalore - 560103','Banglaore',\n",
    "                              'Kanakapura Road Banglore','BTM 1st Stage','Marathahalli',\n",
    "                              'Bangalore land mark above mahaveer hard ware','Phase 1 Bangalore',\n",
    "                              'Bangalore 560076','Bangalore Road','Karnataka','Karnataka 560103',\n",
    "                              'SG Palya','Karnataka 560102','Karnataka 560037', 'B.B.M.P East (Karnataka) - 560049',\n",
    "                              'Malleshwaram Bangalore', 'Kadubesanahalli Bangalore',\n",
    "                             'Mahadevpura','NEW BEL ROAD 560054','JP Nagar','Rajarajeshwari Nagar bangalore',\n",
    "                              'Ulsoo','1st Tavarekere','Thanisandra','Indiranagar','HSR Layout'], \n",
    "                                value='Bangalore',inplace=True)"
   ]
  },
  {
   "cell_type": "code",
   "execution_count": 314,
   "id": "a7400797",
   "metadata": {},
   "outputs": [],
   "source": [
    "df.replace(to_replace = ['Chennai Teynampet','Tamil Nadu','Besant Nagar','Arumbakkam chennai-600106.',\n",
    "                              'Avadi', 'Velachery','Pallavaram','Chennai 600034.','Chennai - 600040', 'Perungudi',\n",
    "                              'Chennai Padur', 'Medavakkam', 'Chennai Kovalam', 'Chennai opp: Vasanth & co',  \n",
    "                              'Mogappair. Chennai', 'Chennai Perungudi', 'Chennai Thuraipakkam', 'OMR Karapakkam',\n",
    "                              'Chennai Thousand Lights',  'Chennai- 600107', 'ECR NEELANKARAI Chennai 600115',\n",
    "                              'Chennai.', 'Chennai (Bang Opposite Indian Bank)','Chennai Opposite 5C Bus stand', \n",
    "                              'Mahabalipuram', 'Chennai Mahabalipuram', 'Nungambakkam','Chennai-40',\n",
    "                              'East Coast Road (ECR)', 'Ramapuram', 'Chennai Chrompet','Nandanam','Thiruvanmiyur', \n",
    "                              'Ambattur','Chennai - 34 Landmark - Near Loyola College', 'Anna Nagar West', \n",
    "                              'Anna Salai','Chenn ai', 'Perambur', 'Vadapalani','Palavakkam','Sholinganallur',\n",
    "                              'Mogappair', 'Ashok Nagar', 'Chennai. (Near Hotel Matshya)',  'Chromepet',\n",
    "                              'chennai','Tambaram','Vadapalani', 'Anna Nagar East','Kilpauk','Potheri',\n",
    "                              'GST Road', 'Vadapalani.','Semmancheri','Dewan Rama Road','Navallur','Kolathur'],\n",
    "                                value='Chennai',inplace=True)"
   ]
  },
  {
   "cell_type": "code",
   "execution_count": 315,
   "id": "41ac4623",
   "metadata": {},
   "outputs": [],
   "source": [
    "df.replace(to_replace=['Telagana Land Line:040-48507016', 'Telangana','Gachibowli','Kondapur', 'Madhapur',\n",
    "                            'Hyderabad Behind Vacs Pastries','Hyderabad neerus emporium.', 'Hitech City',\n",
    "                            'Telangana 500003','Hyderabad.', 'Telangana 500034','Telangana 500032',\n",
    "                            'Hyderabad-500032','Near Santosh Banjara Hyderabad','Gachibowli Hyderabad',\n",
    "                            'hyderabad', 'Telengana','Telangana 500081','Kondapur.',  'Telangana 500070',\n",
    "                            'Begumpet Hyderabad','Hyderabad Manikonda','Jubilee Hills'],value='Hyderabad',inplace=True)\n"
   ]
  },
  {
   "cell_type": "code",
   "execution_count": 316,
   "id": "4c8cb4c4",
   "metadata": {},
   "outputs": [],
   "source": [
    "df.replace(to_replace = ['Kerala', 'Edappally','Ernakulam Circle kochi','Kochi Elamkulam','Ponnuruni Kochi', \n",
    "                              'Kochi Vyttila', 'Kochi Palarivattom','Ernakulam', 'Kochi Chullickal',\n",
    "                              'Kochi-683101','p.o Kochi','Kerala 683104','Kerala 682013',\n",
    "                              'MALAPALLIPURAM P .O THRISSUR','Kochi Ravipuram', 'Kerala 690525','Kochi-18',\n",
    "                              'MG Road Ernakulam','Kochi Kakkanad', 'Kochi International Airport VIP Road', \n",
    "                              'Kerala 682001 India', 'Kerala 683585', 'Kerala 682304','Fort Kochi',\n",
    "                              'Kochi Aluva 102', 'Kerala 682024', 'Kochi','Kakkanad','Kaloor','Palarivattom',\n",
    "                             'Kochi-16'], \n",
    "                                value='Kochi',inplace=True)"
   ]
  },
  {
   "cell_type": "code",
   "execution_count": 317,
   "id": "a5ebf5a0",
   "metadata": {},
   "outputs": [],
   "source": [
    "df.replace(to_replace = [ 'Secunderabad', 'Secunderabad main road near signal NMREC COLLEGE',\n",
    "                              'Secunderabad ECIL','Secunderabad. WE HAVE NO BRANCHES.','Secunderabad.'],\n",
    "                                value='Secunderabad',inplace=True)\n"
   ]
  },
  {
   "cell_type": "code",
   "execution_count": 318,
   "id": "dc92dd7f",
   "metadata": {},
   "outputs": [],
   "source": [
    "df.replace(to_replace = ['Mumbai','Navi Mumbai','Mumbai Mahim','Navi Mumbai.', 'Mumbai - 400007',\n",
    "                              'Mumbai.','Mumbai Andheri East','Mumbai Dombivali East','navi mumbai',\n",
    "                              'Mumbai - 400013','West Mumbai','Andheri west Mumbai','Mumbai Chakala',\n",
    "                              'BK Guda', 'Jogeshwari (w) Mumbai','Mumbai - 80','East Mumbai','Navi-Mumbai',\n",
    "                              'Mumbai This is a Delivery & Take-away Restaurant only.','Thane Mumbai',\n",
    "                              'Khar Mumbai','Andheri Lokhandwala','Andheri West','Andheri Lokhandwala.',\n",
    "                              'Thane','Thane West','Thane (W)','Maharashtra','Maharashtra 400102','Bandra West',\n",
    "                             'Powai'],\n",
    "                               value='Mumbai',inplace=True)\n"
   ]
  },
  {
   "cell_type": "code",
   "execution_count": 319,
   "id": "8c6de8b7",
   "metadata": {},
   "outputs": [],
   "source": [
    "df.replace(to_replace=[ 'New Delhi','Delhi','Delhi NCR','Chander Nagar New Delhi','New Delhi.',\n",
    "                            'New Delhi-110024','Greater Kailash 2 New Delhi',\n",
    "                            'Amrit kaur market opposite new delhi railway station paharganj',\n",
    "                            'Delhi 110085','Old Delhi','New Delhi..Near by SBI bank','New Delhi 110075',\n",
    "                            'Janakpuri', 'Dist. Center New Delhi','Gurugram'],value='New Delhi',inplace=True)"
   ]
  },
  {
   "cell_type": "code",
   "execution_count": 320,
   "id": "b5f68179",
   "metadata": {},
   "outputs": [],
   "source": [
    "df.replace(to_replace=['Noida','Sector 51 Noida','Greater Noida','Near Sector 110 Noida'],value='Noida',\n",
    "                            inplace=True)"
   ]
  },
  {
   "cell_type": "code",
   "execution_count": 321,
   "id": "472e6cd2",
   "metadata": {},
   "outputs": [],
   "source": [
    "df.replace(to_replace=['Gurgaon','Gurgoan','Gurgaon Haryana India','Gurgaon Haryana'],value='Gurgaon',inplace=True)"
   ]
  },
  {
   "cell_type": "code",
   "execution_count": 322,
   "id": "c2946e6b",
   "metadata": {},
   "outputs": [],
   "source": [
    "test_df.replace(to_replace = ['Bangalor','Bangalore-560066','Bengalore','Bengaluru','Banglore',\n",
    "                              '5th Main Teachers Colony Koramangala Block 1 Bangalore 560034',\n",
    "                              'BTM Layout','JP Nagar Bangalore','Whitefield Bangalore',\n",
    "                              'Bangalore - 560076','Bangalore.',\n",
    "                              'Banaswadi (Next to Indian Bank) Bangalore','BTM Bangalore',\n",
    "                              'Bangalore Koramangala 7th Block','bangalore : 560085',\n",
    "                              'CPR layout harlur main road opposite to ozone ever green apartment Bangalore -',\n",
    "                              'Karnataka 560043','Bangalore - 560103','Banglaore',\n",
    "                              'Kanakapura Road Banglore','BTM 1st Stage','Marathahalli',\n",
    "                              'Bangalore land mark above mahaveer hard ware','Phase 1 Bangalore',\n",
    "                              'Bangalore 560076','Bangalore Road','Karnataka','Karnataka 560103',\n",
    "                              'SG Palya','Karnataka 560102','Karnataka 560037', 'B.B.M.P East (Karnataka) - 560049',\n",
    "                              'Malleshwaram Bangalore', 'Kadubesanahalli Bangalore',\n",
    "                             'Mahadevpura','NEW BEL ROAD 560054','JP Nagar','Rajarajeshwari Nagar bangalore',\n",
    "                              'Ulsoo','1st Tavarekere','Thanisandra','Indiranagar','HSR Layout'], \n",
    "                                value='Bangalore',inplace=True)"
   ]
  },
  {
   "cell_type": "code",
   "execution_count": 323,
   "id": "c9cd5d3f",
   "metadata": {},
   "outputs": [],
   "source": [
    "test_df.replace(to_replace = ['Chennai Teynampet','Tamil Nadu','Besant Nagar','Arumbakkam chennai-600106.',\n",
    "                              'Avadi', 'Velachery','Pallavaram','Chennai 600034.','Chennai - 600040', 'Perungudi',\n",
    "                              'Chennai Padur', 'Medavakkam', 'Chennai Kovalam', 'Chennai opp: Vasanth & co',  \n",
    "                              'Mogappair. Chennai', 'Chennai Perungudi', 'Chennai Thuraipakkam', 'OMR Karapakkam',\n",
    "                              'Chennai Thousand Lights',  'Chennai- 600107', 'ECR NEELANKARAI Chennai 600115',\n",
    "                              'Chennai.', 'Chennai (Bang Opposite Indian Bank)','Chennai Opposite 5C Bus stand', \n",
    "                              'Mahabalipuram', 'Chennai Mahabalipuram', 'Nungambakkam','Chennai-40',\n",
    "                              'East Coast Road (ECR)', 'Ramapuram', 'Chennai Chrompet','Nandanam','Thiruvanmiyur', \n",
    "                              'Ambattur','Chennai - 34 Landmark - Near Loyola College', 'Anna Nagar West', \n",
    "                              'Anna Salai','Chenn ai', 'Perambur', 'Vadapalani','Palavakkam','Sholinganallur',\n",
    "                              'Mogappair', 'Ashok Nagar', 'Chennai. (Near Hotel Matshya)',  'Chromepet',\n",
    "                              'chennai','Tambaram','Vadapalani', 'Anna Nagar East','Kilpauk','Potheri',\n",
    "                              'GST Road', 'Vadapalani.','Semmancheri','Dewan Rama Road','Navallur','Kolathur'],\n",
    "                                value='Chennai',inplace=True)\n"
   ]
  },
  {
   "cell_type": "code",
   "execution_count": 324,
   "id": "a63a9677",
   "metadata": {},
   "outputs": [],
   "source": [
    "test_df.replace(to_replace=['Telagana Land Line:040-48507016', 'Telangana','Gachibowli','Kondapur', 'Madhapur',\n",
    "                            'Hyderabad Behind Vacs Pastries','Hyderabad neerus emporium.', 'Hitech City',\n",
    "                            'Telangana 500003','Hyderabad.', 'Telangana 500034','Telangana 500032',\n",
    "                            'Hyderabad-500032','Near Santosh Banjara Hyderabad','Gachibowli Hyderabad',\n",
    "                            'hyderabad', 'Telengana','Telangana 500081','Kondapur.',  'Telangana 500070',\n",
    "                            'Begumpet Hyderabad','Hyderabad Manikonda','Jubilee Hills'],value='Hyderabad',inplace=True)"
   ]
  },
  {
   "cell_type": "code",
   "execution_count": 325,
   "id": "4f223884",
   "metadata": {},
   "outputs": [],
   "source": [
    "test_df.replace(to_replace = ['Kerala', 'Edappally','Ernakulam Circle kochi','Kochi Elamkulam','Ponnuruni Kochi', \n",
    "                              'Kochi Vyttila', 'Kochi Palarivattom','Ernakulam', 'Kochi Chullickal',\n",
    "                              'Kochi-683101','p.o Kochi','Kerala 683104','Kerala 682013',\n",
    "                              'MALAPALLIPURAM P .O THRISSUR','Kochi Ravipuram', 'Kerala 690525','Kochi-18',\n",
    "                              'MG Road Ernakulam','Kochi Kakkanad', 'Kochi International Airport VIP Road', \n",
    "                              'Kerala 682001 India', 'Kerala 683585', 'Kerala 682304','Fort Kochi',\n",
    "                              'Kochi Aluva 102', 'Kerala 682024', 'Kochi','Kakkanad','Kaloor','Palarivattom',\n",
    "                             'Kochi-16'], \n",
    "                                value='Kochi',inplace=True)"
   ]
  },
  {
   "cell_type": "code",
   "execution_count": 326,
   "id": "041b947f",
   "metadata": {},
   "outputs": [],
   "source": [
    "test_df.replace(to_replace = [ 'Secunderabad', 'Secunderabad main road near signal NMREC COLLEGE',\n",
    "                              'Secunderabad ECIL','Secunderabad. WE HAVE NO BRANCHES.','Secunderabad.'],\n",
    "                                value='Secunderabad',inplace=True)\n"
   ]
  },
  {
   "cell_type": "code",
   "execution_count": 327,
   "id": "20bc379f",
   "metadata": {},
   "outputs": [],
   "source": [
    "test_df.replace(to_replace = ['Mumbai','Navi Mumbai','Mumbai Mahim','Navi Mumbai.', 'Mumbai - 400007',\n",
    "                              'Mumbai.','Mumbai Andheri East','Mumbai Dombivali East','navi mumbai',\n",
    "                              'Mumbai - 400013','West Mumbai','Andheri west Mumbai','Mumbai Chakala',\n",
    "                              'BK Guda', 'Jogeshwari (w) Mumbai','Mumbai - 80','East Mumbai','Navi-Mumbai',\n",
    "                              'Mumbai This is a Delivery & Take-away Restaurant only.','Thane Mumbai',\n",
    "                              'Khar Mumbai','Andheri Lokhandwala','Andheri West','Andheri Lokhandwala.',\n",
    "                              'Thane','Thane West','Thane (W)','Maharashtra','Maharashtra 400102','Bandra West',\n",
    "                             'Powai'],\n",
    "                               value='Mumbai',inplace=True)\n"
   ]
  },
  {
   "cell_type": "code",
   "execution_count": 328,
   "id": "979239bf",
   "metadata": {},
   "outputs": [],
   "source": [
    "test_df.replace(to_replace=[ 'New Delhi','Delhi','Delhi NCR','Chander Nagar New Delhi','New Delhi.',\n",
    "                            'New Delhi-110024','Greater Kailash 2 New Delhi',\n",
    "                            'Amrit kaur market opposite new delhi railway station paharganj',\n",
    "                            'Delhi 110085','Old Delhi','New Delhi..Near by SBI bank','New Delhi 110075',\n",
    "                            'Janakpuri', 'Dist. Center New Delhi','Gurugram'],value='New Delhi',inplace=True)\n"
   ]
  },
  {
   "cell_type": "code",
   "execution_count": 329,
   "id": "88fa1bb8",
   "metadata": {},
   "outputs": [],
   "source": [
    "test_df.replace(to_replace=['Noida','Sector 51 Noida','Greater Noida','Near Sector 110 Noida'],value='Noida',\n",
    "                            inplace=True)\n"
   ]
  },
  {
   "cell_type": "code",
   "execution_count": 330,
   "id": "42e558d8",
   "metadata": {},
   "outputs": [],
   "source": [
    "test_df.replace(to_replace=['Gurgaon','Gurgoan','Gurgaon Haryana India','Gurgaon Haryana'],value='Gurgaon',inplace=True)"
   ]
  },
  {
   "cell_type": "code",
   "execution_count": 331,
   "id": "d41efce7",
   "metadata": {},
   "outputs": [],
   "source": [
    "#Deleting the time column:\n",
    "df.drop(['TIME'],axis=1,inplace=True)\n",
    "test_df.drop([\"TIME\"],axis=1,inplace=True)"
   ]
  },
  {
   "cell_type": "code",
   "execution_count": 332,
   "id": "e505628b",
   "metadata": {},
   "outputs": [],
   "source": [
    "test_df[\"VOTES\"]=test_df[\"VOTES\"].str.replace(\"votes\",\" \")\n",
    "df[\"VOTES\"]=df[\"VOTES\"].str.replace(\"votes\",\" \")"
   ]
  },
  {
   "cell_type": "markdown",
   "id": "cb9d90e9",
   "metadata": {},
   "source": [
    "In this simplified the distinct values in the column.Deleted the time column and replaced the word votes in the vote column."
   ]
  },
  {
   "cell_type": "markdown",
   "id": "f77506f8",
   "metadata": {},
   "source": [
    "# 3] ANALYSING  AND VISUALISATION OF THE DATASET"
   ]
  },
  {
   "cell_type": "markdown",
   "id": "af2e6794",
   "metadata": {},
   "source": [
    "1)Identifying the missing values:"
   ]
  },
  {
   "cell_type": "code",
   "execution_count": 333,
   "id": "ff4e068f",
   "metadata": {},
   "outputs": [
    {
     "data": {
      "text/plain": [
       "TITLE               0\n",
       "RESTAURANT_ID       0\n",
       "CUISINES            0\n",
       "CITY              112\n",
       "LOCALITY           98\n",
       "RATING              2\n",
       "VOTES            1204\n",
       "COST                0\n",
       "dtype: int64"
      ]
     },
     "execution_count": 333,
     "metadata": {},
     "output_type": "execute_result"
    }
   ],
   "source": [
    "#To know about the missing values in the given dataset\n",
    "df.isnull().sum()"
   ]
  },
  {
   "cell_type": "markdown",
   "id": "01e0407e",
   "metadata": {},
   "source": [
    "There are missing values in the column -votes,locality and city.The percentage of misssing values are also less than 5%. We will impute the missing values.Since these are categorical columns replacing with mode of these columns."
   ]
  },
  {
   "cell_type": "code",
   "execution_count": 334,
   "id": "49f66d48",
   "metadata": {},
   "outputs": [],
   "source": [
    "df[\"CITY\"].fillna(df[\"CITY\"].mode()[0],inplace=True)\n",
    "df[\"LOCALITY\"].fillna(df[\"LOCALITY\"].mode()[0],inplace=True)\n",
    "df[\"RATING\"].fillna(df[\"RATING\"].mode()[0],inplace=True)\n",
    "df[\"VOTES\"].fillna(df[\"VOTES\"].mode()[0],inplace=True)"
   ]
  },
  {
   "cell_type": "code",
   "execution_count": 335,
   "id": "2e483f7d",
   "metadata": {},
   "outputs": [
    {
     "data": {
      "text/plain": [
       "TITLE            0\n",
       "RESTAURANT_ID    0\n",
       "CUISINES         0\n",
       "CITY             0\n",
       "LOCALITY         0\n",
       "RATING           0\n",
       "VOTES            0\n",
       "COST             0\n",
       "dtype: int64"
      ]
     },
     "execution_count": 335,
     "metadata": {},
     "output_type": "execute_result"
    }
   ],
   "source": [
    "#To know about the missing values in the given dataset-Training data\n",
    "df.isnull().sum()"
   ]
  },
  {
   "cell_type": "code",
   "execution_count": 336,
   "id": "866e6a10",
   "metadata": {},
   "outputs": [
    {
     "data": {
      "text/plain": [
       "TITLE              0\n",
       "RESTAURANT_ID      0\n",
       "CUISINES           0\n",
       "CITY              35\n",
       "LOCALITY          30\n",
       "RATING             2\n",
       "VOTES            402\n",
       "dtype: int64"
      ]
     },
     "execution_count": 336,
     "metadata": {},
     "output_type": "execute_result"
    }
   ],
   "source": [
    "#To know about the missing values in the given dataset-Test data\n",
    "test_df.isnull().sum()"
   ]
  },
  {
   "cell_type": "code",
   "execution_count": 337,
   "id": "c5cc5f08",
   "metadata": {},
   "outputs": [],
   "source": [
    "test_df[\"CITY\"].fillna(test_df[\"CITY\"].mode()[0],inplace=True)\n",
    "test_df[\"VOTES\"].fillna(test_df[\"VOTES\"].mode()[0],inplace=True)\n",
    "test_df[\"LOCALITY\"].fillna(test_df[\"LOCALITY\"].mode()[0],inplace=True)\n",
    "test_df[\"RATING\"].fillna(test_df[\"RATING\"].mode()[0],inplace=True)"
   ]
  },
  {
   "cell_type": "code",
   "execution_count": 338,
   "id": "b3233e56",
   "metadata": {},
   "outputs": [
    {
     "data": {
      "text/plain": [
       "TITLE            0\n",
       "RESTAURANT_ID    0\n",
       "CUISINES         0\n",
       "CITY             0\n",
       "LOCALITY         0\n",
       "RATING           0\n",
       "VOTES            0\n",
       "dtype: int64"
      ]
     },
     "execution_count": 338,
     "metadata": {},
     "output_type": "execute_result"
    }
   ],
   "source": [
    "#To know about the missing values in the given dataset-Test data\n",
    "test_df.isnull().sum()"
   ]
  },
  {
   "cell_type": "code",
   "execution_count": 339,
   "id": "54f2c864",
   "metadata": {},
   "outputs": [
    {
     "data": {
      "text/plain": [
       "array([3.6, 4.2, 3.8, 4.1, 4, 4.3, 3.9, 3.3, 3.4, '-', 4.5, 3.5, 4.4, 2.7,\n",
       "       3.7, 4.7, 'NEW', 3.1, 2.5, '3.7', 4.6, 2.8, 3, 3.2, 2.6, 2.9, 4.9,\n",
       "       4.8, 2.4, 2.3, 2, 2.1, 2.2], dtype=object)"
      ]
     },
     "execution_count": 339,
     "metadata": {},
     "output_type": "execute_result"
    }
   ],
   "source": [
    "#Replacing empty and string value new to 0[zero]:\n",
    "df[\"RATING\"].unique()"
   ]
  },
  {
   "cell_type": "code",
   "execution_count": 340,
   "id": "fb2dfc7d",
   "metadata": {},
   "outputs": [
    {
     "data": {
      "text/plain": [
       "array([3.6, 4.2, 3.8, 4.1, 4, 4.3, 3.9, 3.3, 3.4, 0, 4.5, 3.5, 4.4, 2.7,\n",
       "       3.7, 4.7, 3.1, 2.5, '3.7', 4.6, 2.8, 3, 3.2, 2.6, 2.9, 4.9, 4.8,\n",
       "       2.4, 2.3, 2, 2.1, 2.2], dtype=object)"
      ]
     },
     "execution_count": 340,
     "metadata": {},
     "output_type": "execute_result"
    }
   ],
   "source": [
    "a=[\"NEW\",\"-\"]\n",
    "b=[0,0]\n",
    "d=dict(zip(a,b))\n",
    "df.RATING=df.RATING.replace(d,regex=True)\n",
    "df.RATING.unique()"
   ]
  },
  {
   "cell_type": "code",
   "execution_count": 341,
   "id": "442f9392",
   "metadata": {},
   "outputs": [
    {
     "data": {
      "text/plain": [
       "array([4.3, 4.2, 3.8, 3.6, 3.7, 0. , 4. , 3.4, 3.2, 4.1, 3. , 3.5, 4.5,\n",
       "       3.9, 3.3, 2.9, 3.1, 2.5, 2.8, 4.6, 4.4, 2.7, 4.8, 2.6, 4.9, 2.1,\n",
       "       4.7, 2.3, 2.4, 2.2])"
      ]
     },
     "execution_count": 341,
     "metadata": {},
     "output_type": "execute_result"
    }
   ],
   "source": [
    "test_df[\"RATING\"]=test_df[\"RATING\"].replace(d,regex=True)\n",
    "test_df[\"RATING\"].unique()"
   ]
  },
  {
   "cell_type": "code",
   "execution_count": 342,
   "id": "f3422d3e",
   "metadata": {},
   "outputs": [
    {
     "data": {
      "text/plain": [
       "RESTAURANT_ID     0.006947\n",
       "RATING           -2.216295\n",
       "VOTES            14.609221\n",
       "COST              3.978801\n",
       "dtype: float64"
      ]
     },
     "execution_count": 342,
     "metadata": {},
     "output_type": "execute_result"
    }
   ],
   "source": [
    "#To see the skewness of the data:\n",
    "df.skew()"
   ]
  },
  {
   "cell_type": "code",
   "execution_count": 343,
   "id": "8dcae6df",
   "metadata": {},
   "outputs": [
    {
     "data": {
      "text/plain": [
       "<Axes: >"
      ]
     },
     "execution_count": 343,
     "metadata": {},
     "output_type": "execute_result"
    },
    {
     "data": {
      "image/png": "[encoded data removed]",
      "text/plain": [
       "<Figure size 640x480 with 2 Axes>"
      ]
     },
     "metadata": {},
     "output_type": "display_data"
    }
   ],
   "source": [
    "sns.heatmap(df.corr(),annot=True)"
   ]
  },
  {
   "cell_type": "markdown",
   "id": "27eabbcc",
   "metadata": {},
   "source": [
    "Since these are categorical values not much multicolinearity is seen in these dataset."
   ]
  },
  {
   "cell_type": "markdown",
   "id": "1f6cdf6a",
   "metadata": {},
   "source": [
    "# 4] Encoding the categorical variables into numerical variables:"
   ]
  },
  {
   "cell_type": "markdown",
   "id": "6184dc6c",
   "metadata": {},
   "source": [
    "Encoding the values with label Encoder:"
   ]
  },
  {
   "cell_type": "code",
   "execution_count": 344,
   "id": "cac00a44",
   "metadata": {},
   "outputs": [],
   "source": [
    "#importing the necessary libraries:\n",
    "from sklearn.preprocessing import LabelEncoder"
   ]
  },
  {
   "cell_type": "code",
   "execution_count": 345,
   "id": "ec24b2e4",
   "metadata": {},
   "outputs": [],
   "source": [
    "encoder= LabelEncoder()"
   ]
  },
  {
   "cell_type": "code",
   "execution_count": 346,
   "id": "233f4491",
   "metadata": {},
   "outputs": [],
   "source": [
    "#by using target encoder encoding marital column:\n",
    "df[\"TITLE\"]=encoder.fit_transform(df[\"TITLE\"])\n",
    "df[\"CUISINES\"]=encoder.fit_transform(df[\"CUISINES\"])\n",
    "df[\"CITY\"]=encoder.fit_transform(df[\"CITY\"])\n",
    "df[\"LOCALITY\"]=encoder.fit_transform(df[\"LOCALITY\"])"
   ]
  },
  {
   "cell_type": "code",
   "execution_count": 347,
   "id": "e08b99d3",
   "metadata": {},
   "outputs": [
    {
     "data": {
      "text/html": [
       "<div>\n",
       "<style scoped>\n",
       "    .dataframe tbody tr th:only-of-type {\n",
       "        vertical-align: middle;\n",
       "    }\n",
       "\n",
       "    .dataframe tbody tr th {\n",
       "        vertical-align: top;\n",
       "    }\n",
       "\n",
       "    .dataframe thead th {\n",
       "        text-align: right;\n",
       "    }\n",
       "</style>\n",
       "<table border=\"1\" class=\"dataframe\">\n",
       "  <thead>\n",
       "    <tr style=\"text-align: right;\">\n",
       "      <th></th>\n",
       "      <th>TITLE</th>\n",
       "      <th>RESTAURANT_ID</th>\n",
       "      <th>CUISINES</th>\n",
       "      <th>CITY</th>\n",
       "      <th>LOCALITY</th>\n",
       "      <th>RATING</th>\n",
       "      <th>VOTES</th>\n",
       "      <th>COST</th>\n",
       "    </tr>\n",
       "  </thead>\n",
       "  <tbody>\n",
       "    <tr>\n",
       "      <th>0</th>\n",
       "      <td>31</td>\n",
       "      <td>9438</td>\n",
       "      <td>2627</td>\n",
       "      <td>85</td>\n",
       "      <td>271</td>\n",
       "      <td>3.6</td>\n",
       "      <td>49</td>\n",
       "      <td>1200</td>\n",
       "    </tr>\n",
       "    <tr>\n",
       "      <th>1</th>\n",
       "      <td>33</td>\n",
       "      <td>13198</td>\n",
       "      <td>289</td>\n",
       "      <td>28</td>\n",
       "      <td>208</td>\n",
       "      <td>4.2</td>\n",
       "      <td>30</td>\n",
       "      <td>1500</td>\n",
       "    </tr>\n",
       "    <tr>\n",
       "      <th>2</th>\n",
       "      <td>31</td>\n",
       "      <td>10915</td>\n",
       "      <td>2976</td>\n",
       "      <td>28</td>\n",
       "      <td>1049</td>\n",
       "      <td>3.8</td>\n",
       "      <td>221</td>\n",
       "      <td>800</td>\n",
       "    </tr>\n",
       "    <tr>\n",
       "      <th>3</th>\n",
       "      <td>95</td>\n",
       "      <td>6346</td>\n",
       "      <td>4130</td>\n",
       "      <td>85</td>\n",
       "      <td>690</td>\n",
       "      <td>4.1</td>\n",
       "      <td>24</td>\n",
       "      <td>800</td>\n",
       "    </tr>\n",
       "    <tr>\n",
       "      <th>4</th>\n",
       "      <td>50</td>\n",
       "      <td>15387</td>\n",
       "      <td>1766</td>\n",
       "      <td>85</td>\n",
       "      <td>585</td>\n",
       "      <td>3.8</td>\n",
       "      <td>165</td>\n",
       "      <td>300</td>\n",
       "    </tr>\n",
       "    <tr>\n",
       "      <th>...</th>\n",
       "      <td>...</td>\n",
       "      <td>...</td>\n",
       "      <td>...</td>\n",
       "      <td>...</td>\n",
       "      <td>...</td>\n",
       "      <td>...</td>\n",
       "      <td>...</td>\n",
       "      <td>...</td>\n",
       "    </tr>\n",
       "    <tr>\n",
       "      <th>12685</th>\n",
       "      <td>95</td>\n",
       "      <td>13228</td>\n",
       "      <td>2934</td>\n",
       "      <td>50</td>\n",
       "      <td>394</td>\n",
       "      <td>3.8</td>\n",
       "      <td>546</td>\n",
       "      <td>500</td>\n",
       "    </tr>\n",
       "    <tr>\n",
       "      <th>12686</th>\n",
       "      <td>33</td>\n",
       "      <td>9686</td>\n",
       "      <td>2143</td>\n",
       "      <td>85</td>\n",
       "      <td>124</td>\n",
       "      <td>4.3</td>\n",
       "      <td>1214</td>\n",
       "      <td>1800</td>\n",
       "    </tr>\n",
       "    <tr>\n",
       "      <th>12687</th>\n",
       "      <td>71</td>\n",
       "      <td>11133</td>\n",
       "      <td>2088</td>\n",
       "      <td>85</td>\n",
       "      <td>1283</td>\n",
       "      <td>4</td>\n",
       "      <td>608</td>\n",
       "      <td>1300</td>\n",
       "    </tr>\n",
       "    <tr>\n",
       "      <th>12688</th>\n",
       "      <td>31</td>\n",
       "      <td>6134</td>\n",
       "      <td>3506</td>\n",
       "      <td>28</td>\n",
       "      <td>595</td>\n",
       "      <td>3.5</td>\n",
       "      <td>32</td>\n",
       "      <td>400</td>\n",
       "    </tr>\n",
       "    <tr>\n",
       "      <th>12689</th>\n",
       "      <td>31</td>\n",
       "      <td>6430</td>\n",
       "      <td>2946</td>\n",
       "      <td>50</td>\n",
       "      <td>1274</td>\n",
       "      <td>3.4</td>\n",
       "      <td>677</td>\n",
       "      <td>600</td>\n",
       "    </tr>\n",
       "  </tbody>\n",
       "</table>\n",
       "<p>12690 rows × 8 columns</p>\n",
       "</div>"
      ],
      "text/plain": [
       "       TITLE  RESTAURANT_ID  CUISINES  CITY  LOCALITY RATING   VOTES  COST\n",
       "0         31           9438      2627    85       271    3.6    49    1200\n",
       "1         33          13198       289    28       208    4.2    30    1500\n",
       "2         31          10915      2976    28      1049    3.8   221     800\n",
       "3         95           6346      4130    85       690    4.1    24     800\n",
       "4         50          15387      1766    85       585    3.8   165     300\n",
       "...      ...            ...       ...   ...       ...    ...     ...   ...\n",
       "12685     95          13228      2934    50       394    3.8   546     500\n",
       "12686     33           9686      2143    85       124    4.3  1214    1800\n",
       "12687     71          11133      2088    85      1283      4   608    1300\n",
       "12688     31           6134      3506    28       595    3.5    32     400\n",
       "12689     31           6430      2946    50      1274    3.4   677     600\n",
       "\n",
       "[12690 rows x 8 columns]"
      ]
     },
     "execution_count": 347,
     "metadata": {},
     "output_type": "execute_result"
    }
   ],
   "source": [
    "df"
   ]
  },
  {
   "cell_type": "code",
   "execution_count": 348,
   "id": "64b82dbe",
   "metadata": {},
   "outputs": [],
   "source": [
    "#by using target encoder encoding marital column:\n",
    "test_df[\"TITLE\"]=encoder.fit_transform(test_df[\"TITLE\"])\n",
    "test_df[\"CUISINES\"]=encoder.fit_transform(test_df[\"CUISINES\"])\n",
    "test_df[\"CITY\"]=encoder.fit_transform(test_df[\"CITY\"])\n",
    "test_df[\"LOCALITY\"]=encoder.fit_transform(test_df[\"LOCALITY\"])"
   ]
  },
  {
   "cell_type": "code",
   "execution_count": 349,
   "id": "7f59f98c",
   "metadata": {},
   "outputs": [
    {
     "data": {
      "text/html": [
       "<div>\n",
       "<style scoped>\n",
       "    .dataframe tbody tr th:only-of-type {\n",
       "        vertical-align: middle;\n",
       "    }\n",
       "\n",
       "    .dataframe tbody tr th {\n",
       "        vertical-align: top;\n",
       "    }\n",
       "\n",
       "    .dataframe thead th {\n",
       "        text-align: right;\n",
       "    }\n",
       "</style>\n",
       "<table border=\"1\" class=\"dataframe\">\n",
       "  <thead>\n",
       "    <tr style=\"text-align: right;\">\n",
       "      <th></th>\n",
       "      <th>TITLE</th>\n",
       "      <th>RESTAURANT_ID</th>\n",
       "      <th>CUISINES</th>\n",
       "      <th>CITY</th>\n",
       "      <th>LOCALITY</th>\n",
       "      <th>RATING</th>\n",
       "      <th>VOTES</th>\n",
       "    </tr>\n",
       "  </thead>\n",
       "  <tbody>\n",
       "    <tr>\n",
       "      <th>0</th>\n",
       "      <td>23</td>\n",
       "      <td>4085</td>\n",
       "      <td>1293</td>\n",
       "      <td>79</td>\n",
       "      <td>615</td>\n",
       "      <td>4.3</td>\n",
       "      <td>564</td>\n",
       "    </tr>\n",
       "    <tr>\n",
       "      <th>1</th>\n",
       "      <td>75</td>\n",
       "      <td>12680</td>\n",
       "      <td>1632</td>\n",
       "      <td>67</td>\n",
       "      <td>202</td>\n",
       "      <td>4.2</td>\n",
       "      <td>61</td>\n",
       "    </tr>\n",
       "    <tr>\n",
       "      <th>2</th>\n",
       "      <td>23</td>\n",
       "      <td>1411</td>\n",
       "      <td>1455</td>\n",
       "      <td>67</td>\n",
       "      <td>376</td>\n",
       "      <td>3.8</td>\n",
       "      <td>350</td>\n",
       "    </tr>\n",
       "    <tr>\n",
       "      <th>3</th>\n",
       "      <td>66</td>\n",
       "      <td>204</td>\n",
       "      <td>208</td>\n",
       "      <td>29</td>\n",
       "      <td>419</td>\n",
       "      <td>3.8</td>\n",
       "      <td>1445</td>\n",
       "    </tr>\n",
       "    <tr>\n",
       "      <th>4</th>\n",
       "      <td>75</td>\n",
       "      <td>13453</td>\n",
       "      <td>1637</td>\n",
       "      <td>54</td>\n",
       "      <td>302</td>\n",
       "      <td>3.6</td>\n",
       "      <td>23</td>\n",
       "    </tr>\n",
       "    <tr>\n",
       "      <th>...</th>\n",
       "      <td>...</td>\n",
       "      <td>...</td>\n",
       "      <td>...</td>\n",
       "      <td>...</td>\n",
       "      <td>...</td>\n",
       "      <td>...</td>\n",
       "      <td>...</td>\n",
       "    </tr>\n",
       "    <tr>\n",
       "      <th>4226</th>\n",
       "      <td>23</td>\n",
       "      <td>9057</td>\n",
       "      <td>1425</td>\n",
       "      <td>77</td>\n",
       "      <td>551</td>\n",
       "      <td>3.9</td>\n",
       "      <td>287</td>\n",
       "    </tr>\n",
       "    <tr>\n",
       "      <th>4227</th>\n",
       "      <td>66</td>\n",
       "      <td>1247</td>\n",
       "      <td>267</td>\n",
       "      <td>6</td>\n",
       "      <td>66</td>\n",
       "      <td>4.3</td>\n",
       "      <td>469</td>\n",
       "    </tr>\n",
       "    <tr>\n",
       "      <th>4228</th>\n",
       "      <td>75</td>\n",
       "      <td>8617</td>\n",
       "      <td>679</td>\n",
       "      <td>29</td>\n",
       "      <td>649</td>\n",
       "      <td>3.7</td>\n",
       "      <td>53</td>\n",
       "    </tr>\n",
       "    <tr>\n",
       "      <th>4229</th>\n",
       "      <td>75</td>\n",
       "      <td>6485</td>\n",
       "      <td>1541</td>\n",
       "      <td>54</td>\n",
       "      <td>302</td>\n",
       "      <td>0.0</td>\n",
       "      <td>6</td>\n",
       "    </tr>\n",
       "    <tr>\n",
       "      <th>4230</th>\n",
       "      <td>75</td>\n",
       "      <td>2421</td>\n",
       "      <td>1145</td>\n",
       "      <td>67</td>\n",
       "      <td>537</td>\n",
       "      <td>3.7</td>\n",
       "      <td>63</td>\n",
       "    </tr>\n",
       "  </tbody>\n",
       "</table>\n",
       "<p>4231 rows × 7 columns</p>\n",
       "</div>"
      ],
      "text/plain": [
       "      TITLE  RESTAURANT_ID  CUISINES  CITY  LOCALITY  RATING   VOTES\n",
       "0        23           4085      1293    79       615     4.3   564  \n",
       "1        75          12680      1632    67       202     4.2    61  \n",
       "2        23           1411      1455    67       376     3.8   350  \n",
       "3        66            204       208    29       419     3.8  1445  \n",
       "4        75          13453      1637    54       302     3.6    23  \n",
       "...     ...            ...       ...   ...       ...     ...     ...\n",
       "4226     23           9057      1425    77       551     3.9   287  \n",
       "4227     66           1247       267     6        66     4.3   469  \n",
       "4228     75           8617       679    29       649     3.7    53  \n",
       "4229     75           6485      1541    54       302     0.0     6  \n",
       "4230     75           2421      1145    67       537     3.7    63  \n",
       "\n",
       "[4231 rows x 7 columns]"
      ]
     },
     "execution_count": 349,
     "metadata": {},
     "output_type": "execute_result"
    }
   ],
   "source": [
    "test_df"
   ]
  },
  {
   "cell_type": "markdown",
   "id": "84343724",
   "metadata": {},
   "source": [
    "# 5)Splitting The Dataset Into Feature and Target:"
   ]
  },
  {
   "cell_type": "code",
   "execution_count": 350,
   "id": "6c0bacea",
   "metadata": {},
   "outputs": [],
   "source": [
    "#Importing the neccessary libraries and model for further creation of the model:\n",
    "from sklearn.model_selection import train_test_split\n",
    "from sklearn.metrics import mean_squared_error,mean_absolute_error,r2_score\n",
    "from sklearn.linear_model import LinearRegression\n",
    "from sklearn.preprocessing import StandardScaler\n",
    "from sklearn.ensemble import RandomForestRegressor"
   ]
  },
  {
   "cell_type": "code",
   "execution_count": 351,
   "id": "460a6a03",
   "metadata": {},
   "outputs": [],
   "source": [
    "X=df.drop(columns=[\"COST\"])\n",
    "Y=df[\"COST\"]"
   ]
  },
  {
   "cell_type": "code",
   "execution_count": 352,
   "id": "37ef5035",
   "metadata": {},
   "outputs": [],
   "source": [
    "scaler=StandardScaler()\n",
    "x_scaled=scaler.fit_transform(X)"
   ]
  },
  {
   "cell_type": "markdown",
   "id": "e2f6a482",
   "metadata": {},
   "source": [
    "spliting the data into train and test.Model will be built on training data and tested on test data."
   ]
  },
  {
   "cell_type": "code",
   "execution_count": 353,
   "id": "57213f5d",
   "metadata": {},
   "outputs": [],
   "source": [
    "x_train,x_test,y_train,y_test=train_test_split(x_scaled,Y,test_size=0.2,random_state=2)"
   ]
  },
  {
   "cell_type": "markdown",
   "id": "b5283362",
   "metadata": {},
   "source": [
    "# 1)Linear Regression Model:"
   ]
  },
  {
   "cell_type": "code",
   "execution_count": 354,
   "id": "3669c640",
   "metadata": {},
   "outputs": [
    {
     "data": {
      "text/html": [
       "<style>#sk-container-id-7 {color: black;}#sk-container-id-7 pre{padding: 0;}#sk-container-id-7 div.sk-toggleable {background-color: white;}#sk-container-id-7 label.sk-toggleable__label {cursor: pointer;display: block;width: 100%;margin-bottom: 0;padding: 0.3em;box-sizing: border-box;text-align: center;}#sk-container-id-7 label.sk-toggleable__label-arrow:before {content: \"▸\";float: left;margin-right: 0.25em;color: #696969;}#sk-container-id-7 label.sk-toggleable__label-arrow:hover:before {color: black;}#sk-container-id-7 div.sk-estimator:hover label.sk-toggleable__label-arrow:before {color: black;}#sk-container-id-7 div.sk-toggleable__content {max-height: 0;max-width: 0;overflow: hidden;text-align: left;background-color: #f0f8ff;}#sk-container-id-7 div.sk-toggleable__content pre {margin: 0.2em;color: black;border-radius: 0.25em;background-color: #f0f8ff;}#sk-container-id-7 input.sk-toggleable__control:checked~div.sk-toggleable__content {max-height: 200px;max-width: 100%;overflow: auto;}#sk-container-id-7 input.sk-toggleable__control:checked~label.sk-toggleable__label-arrow:before {content: \"▾\";}#sk-container-id-7 div.sk-estimator input.sk-toggleable__control:checked~label.sk-toggleable__label {background-color: #d4ebff;}#sk-container-id-7 div.sk-label input.sk-toggleable__control:checked~label.sk-toggleable__label {background-color: #d4ebff;}#sk-container-id-7 input.sk-hidden--visually {border: 0;clip: rect(1px 1px 1px 1px);clip: rect(1px, 1px, 1px, 1px);height: 1px;margin: -1px;overflow: hidden;padding: 0;position: absolute;width: 1px;}#sk-container-id-7 div.sk-estimator {font-family: monospace;background-color: #f0f8ff;border: 1px dotted black;border-radius: 0.25em;box-sizing: border-box;margin-bottom: 0.5em;}#sk-container-id-7 div.sk-estimator:hover {background-color: #d4ebff;}#sk-container-id-7 div.sk-parallel-item::after {content: \"\";width: 100%;border-bottom: 1px solid gray;flex-grow: 1;}#sk-container-id-7 div.sk-label:hover label.sk-toggleable__label {background-color: #d4ebff;}#sk-container-id-7 div.sk-serial::before {content: \"\";position: absolute;border-left: 1px solid gray;box-sizing: border-box;top: 0;bottom: 0;left: 50%;z-index: 0;}#sk-container-id-7 div.sk-serial {display: flex;flex-direction: column;align-items: center;background-color: white;padding-right: 0.2em;padding-left: 0.2em;position: relative;}#sk-container-id-7 div.sk-item {position: relative;z-index: 1;}#sk-container-id-7 div.sk-parallel {display: flex;align-items: stretch;justify-content: center;background-color: white;position: relative;}#sk-container-id-7 div.sk-item::before, #sk-container-id-7 div.sk-parallel-item::before {content: \"\";position: absolute;border-left: 1px solid gray;box-sizing: border-box;top: 0;bottom: 0;left: 50%;z-index: -1;}#sk-container-id-7 div.sk-parallel-item {display: flex;flex-direction: column;z-index: 1;position: relative;background-color: white;}#sk-container-id-7 div.sk-parallel-item:first-child::after {align-self: flex-end;width: 50%;}#sk-container-id-7 div.sk-parallel-item:last-child::after {align-self: flex-start;width: 50%;}#sk-container-id-7 div.sk-parallel-item:only-child::after {width: 0;}#sk-container-id-7 div.sk-dashed-wrapped {border: 1px dashed gray;margin: 0 0.4em 0.5em 0.4em;box-sizing: border-box;padding-bottom: 0.4em;background-color: white;}#sk-container-id-7 div.sk-label label {font-family: monospace;font-weight: bold;display: inline-block;line-height: 1.2em;}#sk-container-id-7 div.sk-label-container {text-align: center;}#sk-container-id-7 div.sk-container {/* jupyter's `normalize.less` sets `[hidden] { display: none; }` but bootstrap.min.css set `[hidden] { display: none !important; }` so we also need the `!important` here to be able to override the default hidden behavior on the sphinx rendered scikit-learn.org. See: https://github.com/scikit-learn/scikit-learn/issues/21755 */display: inline-block !important;position: relative;}#sk-container-id-7 div.sk-text-repr-fallback {display: none;}</style><div id=\"sk-container-id-7\" class=\"sk-top-container\"><div class=\"sk-text-repr-fallback\"><pre>LinearRegression()</pre><b>In a Jupyter environment, please rerun this cell to show the HTML representation or trust the notebook. <br />On GitHub, the HTML representation is unable to render, please try loading this page with nbviewer.org.</b></div><div class=\"sk-container\" hidden><div class=\"sk-item\"><div class=\"sk-estimator sk-toggleable\"><input class=\"sk-toggleable__control sk-hidden--visually\" id=\"sk-estimator-id-7\" type=\"checkbox\" checked><label for=\"sk-estimator-id-7\" class=\"sk-toggleable__label sk-toggleable__label-arrow\">LinearRegression</label><div class=\"sk-toggleable__content\"><pre>LinearRegression()</pre></div></div></div></div></div>"
      ],
      "text/plain": [
       "LinearRegression()"
      ]
     },
     "execution_count": 354,
     "metadata": {},
     "output_type": "execute_result"
    }
   ],
   "source": [
    "#Model instantiating and training\n",
    "LR=LinearRegression() \n",
    "LR.fit(x_train,y_train)"
   ]
  },
  {
   "cell_type": "code",
   "execution_count": 355,
   "id": "1af06c0e",
   "metadata": {},
   "outputs": [],
   "source": [
    "#predicting for the x_test \n",
    "ytest_pred=LR.predict(x_test)"
   ]
  },
  {
   "cell_type": "code",
   "execution_count": 356,
   "id": "e31bd1c8",
   "metadata": {},
   "outputs": [],
   "source": [
    "#predicting for the x_train\n",
    "ytrain_pred=LR.predict(x_train)"
   ]
  },
  {
   "cell_type": "code",
   "execution_count": 357,
   "id": "92b27ab0",
   "metadata": {},
   "outputs": [
    {
     "name": "stdout",
     "output_type": "stream",
     "text": [
      "For Traning Score:\n",
      "\n",
      "Mean Absolute Error: 331.93079103774\n",
      "Mean Squared Error: 335886.6171802025\n",
      "Root Mean Squared Error: 579.5572596216896\n",
      "r2_score: 0.15001357724828812\n"
     ]
    }
   ],
   "source": [
    "#Evalaution metrics:\n",
    "print(\"For Traning Score:\\n\")\n",
    "print(\"Mean Absolute Error:\",mean_absolute_error(y_train,ytrain_pred))\n",
    "print(\"Mean Squared Error:\",mean_squared_error(y_train,ytrain_pred))\n",
    "print(\"Root Mean Squared Error:\",np.sqrt(mean_squared_error(y_train,ytrain_pred)))\n",
    "print(\"r2_score:\",r2_score(y_true=y_train,y_pred=ytrain_pred))"
   ]
  },
  {
   "cell_type": "code",
   "execution_count": 358,
   "id": "d3d062ba",
   "metadata": {},
   "outputs": [
    {
     "name": "stdout",
     "output_type": "stream",
     "text": [
      "For Testing Score:\n",
      "\n",
      "Mean Absolute Error: 342.6171643988816\n",
      "Mean Squared Error: 327248.77637681115\n",
      "Root Mean Squared Error: 572.0566199047181\n",
      "r2_score: 0.14959161551817723\n"
     ]
    }
   ],
   "source": [
    "#Evalaution metrics:\n",
    "print(\"For Testing Score:\\n\")\n",
    "print(\"Mean Absolute Error:\",mean_absolute_error(y_test,ytest_pred))\n",
    "print(\"Mean Squared Error:\",mean_squared_error(y_test,ytest_pred))\n",
    "print(\"Root Mean Squared Error:\",np.sqrt(mean_squared_error(y_test,ytest_pred)))\n",
    "print(\"r2_score:\",r2_score(y_true=y_test,y_pred=ytest_pred))"
   ]
  },
  {
   "cell_type": "code",
   "execution_count": null,
   "id": "3850abf4",
   "metadata": {},
   "outputs": [],
   "source": []
  },
  {
   "cell_type": "markdown",
   "id": "2625f9a4",
   "metadata": {},
   "source": [
    "# 2:RANDOM FOREST REGRESSOR"
   ]
  },
  {
   "cell_type": "code",
   "execution_count": 359,
   "id": "e8e083e9",
   "metadata": {},
   "outputs": [
    {
     "data": {
      "text/html": [
       "<style>#sk-container-id-8 {color: black;}#sk-container-id-8 pre{padding: 0;}#sk-container-id-8 div.sk-toggleable {background-color: white;}#sk-container-id-8 label.sk-toggleable__label {cursor: pointer;display: block;width: 100%;margin-bottom: 0;padding: 0.3em;box-sizing: border-box;text-align: center;}#sk-container-id-8 label.sk-toggleable__label-arrow:before {content: \"▸\";float: left;margin-right: 0.25em;color: #696969;}#sk-container-id-8 label.sk-toggleable__label-arrow:hover:before {color: black;}#sk-container-id-8 div.sk-estimator:hover label.sk-toggleable__label-arrow:before {color: black;}#sk-container-id-8 div.sk-toggleable__content {max-height: 0;max-width: 0;overflow: hidden;text-align: left;background-color: #f0f8ff;}#sk-container-id-8 div.sk-toggleable__content pre {margin: 0.2em;color: black;border-radius: 0.25em;background-color: #f0f8ff;}#sk-container-id-8 input.sk-toggleable__control:checked~div.sk-toggleable__content {max-height: 200px;max-width: 100%;overflow: auto;}#sk-container-id-8 input.sk-toggleable__control:checked~label.sk-toggleable__label-arrow:before {content: \"▾\";}#sk-container-id-8 div.sk-estimator input.sk-toggleable__control:checked~label.sk-toggleable__label {background-color: #d4ebff;}#sk-container-id-8 div.sk-label input.sk-toggleable__control:checked~label.sk-toggleable__label {background-color: #d4ebff;}#sk-container-id-8 input.sk-hidden--visually {border: 0;clip: rect(1px 1px 1px 1px);clip: rect(1px, 1px, 1px, 1px);height: 1px;margin: -1px;overflow: hidden;padding: 0;position: absolute;width: 1px;}#sk-container-id-8 div.sk-estimator {font-family: monospace;background-color: #f0f8ff;border: 1px dotted black;border-radius: 0.25em;box-sizing: border-box;margin-bottom: 0.5em;}#sk-container-id-8 div.sk-estimator:hover {background-color: #d4ebff;}#sk-container-id-8 div.sk-parallel-item::after {content: \"\";width: 100%;border-bottom: 1px solid gray;flex-grow: 1;}#sk-container-id-8 div.sk-label:hover label.sk-toggleable__label {background-color: #d4ebff;}#sk-container-id-8 div.sk-serial::before {content: \"\";position: absolute;border-left: 1px solid gray;box-sizing: border-box;top: 0;bottom: 0;left: 50%;z-index: 0;}#sk-container-id-8 div.sk-serial {display: flex;flex-direction: column;align-items: center;background-color: white;padding-right: 0.2em;padding-left: 0.2em;position: relative;}#sk-container-id-8 div.sk-item {position: relative;z-index: 1;}#sk-container-id-8 div.sk-parallel {display: flex;align-items: stretch;justify-content: center;background-color: white;position: relative;}#sk-container-id-8 div.sk-item::before, #sk-container-id-8 div.sk-parallel-item::before {content: \"\";position: absolute;border-left: 1px solid gray;box-sizing: border-box;top: 0;bottom: 0;left: 50%;z-index: -1;}#sk-container-id-8 div.sk-parallel-item {display: flex;flex-direction: column;z-index: 1;position: relative;background-color: white;}#sk-container-id-8 div.sk-parallel-item:first-child::after {align-self: flex-end;width: 50%;}#sk-container-id-8 div.sk-parallel-item:last-child::after {align-self: flex-start;width: 50%;}#sk-container-id-8 div.sk-parallel-item:only-child::after {width: 0;}#sk-container-id-8 div.sk-dashed-wrapped {border: 1px dashed gray;margin: 0 0.4em 0.5em 0.4em;box-sizing: border-box;padding-bottom: 0.4em;background-color: white;}#sk-container-id-8 div.sk-label label {font-family: monospace;font-weight: bold;display: inline-block;line-height: 1.2em;}#sk-container-id-8 div.sk-label-container {text-align: center;}#sk-container-id-8 div.sk-container {/* jupyter's `normalize.less` sets `[hidden] { display: none; }` but bootstrap.min.css set `[hidden] { display: none !important; }` so we also need the `!important` here to be able to override the default hidden behavior on the sphinx rendered scikit-learn.org. See: https://github.com/scikit-learn/scikit-learn/issues/21755 */display: inline-block !important;position: relative;}#sk-container-id-8 div.sk-text-repr-fallback {display: none;}</style><div id=\"sk-container-id-8\" class=\"sk-top-container\"><div class=\"sk-text-repr-fallback\"><pre>RandomForestRegressor()</pre><b>In a Jupyter environment, please rerun this cell to show the HTML representation or trust the notebook. <br />On GitHub, the HTML representation is unable to render, please try loading this page with nbviewer.org.</b></div><div class=\"sk-container\" hidden><div class=\"sk-item\"><div class=\"sk-estimator sk-toggleable\"><input class=\"sk-toggleable__control sk-hidden--visually\" id=\"sk-estimator-id-8\" type=\"checkbox\" checked><label for=\"sk-estimator-id-8\" class=\"sk-toggleable__label sk-toggleable__label-arrow\">RandomForestRegressor</label><div class=\"sk-toggleable__content\"><pre>RandomForestRegressor()</pre></div></div></div></div></div>"
      ],
      "text/plain": [
       "RandomForestRegressor()"
      ]
     },
     "execution_count": 359,
     "metadata": {},
     "output_type": "execute_result"
    }
   ],
   "source": [
    "#Model instantiating and training\n",
    "RFR=RandomForestRegressor()\n",
    "RFR.fit(x_train,y_train)"
   ]
  },
  {
   "cell_type": "code",
   "execution_count": 360,
   "id": "23b3fa42",
   "metadata": {},
   "outputs": [],
   "source": [
    "#predicting for the x_test \n",
    "ytest_pred=RFR.predict(x_test)"
   ]
  },
  {
   "cell_type": "code",
   "execution_count": 361,
   "id": "171e0fea",
   "metadata": {},
   "outputs": [],
   "source": [
    "#predicting for the x_train\n",
    "y_train_pred=RFR.predict(x_train)"
   ]
  },
  {
   "cell_type": "code",
   "execution_count": 362,
   "id": "071ce2a5",
   "metadata": {},
   "outputs": [
    {
     "name": "stdout",
     "output_type": "stream",
     "text": [
      "For Traning Score:\n",
      "\n",
      "Mean Absolute Error: 331.93079103774\n",
      "Mean Squared Error: 335886.6171802025\n",
      "Root Mean Squared Error: 579.5572596216896\n",
      "r2_score: 0.15001357724828812\n"
     ]
    }
   ],
   "source": [
    "#Evalaution metrics:\n",
    "print(\"For Traning Score:\\n\")\n",
    "print(\"Mean Absolute Error:\",mean_absolute_error(y_train,ytrain_pred))\n",
    "print(\"Mean Squared Error:\",mean_squared_error(y_train,ytrain_pred))\n",
    "print(\"Root Mean Squared Error:\",np.sqrt(mean_squared_error(y_train,ytrain_pred)))\n",
    "print(\"r2_score:\",r2_score(y_true=y_train,y_pred=ytrain_pred))"
   ]
  },
  {
   "cell_type": "code",
   "execution_count": 363,
   "id": "d90ef795",
   "metadata": {},
   "outputs": [
    {
     "name": "stdout",
     "output_type": "stream",
     "text": [
      "For Testing Score:\n",
      "\n",
      "Mean Absolute Error:  193.17493695823484\n",
      "Mean Squared Error:  103365.1116503152\n",
      "Root Mean Squared Error:  321.5044504362501\n",
      "r2_score:  0.7313891939228758\n"
     ]
    }
   ],
   "source": [
    "#Evalaution metrics:\n",
    "print(\"For Testing Score:\\n\")\n",
    "print(\"Mean Absolute Error: \",mean_absolute_error(y_test,ytest_pred))\n",
    "print(\"Mean Squared Error: \",mean_squared_error(y_test,ytest_pred))\n",
    "print(\"Root Mean Squared Error: \",np.sqrt(mean_squared_error(y_test,ytest_pred)))\n",
    "print(\"r2_score: \",r2_score(y_true=y_test,y_pred=ytest_pred))"
   ]
  },
  {
   "cell_type": "code",
   "execution_count": null,
   "id": "e1ddca8d",
   "metadata": {},
   "outputs": [],
   "source": []
  },
  {
   "cell_type": "markdown",
   "id": "573ba4f1",
   "metadata": {},
   "source": [
    "# 6)Build a predictive model:"
   ]
  },
  {
   "cell_type": "code",
   "execution_count": 364,
   "id": "549b43ab",
   "metadata": {},
   "outputs": [],
   "source": [
    "test_data=scaler.fit_transform(test_df)#performing standardisation"
   ]
  },
  {
   "cell_type": "code",
   "execution_count": 365,
   "id": "0f26f1ee",
   "metadata": {},
   "outputs": [],
   "source": [
    "cost_prediction=RFR.predict(test_data)#using random forest regressor"
   ]
  },
  {
   "cell_type": "code",
   "execution_count": 366,
   "id": "088ff0ed",
   "metadata": {},
   "outputs": [
    {
     "data": {
      "text/plain": [
       "array([1188.5,  331.8,  664.8, ...,  368. ,  568. ,  338. ])"
      ]
     },
     "execution_count": 366,
     "metadata": {},
     "output_type": "execute_result"
    }
   ],
   "source": [
    "#Testing the values\n",
    "cost_prediction"
   ]
  },
  {
   "cell_type": "code",
   "execution_count": 367,
   "id": "2df3a740",
   "metadata": {},
   "outputs": [],
   "source": [
    "#creating a dataframe\n",
    "COST=pd.DataFrame({\n",
    "    \"COST\":cost_prediction\n",
    "})"
   ]
  },
  {
   "cell_type": "code",
   "execution_count": 368,
   "id": "98e23265",
   "metadata": {},
   "outputs": [],
   "source": [
    "COST.to_csv(\"cost.csv\")"
   ]
  },
  {
   "cell_type": "code",
   "execution_count": 369,
   "id": "7e4fa075",
   "metadata": {},
   "outputs": [],
   "source": [
    "#To convert into csv\n",
    "pred=pd.read_csv(\"cost.csv\")"
   ]
  },
  {
   "cell_type": "code",
   "execution_count": 370,
   "id": "f446517a",
   "metadata": {},
   "outputs": [
    {
     "data": {
      "text/html": [
       "<div>\n",
       "<style scoped>\n",
       "    .dataframe tbody tr th:only-of-type {\n",
       "        vertical-align: middle;\n",
       "    }\n",
       "\n",
       "    .dataframe tbody tr th {\n",
       "        vertical-align: top;\n",
       "    }\n",
       "\n",
       "    .dataframe thead th {\n",
       "        text-align: right;\n",
       "    }\n",
       "</style>\n",
       "<table border=\"1\" class=\"dataframe\">\n",
       "  <thead>\n",
       "    <tr style=\"text-align: right;\">\n",
       "      <th></th>\n",
       "      <th>COST</th>\n",
       "    </tr>\n",
       "  </thead>\n",
       "  <tbody>\n",
       "    <tr>\n",
       "      <th>0</th>\n",
       "      <td>1188.5</td>\n",
       "    </tr>\n",
       "    <tr>\n",
       "      <th>1</th>\n",
       "      <td>331.8</td>\n",
       "    </tr>\n",
       "    <tr>\n",
       "      <th>2</th>\n",
       "      <td>664.8</td>\n",
       "    </tr>\n",
       "    <tr>\n",
       "      <th>3</th>\n",
       "      <td>1494.0</td>\n",
       "    </tr>\n",
       "    <tr>\n",
       "      <th>4</th>\n",
       "      <td>382.0</td>\n",
       "    </tr>\n",
       "    <tr>\n",
       "      <th>...</th>\n",
       "      <td>...</td>\n",
       "    </tr>\n",
       "    <tr>\n",
       "      <th>4226</th>\n",
       "      <td>724.0</td>\n",
       "    </tr>\n",
       "    <tr>\n",
       "      <th>4227</th>\n",
       "      <td>1648.0</td>\n",
       "    </tr>\n",
       "    <tr>\n",
       "      <th>4228</th>\n",
       "      <td>368.0</td>\n",
       "    </tr>\n",
       "    <tr>\n",
       "      <th>4229</th>\n",
       "      <td>568.0</td>\n",
       "    </tr>\n",
       "    <tr>\n",
       "      <th>4230</th>\n",
       "      <td>338.0</td>\n",
       "    </tr>\n",
       "  </tbody>\n",
       "</table>\n",
       "<p>4231 rows × 1 columns</p>\n",
       "</div>"
      ],
      "text/plain": [
       "        COST\n",
       "0     1188.5\n",
       "1      331.8\n",
       "2      664.8\n",
       "3     1494.0\n",
       "4      382.0\n",
       "...      ...\n",
       "4226   724.0\n",
       "4227  1648.0\n",
       "4228   368.0\n",
       "4229   568.0\n",
       "4230   338.0\n",
       "\n",
       "[4231 rows x 1 columns]"
      ]
     },
     "execution_count": 370,
     "metadata": {},
     "output_type": "execute_result"
    }
   ],
   "source": [
    "#Displaying the column\n",
    "COST"
   ]
  },
  {
   "cell_type": "code",
   "execution_count": null,
   "id": "605392be",
   "metadata": {},
   "outputs": [],
   "source": []
  },
  {
   "cell_type": "code",
   "execution_count": 371,
   "id": "80aa58e5",
   "metadata": {},
   "outputs": [],
   "source": [
    "#End of the project"
   ]
  },
  {
   "cell_type": "code",
   "execution_count": null,
   "id": "26ab65e8",
   "metadata": {},
   "outputs": [],
   "source": []
  }
 ],
 "metadata": {
  "kernelspec": {
   "display_name": "Python 3 (ipykernel)",
   "language": "python",
   "name": "python3"
  },
  "language_info": {
   "codemirror_mode": {
    "name": "ipython",
    "version": 3
   },
   "file_extension": ".py",
   "mimetype": "text/x-python",
   "name": "python",
   "nbconvert_exporter": "python",
   "pygments_lexer": "ipython3",
   "version": "3.11.4"
  }
 },
 "nbformat": 4,
 "nbformat_minor": 5
}
